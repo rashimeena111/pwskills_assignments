{
  "nbformat": 4,
  "nbformat_minor": 0,
  "metadata": {
    "colab": {
      "provenance": [],
      "authorship_tag": "ABX9TyPHyOXo4GvtMt8A+XOR04mr",
      "include_colab_link": true
    },
    "kernelspec": {
      "name": "python3",
      "display_name": "Python 3"
    },
    "language_info": {
      "name": "python"
    }
  },
  "cells": [
    {
      "cell_type": "markdown",
      "metadata": {
        "id": "view-in-github",
        "colab_type": "text"
      },
      "source": [
        "<a href=\"https://colab.research.google.com/github/rashimeena111/pwskills_assignments/blob/main/Statistics_Part_2.ipynb\" target=\"_parent\"><img src=\"https://colab.research.google.com/assets/colab-badge.svg\" alt=\"Open In Colab\"/></a>"
      ]
    },
    {
      "cell_type": "markdown",
      "source": [
        "##**THEORY QUES\n",
        "\n",
        "## **QUES 1) What is hypothesis testing in statistics?**\n",
        "ANS\n",
        "\n",
        "Hypothesis testing is a statistical technique used to evaluate a hypothesis about a population parameter based on a sample of data. It involves making an educated guess about the population parameter and then testing that guess using statistical methods.\n",
        "\n",
        "Types of Hypothesis Tests\n",
        "1. One-tailed test: A test used to determine if there is a significant difference in one direction.\n",
        "2. Two-tailed test: A test used to determine if there is a significant difference in either direction.\n",
        "\n",
        "\n",
        "##**QUES 2)  What is the null hypothesis, and how does it differ from the alternative hypothesis**\n",
        "\n",
        "ANS\n",
        "\n",
        "Null Hypothesis (H₀): A statement that declares the existence of no effect, difference, or relation in a certain population is said to be the null hypothesis. It describes \"no change\" or \"no relationship.\" Most of the times, researchers look to null hypotheses to deny them or prove otherwise. For example,in a drug efficacy test, the null hypothesis might state that the drug has no effect on patients compared to a placebo.\n",
        "\n",
        "\n",
        "The alternative hypothesis is often denoted as H1 and is typically a statement of \"an effect\" or \"a difference.\"\n",
        "\n",
        "Key differences\n",
        "1. Purpose: The null hypothesis is tested for possible rejection, while the alternative hypothesis is accepted if the null hypothesis is rejected.\n",
        "2. Statement: The null hypothesis is a statement of \"no effect\" or \"no difference,\" while the alternative hypothesis is a statement of \"an effect\" or \"a difference.\"\n",
        "3. Burden of proof: The burden of proof lies with the alternative hypothesis, as it must provide sufficient evidence to reject the null hypothesis.\n",
        "\n",
        "\n",
        "##**QUES 3) What is the significance level in hypothesis testing, and why is it important**\n",
        "\n",
        "ANS\n",
        "\n",
        "\n",
        "The significance level (α) is the probability of rejecting the null hypothesis (H 0 ) if it were actually true; that is, the type I error rate. The threshold for statistical significance in hypothesis testing is set by the chosen level for α.\n",
        "\n",
        "- Controls Type I Error: A lower α reduces false positives (incorrectly rejecting H 0 ).\n",
        "\n",
        "- Determines p-value Comparison: If p-value < α, reject H 0; otherwise, fail to reject H 0.\n",
        "\n",
        "- Balances Risk: Lower α makes results more reliable but increases the risk of Type II error (failing to reject a falseH 0).\n",
        "\n",
        "\n",
        " ## **QUES 4) What does a P-value represent in hypothesis testing?**\n",
        "\n",
        "\n",
        "ANS\n",
        "\n",
        "- P value is probability value that is useful in calculating the statictical test, correspondonf to Z score of a sample .\n",
        "\n",
        "- It helps in deciding whether to reject the null hypothesis or fail to reject it .\n",
        "\n",
        "- P value can be calculated through table .\n",
        "\n",
        "## **QUES 5) How do you interpret the P-value in hypothesis testing**\n",
        "ANS\n",
        "\n",
        "In hypothesis testing, the p-value indicates the strength of evidence against the null hypothesis (H0).\n",
        "\n",
        "- p-value < α (e.g., 0.05): There is strong evidence against H0, so you reject H0.\n",
        "\n",
        "- p-value ≥α: There is insufficient evidence against H0, so you fail to reject H0.\n",
        "​\n",
        "\n",
        "##**QUES 6)  What are Type 1 and Type 2 errors in hypothesis testing**\n",
        "ANS\n",
        "\n",
        "- Type 1 error : Rejecting the null hypothesis when it is actually true is called Type 1 error. example :- A innocent person charged for a crime and in the court he is convicted. It state that you are supporting alternate hypothesis .\n",
        "\n",
        "- Type 2 error : Fail to reject the null hypothesis when it is False is called Type 2 error. example :- A guilty person charged for a crime and in the court he is not proved as guilty. It state that you are supporting null hypothesis .\n",
        "\n",
        "\n",
        "##**QUES 7) What is the difference between a one-tailed and a two-tailed test in hypothesis testing**\n",
        "ANS\n",
        "\n",
        "One-Tailed Test\n",
        "1. Definition: Tests for a specific direction of the effect (either greater than or less than a certain value).\n",
        "\n",
        "2. Alternative Hypothesis (Ha): Specifies the direction of the difference.\n",
        "Example= 𝐻𝑎:𝜇>𝜇0 (testing if the mean is greater than the hypothesized value) OR Ha:μ<μ0(testing if the mean is less than the hypothesized value).\n",
        "\n",
        "3. Use Case: When you only care about the effect in one direction.\n",
        "Significance Area: All the rejection region is in one tail (left or right).\n",
        "\n",
        "4. Significance Area: All the rejection region is in one tail (left or right).\n",
        "\n",
        "\n",
        "Two-Tailed Test\n",
        "1. Definition: Tests for a difference in either direction (greater than or less than).\n",
        "\n",
        "2. Alternative Hypothesis (Ha): Does not specify the direction of the difference.\n",
        "   Example: 𝐻𝑎:𝜇≠𝜇0(testing if the mean is different, either greater or less).\n",
        "3. Use Case: When you want to detect any significant deviation, regardless of direction.\n",
        "\n",
        "4. Significance Area: Rejection regions are split between the two tails (both left and right).\n",
        "\n",
        "\n",
        "##**QUES 8) What is the Z-test, and when is it used in hypothesis testing**\n",
        "\n",
        "ANS\n",
        "\n",
        "The Z-test is a statistical test used to determine whether there is a significant difference between the sample mean and the population mean (or between two sample means), particularly when the population is normally distributed, and the sample size is large.\n",
        "\n",
        "It is Used when -\n",
        "1. Large Sample Size: Typically, the Z-test is used when the sample size (n) is large (usually 𝑛>30).\n",
        "2. Known Population Standard Deviation: It is used when the population standard deviation (σ) is known.\n",
        "3. Normal Distribution: The Z-test assumes the data follows a normal distribution.\n",
        "\n",
        "##**QUES 9) How do you calculate the Z-score, and what does it represent in hypothesis testing**\n",
        "\n",
        "ANS\n",
        "\n",
        "The Z-score measures how many standard deviations a data point (or sample mean) is away from the population mean. It's calculated using the formula:\n",
        "\n",
        "      Z= data point(X)-miu / (standard dev/root n)\n",
        "\n",
        "The Z-score tells you how far, in terms of standard deviations, the sample mean is from the population mean. It helps in hypothesis testing by determining how unusual or extreme the observed sample mean is compared to the population mean.\n",
        "\n",
        "- Z-score = 0: The sample mean is exactly equal to the population mean.\n",
        "- Z-score > 0: The sample mean is greater than the population mean.\n",
        "- Z-score < 0: The sample mean is less than the population mean.\n",
        "\n",
        "##**QUES 10) What is the T-distribution, and when should it be used instead of the normal distribution**\n",
        "ANS\n",
        "\n",
        "The T-distribution (also known as Student's t-distribution) is a probability distribution that is similar to the normal distribution but has thicker tails. It is used in statistics primarily when dealing with smaller sample sizes and when the population standard deviation is unknown.\n",
        "\n",
        "It should be used when\n",
        "\n",
        "1. Small Sample Sizes: When the sample size is small (usually 𝑛<30), the T-distribution is used because the estimate of the population standard deviation is less reliable. The normal distribution assumes you know the population standard deviation, which is often not the case with small samples.\n",
        "\n",
        "2. Unknown Population Standard Deviation: The T-distribution is ideal when the population standard deviation is not known and needs to be estimated from the sample.\n",
        "\n",
        "3. When the sample size is large, and the population standard deviation is known, the normal distribution can be used.\n",
        "\n",
        "##**QUES 11)What is the difference between a Z-test and a T-test**\n",
        "ANS\n",
        "\n",
        "The difference between a Z-test and a T-test depends upon two things: sample size and whether you know the population standard deviation.\n",
        "\n",
        "-  Z-test is used when the sample size is large (usually over 30), and you know the population standard deviation whereas, T-test is typically used when the sample size is small (under 30) or when you don’t know the population standard deviation, and instead, you have to estimate it from your sample.\n",
        "\n",
        "- Z-test: The test statistic is calculated as:\n",
        "      \n",
        "          Z= data point(X)-miu / (population standard dev/root n)\n",
        "\n",
        "- T-test: The test statistic is calculated as\n",
        "\n",
        "          T= data point(X)-miu / (sample stand. dev /root n)\n",
        "\n",
        "- Z-test: Used when the population standard deviation is known and for larger samples.\n",
        "  - T-test: Used when the population standard deviation is unknown and for smaller samples.\n",
        "\n",
        "##**QUES 12)What is the T-test, and how is it used in hypothesis testing**\n",
        "\n",
        "ANS\n",
        "\n",
        "\n",
        "The T-test is a statistical test used to determine if there is a significant difference between the means of two groups or a sample mean and a population mean. It is most commonly used when the sample size is small (n ≤ 30) and/or the population standard deviation is unknown. The T-test compares the observed data to a null hypothesis to assess whether any difference is statistically significant.\n",
        "\n",
        "\n",
        "It is used in hypothesis testing :-\n",
        "\n",
        "1.State the hypotheses:\n",
        "Null hypothesis (H₀): States that there is no significant difference between the groups or values being compared (e.g., the means are equal).\n",
        "Alternative hypothesis (H₁): States that there is a significant difference (e.g., the means are not equal).\n",
        "\n",
        "2.Set the significance level (α): The significance level is typically set to 0.05 (5%), meaning there is a 5% chance of rejecting the null hypothesis when it is actually true.\n",
        "\n",
        "3.Calculate the test statistic: The formula for the T-test statistic varies based on the type of T-test being used, but it generally follows this formula:\n",
        "\n",
        "         T= data point(X)-miu / (sample stand. dev /root n)\n",
        "\n",
        "4.Determine the degrees of freedom (df):For a one-sample T-test:\n",
        "df=n−1\n",
        "\n",
        "5.Find the critical value (or p-value): Use a T-distribution table or statistical software to find the critical t-value for test based on the degrees of freedom and the significance level (α). OR compute the p-value, which represents the probability of observing the data if the null hypothesis is true.\n",
        "\n",
        "6.Make a decision:\n",
        "- If the calculated t-value is greater than the critical value (or the p-value is less than α), reject the null hypothesis and conclude that there is a significant difference between the groups.\n",
        "\n",
        "- If the calculated t-value is less than the critical value (or the p-value is greater than α), fail to reject the null hypothesis, indicating that there is not enough evidence to support a significant difference.\n",
        "\n",
        "##**QUES 13)What is the relationship between Z-test and T-test in hypothesis testing**\n",
        "ANS\n",
        "\n",
        "The Z-test and T-test are both statistical tests used in hypothesis testing to assess whether there is a significant difference between sample data and a population parameter (such as the population mean). The primary difference between them lies in the assumptions made about the population and the nature of the data. Despite their differences, they are closely related and are used in similar contexts, but under different conditions.\n",
        "\n",
        "Relationship between Z-test and T-test:\n",
        "1. Purpose:\n",
        "  - Both the Z-test and T-test are used to test hypotheses about\n",
        "    the population mean (or the difference between means) based on sample data.\n",
        "  - Both tests evaluate the difference between the sample mean (𝑥 bar)\n",
        "    and the population mean (𝜇) relative to the variability in the sample, often using similar formulas.\n",
        "\n",
        "2. Z-test:\n",
        "  - Preferred when:The sample size is large (n > 30).\n",
        "  - The population standard deviation (σ) is known.\n",
        "  - The underlying data is approximately normally distributed (though\n",
        "    for large n, the Z-test can still be used due to the Central Limit Theorem).\n",
        "\n",
        "  T-test:\n",
        "  - Preferred when: The sample size is small (n ≤ 30).\n",
        "  - The population standard deviation (σ) is unknown.\n",
        "  - The data may or may not follow a normal distribution, but\n",
        "    especially when the data is likely to be skewed or has outliers (since the T-distribution handles this uncertainty well).\n",
        "\n",
        "3. Critical Value and Degrees of Freedom:\n",
        "  - Z-test: The critical value is determined using the standard normal\n",
        "    distribution (Z-distribution) and does not require degrees of freedom.\n",
        "  - T-test: The critical value is determined using the T-distribution,\n",
        "   and it is influenced by the degrees of freedom (df), which is typically calculated as 𝑛-1\n",
        "\n",
        "\n",
        "##**QUES 14)  What is a confidence interval, and how is it used to interpret statistical results**\n",
        "ANS\n",
        "\n",
        "A confidence interval is a range of values, derived from sample data, that is used to estimate an unknown population parameter (such as the population mean). The interval provides an estimated range of values within which the true parameter is likely to fall, with a certain level of confidence.FOR example:- 150-170 cm is confidence range for the girls height in India.\n",
        "\n",
        "Formula for Confidence Interval (for a population mean):\n",
        "The formula for a confidence interval for the mean when the population standard deviation is known (using a Z-distribution) is:\n",
        "\n",
        "         _\n",
        "     CI= x ±Zα/2 × σ/root n\n",
        "- Interpretation of Confidence Interval:\n",
        "  A confidence interval provides a range of plausible values for the population parameter, but it doesn't guarantee that the true parameter is within the interval. It simply reflects the uncertainty or variability in the estimate.\n",
        "  for ex: if one provide confidence range of value (40-50 kg) for the weight of population then he/she can claim 95% that the mean is true and rest 5% chance are there the mean may lies oustside the range as well .\n",
        "\n",
        "\n",
        "\n",
        "##**QUES 15)What is the margin of error, and how does it affect the confidence interval**\n",
        "ANS\n",
        "\n",
        "The margin of error is the amount of uncertainty or potential error in the estimate of a population parameter, and it is a critical component in constructing a confidence interval. The margin of error reflects the range within which the true value of the parameter is likely to fall, given the sample data and the chosen confidence level.\n",
        "\n",
        "Margin of Error Affects the Confidence Interval\n",
        "\n",
        "- Wider Interval (Higher Margin of Error): A larger margin of error results in a wider confidence interval. This means the estimate of the population parameter is less precise, and there is greater uncertainty about where the true parameter lies.\n",
        "\n",
        "This typically happens when the sample size is small, the standard deviation is large, or the confidence level is high.\n",
        "\n",
        "- Narrower Interval (Lower Margin of Error):A smaller margin of error results in a narrower confidence interval, indicating more precision in the estimate. The true population parameter is more likely to be within this narrower range.\n",
        "\n",
        "This usually happens when the sample size is large, the standard deviation is small, or the confidence level is lower.\n",
        "\n",
        "##**QUES 16)How is Bayes' Theorem used in statistics, and what is its significance**\n",
        "ANS\n",
        "\n",
        "\n",
        "Bayes' Theorem is a fundamental concept in probability and statistics that describes how to update the probability of a hypothesis based on new evidence. It provides a way to revise existing beliefs in light of new data, and it plays a crucial role in statistical inference, decision-making, and various machine learning algorithms.\n",
        "\n",
        "Bayes' Theorem Formula:\n",
        "The formula for Bayes' Theorem is:\n",
        "\n",
        "    P(A/B)=P(B/A) x P(A)/P(B)\n",
        "\n",
        "\n",
        "Bayes' Theorem is used in statistics to update our beliefs about a hypothesis as new data or evidence becomes available. This is particularly important in situations where we don't have complete information initially and need to refine our understanding over time.\n",
        "\n",
        "Significance of Bayes' Theorem:\n",
        "\n",
        "- Incorporation of Prior Knowledge:One of the key strengths of Bayes'  \n",
        "  Theorem is its ability to incorporate prior knowledge or beliefs  \n",
        "  (prior probabilities) into the analysis. This is particularly useful when data is sparse or when we have historical data or expert opinion that can inform our analysis.\n",
        "  By adjusting beliefs with new evidence, it allows for continuous updating, which is essential in dynamic environments.\n",
        "\n",
        "- Flexibility: Unlike frequentist methods, which typically require\n",
        "  fixed assumptions about the data and models, Bayes' Theorem is flexible and allows for more adaptive learning. For example, Bayesian methods can be used when the model parameters are unknown or uncertain, as they provide a way to quantify uncertainty in the model parameters.\n",
        "\n",
        "##**QUES 17)What is the Chi-square distribution, and when is it used**\n",
        "ANS\n",
        "\n",
        "The Chi-square distribution is a continuous probability distribution that is widely used in statistics, particularly in hypothesis testing and goodness-of-fit tests. It is a special case of the gamma distribution and is used to model the distribution of the sum of the squares of independent standard normal variables.\n",
        "\n",
        "Chi-square Distribution Used when:-\n",
        "\n",
        "- Goodness-of-Fit Test:One of the most common uses of the Chi-square\n",
        "  distribution is in the goodness-of-fit test, which is used to determine if a sample data fits a specified distribution. In this case, the observed frequencies (data) are compared to expected frequencies (theoretical model), and the Chi-square test statistic is calculated.\n",
        "\n",
        "The formula for the Chi-square statistic in this context is:\n",
        "\n",
        "    chi= sum(Observed - Expected)/Expected frequency\n",
        "\n",
        "- Test of Independence (Contingency Tables): The Chi-square test is\n",
        "  also used to assess the independence of two categorical variables in a contingency table. The test compares the observed frequencies in each cell of the table with the expected frequencies under the assumption of independence.\n",
        "\n",
        "- Test for Homogeneity:The Chi-square test can be used to determine\n",
        "  whether different populations have the same distribution for a categorical variable. This is similar to the test of independence but applies to multiple populations.\n",
        "\n",
        "\n",
        "##**QUES 18) What is the Chi-square goodness of fit test, and how is it applied**\n",
        "\n",
        "ANS\n",
        "\n",
        "The Chi-square goodness of fit test is a statistical test used to determine if a sample data set matches an expected probability distribution. It compares the observed frequencies (actual data) with the expected frequencies (theoretical model) for categorical variables. This test is often used to evaluate whether a sample comes from a population that follows a specific distribution, such as uniform, normal, or any other known distribution.\n",
        "\n",
        "Steps to Apply the Chi-Square Goodness of Fit Test:\n",
        "\n",
        "1. State the Hypotheses:\n",
        "   Null Hypothesis (H₀): The observed data fits the expected distribution. In other words, the frequencies are consistent with the expected values.\n",
        "   Alternative Hypothesis (H₁): The observed data does not fit the expected distribution. The frequencies differ significantly from the expected values.\n",
        "2. Determine the Expected Frequencies:\n",
        "   The expected frequency for each category is usually determined based on a theoretical or known distribution.\n",
        "3. Calculate the Chi-Square Statistic:\n",
        "   Use the formula to compute the Chi-square statistic. The sum is over all the categories of the data, where you subtract the expected frequency from the observed frequency, square the difference, and divide by the expected frequency.\n",
        "\n",
        "4. Determine the Degrees of Freedom (df):\n",
        "   The degrees of freedom for the Chi-square goodness of fit test is given by:  df=k−1\n",
        "\n",
        "5. Find the Critical Value:\n",
        "   Use the Chi-square distribution table (or statistical software) to find the critical value corresponding to the desired level of significance (e.g., 0.05) and the degrees of freedom (df).\n",
        "6. Make a Decision:\n",
        "   If χ2 statistic > critical value: Reject the null hypothesis, indicating that the observed data does not fit the expected distribution.\n",
        "   \n",
        "   If χ2 statistic ≤ critical value: Fail to reject the null hypothesis, indicating that the observed data does fit the expected distribution.\n",
        "\n",
        "##**QUES 19) What is the F-distribution, and when is it used in hypothesis testing**\n",
        "ANS\n",
        "\n",
        "The F-distribution is a continuous probability distribution that arises frequently in the context of variance analysis. It is used primarily in hypothesis testing for comparing two variances or assessing the goodness of fit in models with multiple factors. The distribution is named after Ronald A. Fisher, who developed it in the early 20th century.\n",
        "\n",
        "\n",
        "The F-distribution is primarily used in the following hypothesis testing contexts:\n",
        "\n",
        "- Testing the Equality of Variances (F-Test):The most common use of  \n",
        "  the F-distribution is to compare the variances of two populations. This is known as the F-test for equality of variances.\n",
        "  \n",
        "  The null hypothesis (H0) is that the two variances are equal, while the alternative hypothesis (H1) suggests that the variances are not equal.\n",
        "\n",
        " The test statistic is calculated by taking the ratio of the sample variances from two groups:\n",
        "\n",
        "             F= S1^2/S2^2\n",
        "\n",
        "where s1 and s2 are the sample variances from the two groups.\n",
        "\n",
        "- If the calculated F-statistic is larger than the critical value from the F-distribution table, we reject the null hypothesis, concluding that the variances are significantly different.\n",
        "\n",
        "##**QUES 20) What is an ANOVA test, and what are its assumptions**\n",
        "ANS\n",
        "\n",
        "An ANOVA (Analysis of Variance) test is a statistical method used to compare the means of three or more groups to determine if there are any statistically significant differences between them. ANOVA tests whether the means of the groups are equal by analyzing the variance within each group and between the groups.\n",
        "\n",
        "ASSUMPTIONS:\n",
        "\n",
        "- The observations within each group must be independent of each  \n",
        "  other. This means that the data points in one group should not influence the data points in another group.\n",
        "\n",
        "- The data within each group should be approximately normally\n",
        "  distributed. If the sample size is large enough (typicallyn≥30), the central limit theorem suggests that the means will be approximately normal, even if the data itself is not strictly normal.\n",
        "\n",
        "\n",
        "- The variances of the groups should be approximately equal. This is\n",
        "  also known as the assumption of homoscedasticity. If the variances are significantly different, the results of ANOVA might not be valid.\n",
        "\n",
        "- The data should be randomly sampled from the populations of  \n",
        "  interest. This helps ensure that the sample is representative and that the results can be generalized.\n",
        "  \n",
        "##**QUES 21) What are the different types of ANOVA tests**\n",
        "ANS\n",
        "\n",
        "There are several types of ANOVA (Analysis of Variance) tests, each suited to different research designs and hypotheses. The main types of ANOVA tests include:\n",
        "\n",
        "1. One-Way ANOVA (Single-Factor ANOVA): Used when you have one independent variable (factor) with three or more levels (groups) and want to compare their means.\n",
        "\n",
        "2. Two-Way ANOVA (Two-Factor ANOVA):Used when you have two independent variables (factors) and want to analyze their individual and interactive effects on a dependent variable.\n",
        "\n",
        "3. Repeated Measures ANOVA: Used when you have two factors and repeated measurements taken on the same subjects (i.e., a repeated measure design).\n",
        "\n",
        "\n",
        "##**QUES 22)What is the F-test, and how does it relate to hypothesis testing?**\n",
        "ANS\n",
        "\n",
        "F-test is a statistical test used to compare the variances of two or more groups and determine whether there are significant differences in their variances. It is used in several contexts, such as in the context of ANOVA (Analysis of Variance), to test if the means of different groups are equal, or in regression analysis, to test the overall significance of the model.\n",
        "\n",
        "The F-test statistic is the ratio of two variances and follows an F-distribution, which is a right-skewed distribution used for testing hypotheses about variances.\n",
        "\n",
        "\n",
        "- Formula for the F-statistic:\n",
        "  The F-statistic is calculated as:\n",
        "\n",
        "      𝐹= (Variance Within Groups / Variance Between Groups)\n",
        "​\n",
        "Hypothesis Testing Steps (ANOVA using the F-test):\n",
        "\n",
        "\n",
        "1. Calculate the F-statistic: The F-statistic is computed by dividing the variance between the groups (MSB) by the variance within the groups (MSW). If the means are equal, we expect the variability between the groups to be small relative to the variability within the groups.\n",
        "\n",
        "2. Compare the F-statistic with the critical value\n",
        "\n",
        "3. Decision Rule"
      ],
      "metadata": {
        "id": "7JGY-ySvINOu"
      }
    },
    {
      "cell_type": "markdown",
      "source": [
        "##**PRACTICAL QUES**\n",
        "\n",
        "##**QUES 1) Write a Python program to perform a Z-test for comparing a sample mean to a known population mean and interpret the results**?\n",
        "\n",
        "\n",
        "\n"
      ],
      "metadata": {
        "id": "soaMCpxy1KED"
      }
    },
    {
      "cell_type": "code",
      "source": [
        "import numpy as np\n",
        "from scipy import stats\n",
        "\n",
        "def z_test(sample, population_mean, population_std, alpha=0.05):\n",
        "    sample_mean = np.mean(sample)\n",
        "    z = (sample_mean - population_mean) / (population_std / np.sqrt(len(sample)))\n",
        "    p_value = 2 * (1 - stats.norm.cdf(abs(z)))\n",
        "\n",
        "    print(f\"Z-statistic: {z}\\nP-value: {p_value}\")\n",
        "    print(\"Reject H0\" if p_value < alpha else \"Fail to reject H0\")\n",
        "\n",
        "# Example usage\n",
        "sample_data = [102, 108, 110, 95, 105, 100, 101, 106, 110, 99]\n",
        "z_test(sample_data, 100, 10)\n"
      ],
      "metadata": {
        "colab": {
          "base_uri": "https://localhost:8080/"
        },
        "id": "4uIWUle21tYN",
        "outputId": "b5f1c6cc-eaf3-4f63-a3c3-27b454e74829"
      },
      "execution_count": 1,
      "outputs": [
        {
          "output_type": "stream",
          "name": "stdout",
          "text": [
            "Z-statistic: 1.1384199576606149\n",
            "P-value: 0.2549451643173217\n",
            "Fail to reject H0\n"
          ]
        }
      ]
    },
    {
      "cell_type": "markdown",
      "source": [
        "##**QUES 2)  Simulate random data to perform hypothesis testing and calculate the corresponding P-value using Python?**"
      ],
      "metadata": {
        "id": "hHWA6aqB2Gkh"
      }
    },
    {
      "cell_type": "code",
      "source": [
        "\n",
        "data = np.random.normal(50, 10, 100)\n",
        "\n",
        "# Perform T-test\n",
        "t_stat, p_value = stats.ttest_1samp(data, 50)\n",
        "\n",
        "# Output result\n",
        "print(f\"P-value: {p_value}\\n\", \"Reject H0\" if p_value < 0.05 else \"Fail to reject H0\")\n"
      ],
      "metadata": {
        "colab": {
          "base_uri": "https://localhost:8080/"
        },
        "id": "ilTCVVkg2Fj5",
        "outputId": "d9cbab51-2dc7-4177-b464-6c6d41138e6a"
      },
      "execution_count": 2,
      "outputs": [
        {
          "output_type": "stream",
          "name": "stdout",
          "text": [
            "P-value: 0.893161547078168\n",
            " Fail to reject H0\n"
          ]
        }
      ]
    },
    {
      "cell_type": "markdown",
      "source": [
        "## **QUES 3)  Implement a one-sample Z-test using Python to compare the sample mean with the population mean**"
      ],
      "metadata": {
        "id": "FuWaTj942X78"
      }
    },
    {
      "cell_type": "code",
      "source": [
        "data = np.random.normal(50, 10, 100)\n",
        "z_stat = (np.mean(data) - 50) / (10 / np.sqrt(len(data)))\n",
        "p_value = 2 * (1 - stats.norm.cdf(abs(z_stat)))\n",
        "\n",
        "print(\"Reject H0\" if p_value < 0.05 else \"Fail to reject H0\")\n"
      ],
      "metadata": {
        "colab": {
          "base_uri": "https://localhost:8080/"
        },
        "id": "oPM9vUVS2jGC",
        "outputId": "17fdbf8c-3bd8-4890-a271-51544db71188"
      },
      "execution_count": 3,
      "outputs": [
        {
          "output_type": "stream",
          "name": "stdout",
          "text": [
            "Fail to reject H0\n"
          ]
        }
      ]
    },
    {
      "cell_type": "markdown",
      "source": [
        "##**QUES 4) Perform a two-tailed Z-test using Python and visualize the decision region on a plot?**"
      ],
      "metadata": {
        "id": "AxVPMAdf2pRb"
      }
    },
    {
      "cell_type": "code",
      "source": [
        "\n",
        "data = np.random.normal(50, 10, 100)\n",
        "z_stat = (np.mean(data) - 50) / (10 / np.sqrt(len(data)))\n",
        "p_value = 2 * (1 - stats.norm.cdf(abs(z_stat)))\n",
        "\n",
        "print(\"Reject H0\" if p_value < 0.05 else \"Fail to reject H0\")\n"
      ],
      "metadata": {
        "colab": {
          "base_uri": "https://localhost:8080/"
        },
        "id": "4vz4EE_92uXY",
        "outputId": "fcb02bdd-1412-4394-bd57-7d22ddfa3955"
      },
      "execution_count": 4,
      "outputs": [
        {
          "output_type": "stream",
          "name": "stdout",
          "text": [
            "Fail to reject H0\n"
          ]
        }
      ]
    },
    {
      "cell_type": "code",
      "source": [
        "import matplotlib.pyplot as plt\n",
        "# Plot\n",
        "x = np.linspace(-4, 4, 1000)\n",
        "plt.plot(x, stats.norm.pdf(x))\n",
        "plt.fill_between(x, stats.norm.pdf(x), where=(x < -stats.norm.ppf(0.975)) | (x > stats.norm.ppf(0.975)), color='red', alpha=0.5)\n",
        "plt.axvline(z_stat, color='orange', linestyle='--')\n",
        "plt.show()"
      ],
      "metadata": {
        "colab": {
          "base_uri": "https://localhost:8080/",
          "height": 430
        },
        "id": "rVY14t5R3ObV",
        "outputId": "89657181-ee72-420e-e072-8d49a82c9768"
      },
      "execution_count": 5,
      "outputs": [
        {
          "output_type": "display_data",
          "data": {
            "text/plain": [
              "<Figure size 640x480 with 1 Axes>"
            ],
            "image/png": "[encoded data removed]"
          },
          "metadata": {}
        }
      ]
    },
    {
      "cell_type": "markdown",
      "source": [
        "##**QUES 5) Create a Python function that calculates and visualizes Type 1 and Type 2 errors during hypothesis testing**"
      ],
      "metadata": {
        "id": "dnWcuIVt3YGv"
      }
    },
    {
      "cell_type": "code",
      "source": [
        "def errors(pop_mean, true_mean, std, size, alpha=0.05):\n",
        "    z_stat = (np.mean(np.random.normal(true_mean, std, size)) - pop_mean) / (std / np.sqrt(size))\n",
        "    cv = stats.norm.ppf(1 - alpha / 2)\n",
        "    plt.plot(np.linspace(-4, 4, 1000), stats.norm.pdf(np.linspace(-4, 4, 1000)))\n",
        "    plt.fill_between(np.linspace(cv, 4, 1000), stats.norm.pdf(np.linspace(cv, 4, 1000)), color='red', alpha=0.5)\n",
        "    plt.fill_between(np.linspace(-4, -cv, 1000), stats.norm.pdf(np.linspace(-4, -cv, 1000)), color='blue', alpha=0.5)\n",
        "    plt.axvline(z_stat)\n",
        "    plt.show()\n",
        "\n",
        "# Example usage\n",
        "errors(50, 52, 10, 100)\n"
      ],
      "metadata": {
        "colab": {
          "base_uri": "https://localhost:8080/",
          "height": 430
        },
        "id": "ngX6Poa63gD6",
        "outputId": "f3dd4631-22fc-4f6b-c0c7-9cf745879957"
      },
      "execution_count": 8,
      "outputs": [
        {
          "output_type": "display_data",
          "data": {
            "text/plain": [
              "<Figure size 640x480 with 1 Axes>"
            ],
            "image/png": "[encoded data removed]"
          },
          "metadata": {}
        }
      ]
    },
    {
      "cell_type": "markdown",
      "source": [
        "##**QUES 6) Write a Python program to perform an independent T-test and interpret the results**"
      ],
      "metadata": {
        "id": "spNuuGvf37K1"
      }
    },
    {
      "cell_type": "code",
      "source": [
        "\n",
        "# Simulate two independent samples\n",
        "sample1 = np.random.normal(50, 10, 100)\n",
        "sample2 = np.random.normal(55, 10, 100)\n",
        "\n",
        "# Perform independent T-test\n",
        "t_stat, p_value = stats.ttest_ind(sample1, sample2)\n",
        "\n",
        "# Output result\n",
        "print(f\"T-statistic: {t_stat}\\nP-value: {p_value}\")\n",
        "print(\"Reject H0\" if p_value < 0.05 else \"Fail to reject H0\")\n"
      ],
      "metadata": {
        "colab": {
          "base_uri": "https://localhost:8080/"
        },
        "id": "Oyywf8dl4CR4",
        "outputId": "13415ef0-f476-4db2-ecc9-3a682f784a05"
      },
      "execution_count": 11,
      "outputs": [
        {
          "output_type": "stream",
          "name": "stdout",
          "text": [
            "T-statistic: -3.919978613830979\n",
            "P-value: 0.00012196658812568084\n",
            "Reject H0\n"
          ]
        }
      ]
    },
    {
      "cell_type": "markdown",
      "source": [
        "##**QUES 7) Perform a paired sample T-test using Python and visualize the comparison results**"
      ],
      "metadata": {
        "id": "WaBQ-oR34Pl7"
      }
    },
    {
      "cell_type": "code",
      "source": [
        "# Simulate paired data\n",
        "before = np.random.normal(50, 10, 100)\n",
        "after = before + np.random.normal(5, 5, 100)\n",
        "\n",
        "# Perform paired T-test\n",
        "t_stat, p_value = stats.ttest_rel(before, after)\n",
        "\n",
        "# Print result\n",
        "print(f\"T-stat: {t_stat}, P-value: {p_value}\")\n",
        "print(\"Reject H0\" if p_value < 0.05 else \"Fail to reject H0\")\n",
        "\n"
      ],
      "metadata": {
        "colab": {
          "base_uri": "https://localhost:8080/"
        },
        "id": "pv_EBOVf4V7_",
        "outputId": "6ae0d0b4-af14-469e-e6b4-a533b379d079"
      },
      "execution_count": 12,
      "outputs": [
        {
          "output_type": "stream",
          "name": "stdout",
          "text": [
            "T-stat: -11.560319168048338, P-value: 4.500318412523735e-20\n",
            "Reject H0\n"
          ]
        }
      ]
    },
    {
      "cell_type": "code",
      "source": [
        "plt.boxplot([before, after], vert=False, labels=['Before', 'After'])\n",
        "plt.show()"
      ],
      "metadata": {
        "colab": {
          "base_uri": "https://localhost:8080/",
          "height": 485
        },
        "id": "rg3E1q2n4oHK",
        "outputId": "535babf6-1553-4f9d-9709-98f7b4418ecf"
      },
      "execution_count": 13,
      "outputs": [
        {
          "output_type": "stream",
          "name": "stderr",
          "text": [
            "<ipython-input-13-393573ac1f84>:2: MatplotlibDeprecationWarning: The 'labels' parameter of boxplot() has been renamed 'tick_labels' since Matplotlib 3.9; support for the old name will be dropped in 3.11.\n",
            "  plt.boxplot([before, after], vert=False, labels=['Before', 'After'])\n"
          ]
        },
        {
          "output_type": "display_data",
          "data": {
            "text/plain": [
              "<Figure size 640x480 with 1 Axes>"
            ],
            "image/png": "[encoded data removed]"
          },
          "metadata": {}
        }
      ]
    },
    {
      "cell_type": "markdown",
      "source": [
        "##**QUES 8) Simulate data and perform both Z-test and T-test, then compare the results using Python.**\n"
      ],
      "metadata": {
        "id": "msuOCK5P4quu"
      }
    },
    {
      "cell_type": "code",
      "source": [
        "# Simulate data\n",
        "data = np.random.normal(50, 10, 100)\n",
        "\n",
        "# Z-test\n",
        "z_stat = (np.mean(data) - 50) / (10 / np.sqrt(len(data)))\n",
        "p_value_z = 2 * (1 - stats.norm.cdf(abs(z_stat)))\n",
        "\n",
        "# T-test\n",
        "t_stat, p_value_t = stats.ttest_1samp(data, 50)\n",
        "\n",
        "# Results\n",
        "print(f\"Z-test: P-value = {p_value_z}\")\n",
        "print(f\"T-test: P-value = {p_value_t}\")\n"
      ],
      "metadata": {
        "colab": {
          "base_uri": "https://localhost:8080/"
        },
        "id": "pVaTtxxp49zS",
        "outputId": "952f8cba-1c8b-4248-e7f1-c5757a6544e5"
      },
      "execution_count": 14,
      "outputs": [
        {
          "output_type": "stream",
          "name": "stdout",
          "text": [
            "Z-test: P-value = 0.47247421171601056\n",
            "T-test: P-value = 0.41723386813043384\n"
          ]
        }
      ]
    },
    {
      "cell_type": "markdown",
      "source": [
        "##**QUES 9) Write a Python function to calculate the confidence interval for a sample mean and explain its significance**."
      ],
      "metadata": {
        "id": "4LNWrwpK5Bqh"
      }
    },
    {
      "cell_type": "code",
      "source": [
        "def confidence_interval(data, confidence=0.95):\n",
        "    mean, se = np.mean(data), np.std(data, ddof=1) / np.sqrt(len(data))\n",
        "    return stats.t.interval(confidence, len(data)-1, mean, se)\n",
        "\n",
        "# Example usage\n",
        "data = np.random.normal(50, 10, 100)\n",
        "print(confidence_interval(data))\n"
      ],
      "metadata": {
        "colab": {
          "base_uri": "https://localhost:8080/"
        },
        "id": "qjwgWhnW5Jzf",
        "outputId": "009eadd6-2ffa-47b8-f528-3b0d24f1a3ff"
      },
      "execution_count": 15,
      "outputs": [
        {
          "output_type": "stream",
          "name": "stdout",
          "text": [
            "(46.87861452508631, 51.27326271975722)\n"
          ]
        }
      ]
    },
    {
      "cell_type": "markdown",
      "source": [
        "##**QUES 10)Write a Python program to calculate the margin of error for a given confidence level using sample data**."
      ],
      "metadata": {
        "id": "9XQFjFNZ5Xkt"
      }
    },
    {
      "cell_type": "code",
      "source": [
        "def margin_of_error(data, confidence=0.95):\n",
        "    mean = np.mean(data)\n",
        "    se = np.std(data, ddof=1) / np.sqrt(len(data))\n",
        "    return stats.t.ppf((1 + confidence) / 2, len(data) - 1) * se\n",
        "\n",
        "# Example usage\n",
        "data = np.random.normal(50, 10, 100)\n",
        "print(margin_of_error(data))\n"
      ],
      "metadata": {
        "colab": {
          "base_uri": "https://localhost:8080/"
        },
        "id": "JPuTUVxq5oO8",
        "outputId": "78f6fbf7-1fb3-433b-9934-67fad77e5c85"
      },
      "execution_count": 16,
      "outputs": [
        {
          "output_type": "stream",
          "name": "stdout",
          "text": [
            "1.9326675275493455\n"
          ]
        }
      ]
    },
    {
      "cell_type": "markdown",
      "source": [
        "## **QUES 11) Implement a Bayesian inference method using Bayes' Theorem in Python and explain the process**\n",
        ""
      ],
      "metadata": {
        "id": "eQEudloq5rKQ"
      }
    },
    {
      "cell_type": "code",
      "source": [
        "def bayes(prior, likelihood, evidence):\n",
        "    return (likelihood * prior) / evidence\n",
        "\n",
        "# Example usage\n",
        "prior = 0.1  # Probability of the hypothesis (e.g., having the disease)\n",
        "likelihood = 0.9  # Probability of evidence given the hypothesis (positive test result)\n",
        "evidence = 0.2  # Probability of the evidence (positive test result overall)\n",
        "\n",
        "posterior = bayes(prior, likelihood, evidence)\n",
        "print(f\"Posterior: {posterior}\")\n"
      ],
      "metadata": {
        "colab": {
          "base_uri": "https://localhost:8080/"
        },
        "id": "LviTUR0R559N",
        "outputId": "3174a627-c5b4-41a8-c2c4-905803e0b476"
      },
      "execution_count": 17,
      "outputs": [
        {
          "output_type": "stream",
          "name": "stdout",
          "text": [
            "Posterior: 0.45\n"
          ]
        }
      ]
    },
    {
      "cell_type": "markdown",
      "source": [
        "## **QUES 12) Perform a Chi-square test for independence between two categorical variables in Python**"
      ],
      "metadata": {
        "id": "9rQD-mCR6Er3"
      }
    },
    {
      "cell_type": "code",
      "source": [
        "import pandas as pd\n",
        "# Simulate categorical data in a contingency table\n",
        "data = {'A': [30, 10], 'B': [10, 20]}\n",
        "df = pd.DataFrame(data, index=['Category 1', 'Category 2'])\n",
        "\n",
        "# Perform Chi-square test for independence\n",
        "chi2_stat, p_value, dof, expected = stats.chi2_contingency(df)\n",
        "\n",
        "# Output the results\n",
        "print(f\"Chi2 Statistic: {chi2_stat}, P-value: {p_value}, Degrees of Freedom: {dof}\")\n",
        "print(f\"Expected Frequencies: \\n{expected}\")\n"
      ],
      "metadata": {
        "colab": {
          "base_uri": "https://localhost:8080/"
        },
        "id": "sfTZfwYv6NSW",
        "outputId": "92fd6daf-6a5a-43fe-a551-b75f0ce20642"
      },
      "execution_count": 19,
      "outputs": [
        {
          "output_type": "stream",
          "name": "stdout",
          "text": [
            "Chi2 Statistic: 10.510937499999999, P-value: 0.0011867003390771667, Degrees of Freedom: 1\n",
            "Expected Frequencies: \n",
            "[[22.85714286 17.14285714]\n",
            " [17.14285714 12.85714286]]\n"
          ]
        }
      ]
    },
    {
      "cell_type": "markdown",
      "source": [
        "##**QUES 13)  Write a Python program to calculate the expected frequencies for a Chi-square test based on observed data**"
      ],
      "metadata": {
        "id": "Aq4JXdfw6kCv"
      }
    },
    {
      "cell_type": "code",
      "source": [
        "observed = np.array([[30, 10], [10, 20]])\n",
        "\n",
        "# Calculate row sums, column sums, and total sum\n",
        "row_sums = observed.sum(axis=1)\n",
        "col_sums = observed.sum(axis=0)\n",
        "total_sum = observed.sum()\n",
        "\n",
        "# Calculate expected frequencies\n",
        "expected = np.outer(row_sums, col_sums) / total_sum\n",
        "\n",
        "# Output the expected frequencies\n",
        "print(\"Expected Frequencies:\\n\", expected)\n"
      ],
      "metadata": {
        "colab": {
          "base_uri": "https://localhost:8080/"
        },
        "id": "2tP94QnG6svh",
        "outputId": "71bfe768-ff9c-440b-b90b-eb6dc75eaf3c"
      },
      "execution_count": 20,
      "outputs": [
        {
          "output_type": "stream",
          "name": "stdout",
          "text": [
            "Expected Frequencies:\n",
            " [[22.85714286 17.14285714]\n",
            " [17.14285714 12.85714286]]\n"
          ]
        }
      ]
    },
    {
      "cell_type": "markdown",
      "source": [
        "## **QUES 14)  Perform a goodness-of-fit test using Python to compare the observed data to an expected distribution**"
      ],
      "metadata": {
        "id": "dAaYPOZR664P"
      }
    },
    {
      "cell_type": "code",
      "source": [
        "# Observed and expected data\n",
        "observed = np.array([50, 30, 20])\n",
        "expected = np.array([33.33, 33.33, 33.33])\n",
        "\n",
        "# Chi-square test calculation\n",
        "chi2_stat = ((observed - expected) ** 2 / expected).sum()\n",
        "p_value = 1 - np.sum(np.random.chisquare(df=len(observed)-1, size=10000) > chi2_stat) / 10000\n",
        "\n",
        "# Output\n",
        "print(f\"Chi2 Statistic: {chi2_stat}, P-value: {p_value}\")\n"
      ],
      "metadata": {
        "colab": {
          "base_uri": "https://localhost:8080/"
        },
        "id": "hiqi6RiK7HSB",
        "outputId": "29c72ba5-2709-4288-a029-c1f96a67009e"
      },
      "execution_count": 23,
      "outputs": [
        {
          "output_type": "stream",
          "name": "stdout",
          "text": [
            "Chi2 Statistic: 14.001401140114012, P-value: 0.9992\n"
          ]
        }
      ]
    },
    {
      "cell_type": "markdown",
      "source": [
        "##**QUES 15)Create a Python script to simulate and visualize the Chi-square distribution and discuss its characteristics**."
      ],
      "metadata": {
        "id": "GopMWnDs7sto"
      }
    },
    {
      "cell_type": "code",
      "source": [
        "df = 5  # degrees of freedom\n",
        "size = 10000  # number of samples\n",
        "\n",
        "# Simulate Chi-square distribution\n",
        "data = np.random.chisquare(df, size)\n",
        "\n",
        "data\n"
      ],
      "metadata": {
        "colab": {
          "base_uri": "https://localhost:8080/"
        },
        "id": "xvKEglu58OnL",
        "outputId": "da9b1d9b-da31-4d4d-de9a-2e5d24665889"
      },
      "execution_count": 24,
      "outputs": [
        {
          "output_type": "execute_result",
          "data": {
            "text/plain": [
              "array([7.49333408, 2.70689462, 3.89812551, ..., 2.19230218, 1.65155965,\n",
              "       2.65933228])"
            ]
          },
          "metadata": {},
          "execution_count": 24
        }
      ]
    },
    {
      "cell_type": "code",
      "source": [
        "# Plot the distribution\n",
        "plt.hist(data, bins=50, density=True, alpha=0.6, color='b')\n",
        "plt.title(f'Chi-square Distribution with {df} Degrees of Freedom')\n",
        "plt.xlabel('Value')\n",
        "plt.ylabel('Density')\n",
        "plt.grid(True)\n",
        "plt.show()"
      ],
      "metadata": {
        "colab": {
          "base_uri": "https://localhost:8080/",
          "height": 472
        },
        "id": "sYl1K41d8Vhj",
        "outputId": "f688cb51-0bc1-46d9-9faa-85388d221864"
      },
      "execution_count": 25,
      "outputs": [
        {
          "output_type": "display_data",
          "data": {
            "text/plain": [
              "<Figure size 640x480 with 1 Axes>"
            ],
            "image/png": "[encoded data removed]"
          },
          "metadata": {}
        }
      ]
    },
    {
      "cell_type": "markdown",
      "source": [
        "##**QUES 16) Implement an F-test using Python to compare the variances of two random samples**."
      ],
      "metadata": {
        "id": "3CNit9_58Yb1"
      }
    },
    {
      "cell_type": "code",
      "source": [
        "# Generate random samples\n",
        "sample1, sample2 = np.random.normal(10, 2, 100), np.random.normal(12, 3, 100)\n",
        "\n",
        "# F-test: ratio of variances and p-value\n",
        "f_stat = np.var(sample1, ddof=1) / np.var(sample2, ddof=1)\n",
        "p_value = 1 - stats.f.cdf(f_stat, len(sample1)-1, len(sample2)-1)\n",
        "\n",
        "print(f\"F-statistic: {f_stat}, P-value: {p_value}\")\n"
      ],
      "metadata": {
        "colab": {
          "base_uri": "https://localhost:8080/"
        },
        "id": "-44g3SEM8fYE",
        "outputId": "14f12c4e-020e-4f41-b94e-269c8c947ff3"
      },
      "execution_count": 26,
      "outputs": [
        {
          "output_type": "stream",
          "name": "stdout",
          "text": [
            "F-statistic: 0.3841742262668729, P-value: 0.9999984296881264\n"
          ]
        }
      ]
    },
    {
      "cell_type": "markdown",
      "source": [
        "##**QUES 17) Write a Python program to perform an ANOVA test to compare means between multiple groups and interpret the results**"
      ],
      "metadata": {
        "id": "MfRqvDm48p1k"
      }
    },
    {
      "cell_type": "code",
      "source": [
        "# Simulate data\n",
        "data = [np.random.normal(10, 2, 30), np.random.normal(12, 2, 30), np.random.normal(14, 2, 30)]\n",
        "\n",
        "# Perform ANOVA and interpret result\n",
        "f_stat, p_value = stats.f_oneway(*data)\n",
        "print(f\"F-statistic: {f_stat}, P-value: {p_value}\")\n",
        "print(\"Reject null hypothesis\" if p_value < 0.05 else \"Fail to reject null hypothesis\")\n"
      ],
      "metadata": {
        "colab": {
          "base_uri": "https://localhost:8080/"
        },
        "id": "J269-sv78xXR",
        "outputId": "fc9734db-3380-4c42-ffca-dbd06f51b0b2"
      },
      "execution_count": 27,
      "outputs": [
        {
          "output_type": "stream",
          "name": "stdout",
          "text": [
            "F-statistic: 31.99593715837126, P-value: 3.842438489915268e-11\n",
            "Reject null hypothesis\n"
          ]
        }
      ]
    },
    {
      "cell_type": "markdown",
      "source": [
        "##**QUES 18) Perform a one-way ANOVA test using Python to compare the means of different groups and plot the results**."
      ],
      "metadata": {
        "id": "hoAVScmP86VI"
      }
    },
    {
      "cell_type": "code",
      "source": [
        "# Simulate data\n",
        "data = [np.random.normal(10, 2, 30), np.random.normal(12, 2, 30), np.random.normal(14, 2, 30)]\n",
        "\n",
        "# ANOVA test and plot\n",
        "f_stat, p_value = stats.f_oneway(*data)\n",
        "\n",
        "# Result interpretation\n",
        "print(f\"F-statistic: {f_stat}, P-value: {p_value}\")\n",
        "print(\"Reject null hypothesis\" if p_value < 0.05 else \"Fail to reject null hypothesis\")\n"
      ],
      "metadata": {
        "colab": {
          "base_uri": "https://localhost:8080/"
        },
        "id": "g9zycp739I8Z",
        "outputId": "4e8f3089-255c-473a-b3b5-a24d5cc93140"
      },
      "execution_count": 28,
      "outputs": [
        {
          "output_type": "stream",
          "name": "stdout",
          "text": [
            "F-statistic: 38.23024893006415, P-value: 1.2179513319783358e-12\n",
            "Reject null hypothesis\n"
          ]
        }
      ]
    },
    {
      "cell_type": "code",
      "source": [
        "plt.boxplot(data, labels=['Group 1', 'Group 2', 'Group 3'])\n",
        "plt.title(\"One-way ANOVA\")\n",
        "plt.show()\n"
      ],
      "metadata": {
        "colab": {
          "base_uri": "https://localhost:8080/",
          "height": 507
        },
        "id": "87grnXxV9RLA",
        "outputId": "03337fb7-ea2d-477a-d4b6-6e7df78131a3"
      },
      "execution_count": 29,
      "outputs": [
        {
          "output_type": "stream",
          "name": "stderr",
          "text": [
            "<ipython-input-29-363dd994b38c>:1: MatplotlibDeprecationWarning: The 'labels' parameter of boxplot() has been renamed 'tick_labels' since Matplotlib 3.9; support for the old name will be dropped in 3.11.\n",
            "  plt.boxplot(data, labels=['Group 1', 'Group 2', 'Group 3'])\n"
          ]
        },
        {
          "output_type": "display_data",
          "data": {
            "text/plain": [
              "<Figure size 640x480 with 1 Axes>"
            ],
            "image/png": "[encoded data removed]"
          },
          "metadata": {}
        }
      ]
    },
    {
      "cell_type": "markdown",
      "source": [
        "## **QUES 19)  Write a Python function to check the assumptions (normality, independence, and equal variance) for ANOVA**?"
      ],
      "metadata": {
        "id": "eyK5wpdk9UYc"
      }
    },
    {
      "cell_type": "code",
      "source": [
        "def check_anova_assumptions(*groups):\n",
        "    for i, group in enumerate(groups, 1):\n",
        "        print(f\"Group {i} Normality: {'Not normal' if stats.shapiro(group)[1] < 0.05 else 'Normal'}\")\n",
        "    print(f\"Levene's Test: {'Different variances' if stats.levene(*groups)[1] < 0.05 else 'Equal variances'}\")\n",
        "    plt.boxplot(groups)\n",
        "    plt.show()\n",
        "\n",
        "# Example usage\n",
        "check_anova_assumptions(np.random.normal(10, 2, 30), np.random.normal(12, 2, 30), np.random.normal(14, 2, 30))\n"
      ],
      "metadata": {
        "colab": {
          "base_uri": "https://localhost:8080/",
          "height": 499
        },
        "id": "MP_A3-yq9dNp",
        "outputId": "088d30bf-f7d4-471f-d38b-61d7598549d8"
      },
      "execution_count": 30,
      "outputs": [
        {
          "output_type": "stream",
          "name": "stdout",
          "text": [
            "Group 1 Normality: Normal\n",
            "Group 2 Normality: Normal\n",
            "Group 3 Normality: Normal\n",
            "Levene's Test: Equal variances\n"
          ]
        },
        {
          "output_type": "display_data",
          "data": {
            "text/plain": [
              "<Figure size 640x480 with 1 Axes>"
            ],
            "image/png": "[encoded data removed]"
          },
          "metadata": {}
        }
      ]
    },
    {
      "cell_type": "markdown",
      "source": [
        "## **QUES 20)Perform a two-way ANOVA test using Python to study the interaction between two factors and visualize the results**"
      ],
      "metadata": {
        "id": "pQ5rW56z9u8n"
      }
    },
    {
      "cell_type": "code",
      "source": [
        "# Simulate data and run two-way ANOVA\n",
        "data = pd.DataFrame({'Factor1': np.random.choice(['A', 'B'], 100), 'Factor2': np.random.choice(['X', 'Y'], 100), 'Response': np.random.normal(10, 2, 100)})\n",
        "print(sm.stats.anova_lm(ols('Response ~ Factor1 * Factor2', data).fit(), typ=2))\n",
        "\n",
        "# Interaction plot using seaborn\n",
        "sns.pointplot(x='Factor1', y='Response', hue='Factor2', data=data)\n",
        "plt.show()\n"
      ],
      "metadata": {
        "colab": {
          "base_uri": "https://localhost:8080/",
          "height": 536
        },
        "id": "dX3OSX3f-FhP",
        "outputId": "fa5e2ba2-fd6e-4c8a-9d0a-2e06a2772b75"
      },
      "execution_count": 34,
      "outputs": [
        {
          "output_type": "stream",
          "name": "stdout",
          "text": [
            "                     sum_sq    df         F    PR(>F)\n",
            "Factor1            5.444671   1.0  1.520919  0.220492\n",
            "Factor2            0.649946   1.0  0.181557  0.670993\n",
            "Factor1:Factor2    0.031778   1.0  0.008877  0.925133\n",
            "Residual         343.666175  96.0       NaN       NaN\n"
          ]
        },
        {
          "output_type": "display_data",
          "data": {
            "text/plain": [
              "<Figure size 640x480 with 1 Axes>"
            ],
            "image/png": "[encoded data removed]"
          },
          "metadata": {}
        }
      ]
    },
    {
      "cell_type": "markdown",
      "source": [
        "## **QUES 21) Write a Python program to visualize the F-distribution and discuss its use in hypothesis testing**"
      ],
      "metadata": {
        "id": "PLcQYAxB-vUu"
      }
    },
    {
      "cell_type": "code",
      "source": [
        "from scipy.stats import f\n",
        "\n",
        "# Parameters for F-distribution\n",
        "dof1 = 5  # Degrees of freedom for numerator\n",
        "dof2 = 2  # Degrees of freedom for denominator\n",
        "\n",
        "# Generate x values\n",
        "x = np.linspace(0, 5, 1000)\n",
        "\n",
        "# Compute F-distribution PDF\n",
        "y = f.pdf(x, dof1, dof2)\n",
        "print(f\"\\nThe F-distribution is used in ANOVA, regression analysis, and comparing variances. It tests the ratio of variances, and the critical value of the F-distribution determines whether the observed ratio of variances is significant.\")\n"
      ],
      "metadata": {
        "colab": {
          "base_uri": "https://localhost:8080/"
        },
        "id": "_9vWan_o-_Ny",
        "outputId": "82269117-67ab-43f5-9037-5067a31c7a24"
      },
      "execution_count": 35,
      "outputs": [
        {
          "output_type": "stream",
          "name": "stdout",
          "text": [
            "\n",
            "The F-distribution is used in ANOVA, regression analysis, and comparing variances. It tests the ratio of variances, and the critical value of the F-distribution determines whether the observed ratio of variances is significant.\n"
          ]
        }
      ]
    },
    {
      "cell_type": "code",
      "source": [
        "\n",
        "plt.plot(x, y, label=f'F-distribution (df1={dof1}, df2={dof2})')\n",
        "plt.fill_between(x, y, alpha=0.3)\n",
        "plt.title('F-distribution')\n",
        "plt.xlabel('x')\n",
        "plt.ylabel('Density')\n",
        "plt.legend()\n",
        "plt.show()\n"
      ],
      "metadata": {
        "colab": {
          "base_uri": "https://localhost:8080/",
          "height": 472
        },
        "id": "l0iBMqfC_OgB",
        "outputId": "1610bc72-5703-4798-f467-999ce1bf65a4"
      },
      "execution_count": 36,
      "outputs": [
        {
          "output_type": "display_data",
          "data": {
            "text/plain": [
              "<Figure size 640x480 with 1 Axes>"
            ],
            "image/png": "[encoded data removed]"
          },
          "metadata": {}
        }
      ]
    },
    {
      "cell_type": "markdown",
      "source": [
        "## **QUES 22) Perform a one-way ANOVA test in Python and visualize the results with boxplots to compare group means**"
      ],
      "metadata": {
        "id": "HaH2V5OZ_SFv"
      }
    },
    {
      "cell_type": "code",
      "source": [
        "\n",
        "# Simulate data and perform one-way ANOVA\n",
        "data = [np.random.normal(10, 2, 30), np.random.normal(12, 2, 30), np.random.normal(14, 2, 30)]\n",
        "f_stat, p_value = stats.f_oneway(*data)\n",
        "\n",
        "# Print results\n",
        "print(f\"F-stat: {f_stat}, p-value: {p_value}\")\n",
        "print(\"Reject H0\" if p_value < 0.05 else \"Fail to reject H0\")"
      ],
      "metadata": {
        "colab": {
          "base_uri": "https://localhost:8080/"
        },
        "id": "i3ybaxby_gtV",
        "outputId": "7eea83c0-c034-47a3-8e4c-7b06b152cc78"
      },
      "execution_count": 37,
      "outputs": [
        {
          "output_type": "stream",
          "name": "stdout",
          "text": [
            "F-stat: 27.041164914187654, p-value: 7.362552241639083e-10\n",
            "Reject H0\n"
          ]
        }
      ]
    },
    {
      "cell_type": "code",
      "source": [
        "# Boxplot\n",
        "sns.boxplot(data=data)\n",
        "plt.show()"
      ],
      "metadata": {
        "colab": {
          "base_uri": "https://localhost:8080/",
          "height": 430
        },
        "id": "MLolNyI5_ld2",
        "outputId": "3f68bbab-f6b5-4331-dad3-cffece946aec"
      },
      "execution_count": 38,
      "outputs": [
        {
          "output_type": "display_data",
          "data": {
            "text/plain": [
              "<Figure size 640x480 with 1 Axes>"
            ],
            "image/png": "[encoded data removed]"
          },
          "metadata": {}
        }
      ]
    },
    {
      "cell_type": "markdown",
      "source": [
        "##**QUES 23)Simulate random data from a normal distribution, then perform hypothesis testing to evaluate the means**"
      ],
      "metadata": {
        "id": "rnIlE2BV_nyD"
      }
    },
    {
      "cell_type": "code",
      "source": [
        "# Simulate data\n",
        "data1 = np.random.normal(10, 2, 30)\n",
        "data2 = np.random.normal(12, 2, 30)\n",
        "\n",
        "# T-test\n",
        "t_stat, p_value = stats.ttest_ind(data1, data2)\n",
        "\n",
        "# Output result\n",
        "print(f\"T-stat: {t_stat}, p-value: {p_value}\")\n"
      ],
      "metadata": {
        "colab": {
          "base_uri": "https://localhost:8080/"
        },
        "id": "X0M1P5wo_s2p",
        "outputId": "25379262-10c3-4994-add9-9f0876337b1f"
      },
      "execution_count": 39,
      "outputs": [
        {
          "output_type": "stream",
          "name": "stdout",
          "text": [
            "T-stat: -4.654973498448263, p-value: 1.9297665942828885e-05\n"
          ]
        }
      ]
    },
    {
      "cell_type": "markdown",
      "source": [
        "## **QUES 24)  Perform a hypothesis test for population variance using a Chi-square distribution and interpret the results**."
      ],
      "metadata": {
        "id": "EiWrDThd_6GM"
      }
    },
    {
      "cell_type": "code",
      "source": [
        "data = np.random.normal(10, 2, 30)\n",
        "\n",
        "# Population variance\n",
        "pop_variance = 4\n",
        "\n",
        "# Calculate Chi-square statistic\n",
        "chi2_stat = (len(data) - 1) * np.var(data, ddof=1) / pop_variance\n",
        "\n",
        "# p-value\n",
        "p_value = stats.chi2.sf(chi2_stat, len(data) - 1)\n",
        "\n",
        "# Output result\n",
        "print(f\"Chi-square stat: {chi2_stat}, p-value: {p_value}\")\n"
      ],
      "metadata": {
        "colab": {
          "base_uri": "https://localhost:8080/"
        },
        "id": "1oQHdeL5AFgg",
        "outputId": "9c6282ed-3aaa-4672-d52c-57218ff5b7da"
      },
      "execution_count": 40,
      "outputs": [
        {
          "output_type": "stream",
          "name": "stdout",
          "text": [
            "Chi-square stat: 21.7829077258682, p-value: 0.8290664573086401\n"
          ]
        }
      ]
    },
    {
      "cell_type": "markdown",
      "source": [
        "##**QUES 25)Write a Python script to perform a Z-test for comparing proportions between two datasets or groups**\n"
      ],
      "metadata": {
        "id": "qV6pZkp3AMtU"
      }
    },
    {
      "cell_type": "code",
      "source": [
        "from statsmodels.stats.proportion import proportions_ztest\n",
        "\n",
        "# Simulate data (successes, trials)\n",
        "count = [50, 60]  # successes in group 1 and group 2\n",
        "nobs = [100, 100]  # trials in group 1 and group 2\n",
        "\n",
        "# Z-test\n",
        "z_stat, p_value = proportions_ztest(count, nobs)\n",
        "print(z_stat, p_value)\n"
      ],
      "metadata": {
        "colab": {
          "base_uri": "https://localhost:8080/"
        },
        "id": "nrzMVZjZAZcv",
        "outputId": "ee679236-d0ef-4fcf-8463-f5255b08e992"
      },
      "execution_count": 41,
      "outputs": [
        {
          "output_type": "stream",
          "name": "stdout",
          "text": [
            "-1.4213381090374024 0.1552184896846841\n"
          ]
        }
      ]
    },
    {
      "cell_type": "markdown",
      "source": [
        "##**QUES 26) Implement an F-test for comparing the variances of two datasets, then interpret and visualize the results**"
      ],
      "metadata": {
        "id": "NuUC1q09Al6W"
      }
    },
    {
      "cell_type": "code",
      "source": [
        "# Simulate data\n",
        "data1, data2 = np.random.normal(10, 2, 100), np.random.normal(10, 3, 100)\n",
        "\n",
        "# F-test and p-value\n",
        "f_stat, p_value = stats.levene(data1, data2)\n",
        "\n",
        "# Output and Boxplot\n",
        "print(f\"F-stat: {f_stat}, p-value: {p_value}\")\n",
        "sns.boxplot(data=[data1, data2])\n"
      ],
      "metadata": {
        "colab": {
          "base_uri": "https://localhost:8080/",
          "height": 465
        },
        "id": "U7o4PRXSCMnd",
        "outputId": "8b977777-7d91-4e8a-dea6-7b2990c8ba07"
      },
      "execution_count": 42,
      "outputs": [
        {
          "output_type": "stream",
          "name": "stdout",
          "text": [
            "F-stat: 4.6652602650416615, p-value: 0.03198052844114965\n"
          ]
        },
        {
          "output_type": "execute_result",
          "data": {
            "text/plain": [
              "<Axes: >"
            ]
          },
          "metadata": {},
          "execution_count": 42
        },
        {
          "output_type": "display_data",
          "data": {
            "text/plain": [
              "<Figure size 640x480 with 1 Axes>"
            ],
            "image/png": "[encoded data removed]"
          },
          "metadata": {}
        }
      ]
    },
    {
      "cell_type": "markdown",
      "source": [
        "##**QUES27) Perform a Chi-square test for goodness of fit with simulated data and analyze the results**"
      ],
      "metadata": {
        "id": "d6wjmNOcCWOh"
      }
    },
    {
      "cell_type": "code",
      "source": [
        "# Simulated observed and expected frequencies\n",
        "observed, expected = np.array([45, 55, 50]), np.array([50, 50, 50])\n",
        "\n",
        "# Perform Chi-square test\n",
        "chi2_stat, p_value = stats.chisquare(observed, expected)\n",
        "\n",
        "# Output result\n",
        "print(chi2_stat, p_value, \"Reject H0\" if p_value < 0.05 else \"Fail to reject H0\")\n"
      ],
      "metadata": {
        "colab": {
          "base_uri": "https://localhost:8080/"
        },
        "id": "Cv8OVOBaCqId",
        "outputId": "1d6085cc-ad4e-4e28-94ec-46d128074b21"
      },
      "execution_count": 43,
      "outputs": [
        {
          "output_type": "stream",
          "name": "stdout",
          "text": [
            "1.0 0.6065306597126334 Fail to reject H0\n"
          ]
        }
      ]
    }
  ]
}