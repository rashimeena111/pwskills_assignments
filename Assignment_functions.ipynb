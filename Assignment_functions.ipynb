{
  "nbformat": 4,
  "nbformat_minor": 0,
  "metadata": {
    "colab": {
      "provenance": [],
      "authorship_tag": "ABX9TyOWdbtjjZBQZxZpwWRJC/Be",
      "include_colab_link": true
    },
    "kernelspec": {
      "name": "python3",
      "display_name": "Python 3"
    },
    "language_info": {
      "name": "python"
    }
  },
  "cells": [
    {
      "cell_type": "markdown",
      "metadata": {
        "id": "view-in-github",
        "colab_type": "text"
      },
      "source": [
        "<a href=\"https://colab.research.google.com/github/rashimeena111/pwskills_assignments/blob/main/Assignment_functions.ipynb\" target=\"_parent\"><img src=\"https://colab.research.google.com/assets/colab-badge.svg\" alt=\"Open In Colab\"/></a>"
      ]
    },
    {
      "cell_type": "markdown",
      "source": [
        "##**Theory questions**"
      ],
      "metadata": {
        "id": "iVP-p8ObKiJL"
      }
    },
    {
      "cell_type": "markdown",
      "source": [
        "**Ques 1) what is difference between functions and am method in python.**\n",
        "\n",
        "Ans 1)\n",
        "\n",
        "**Functions** are block of code that perform some specific tasks. It is inbuilt function that can be define by programmer as per requirement.\n",
        "\n",
        "It is reusable by anyone because of that it save time.\n",
        "\n",
        "It take any arguments inside function.\n",
        "\n",
        "It organised the data and make it neat and clean.\n",
        "\n",
        "Functions are not attached to any object or class.\n",
        "\n",
        "They are directly call by their name.\n",
        "\n",
        "**Method** is function that is associated with a particular class or object. Methods are used to perform actions on an object or to modify its state.\n",
        "\n",
        "They are defined inside the class i.e., it is attached with class and object.\n",
        "\n",
        "It takes self as first argument Which refers to the instance of class."
      ],
      "metadata": {
        "id": "Drh2pHepyeVA"
      }
    },
    {
      "cell_type": "code",
      "source": [
        "# eg of functions\n",
        "def fun(a,b):\n",
        "    return a+b\n",
        "fun(8,4)"
      ],
      "metadata": {
        "colab": {
          "base_uri": "https://localhost:8080/"
        },
        "id": "2EEKbOd11ItY",
        "outputId": "7345e2a6-c8fb-450e-96f1-50a0792357dc"
      },
      "execution_count": null,
      "outputs": [
        {
          "output_type": "execute_result",
          "data": {
            "text/plain": [
              "12"
            ]
          },
          "metadata": {},
          "execution_count": 13
        }
      ]
    },
    {
      "cell_type": "code",
      "source": [
        "#eg of method\n",
        "class my_cal:\n",
        "   def cal_1(a,b):\n",
        "      print(a+b)\n",
        "\n",
        "my_cal.cal_1(8,4)"
      ],
      "metadata": {
        "colab": {
          "base_uri": "https://localhost:8080/"
        },
        "id": "MoK6iJxP3YzP",
        "outputId": "ad971fd2-1cc8-4e88-9e7e-ae0760cf33b3"
      },
      "execution_count": null,
      "outputs": [
        {
          "output_type": "stream",
          "name": "stdout",
          "text": [
            "12\n"
          ]
        }
      ]
    },
    {
      "cell_type": "markdown",
      "source": [
        "**Ques 2 ) explain the concept of function arguments and parameters in python.**"
      ],
      "metadata": {
        "id": "kmEgbjlvKrqB"
      }
    },
    {
      "cell_type": "markdown",
      "source": [
        "Ans) **Parameters** are variables that are defined in function. Basically they hold place for arguments that will be passed to the function by programmer.\n",
        "\n",
        "Whereas,\n",
        "**Arguments** are actual values that are passed to run a function ultimately.argumenets are the values that are assignment to parameters.\n",
        "\n",
        "**Analogy to understand above two terms:**\n",
        " parameters as your best friend that secure or hold the seat for you and think yourself as a argument.so when you reach school you will seat on that secure seat\n",
        "\n",
        "Example of code:\n",
        "\n",
        "\n",
        "      def fun(x,y): #here x and y are parameters\n",
        "\n",
        "        return x-y\n",
        "     fun(10,3) #here 10 & 3 are arguments"
      ],
      "metadata": {
        "id": "GlB9acNRKr6T"
      }
    },
    {
      "cell_type": "code",
      "source": [
        "def fun ():\n",
        "   return 'i am good'\n",
        "fun()"
      ],
      "metadata": {
        "colab": {
          "base_uri": "https://localhost:8080/",
          "height": 35
        },
        "id": "YHZ8sw-1XoIp",
        "outputId": "82149418-db3a-4a44-9008-8d28624e25e2"
      },
      "execution_count": null,
      "outputs": [
        {
          "output_type": "execute_result",
          "data": {
            "text/plain": [
              "'i am good'"
            ],
            "application/vnd.google.colaboratory.intrinsic+json": {
              "type": "string"
            }
          },
          "metadata": {},
          "execution_count": 1
        }
      ]
    },
    {
      "cell_type": "markdown",
      "source": [
        "**Ques 3) what are different way to define and call a function in python.**"
      ],
      "metadata": {
        "id": "thV5msN7M7j_"
      }
    },
    {
      "cell_type": "markdown",
      "source": [
        "Ans-3)\n",
        "\n",
        "a) define function without passing arguments with print\n",
        "\n",
        "  \n",
        "     def fun():\n",
        "        print('this is my code')    \n",
        "    fun()\n",
        "  \n",
        "b) define function with passing argument and print\n",
        "   \n",
        "     def fun(a,b):\n",
        "         print(a*b)\n",
        "     fun(2,5)\n",
        "\n",
        "c) define function without argument and print\n",
        "\n",
        "     def fun():\n",
        "        return this is rose\n",
        "     fun()\n",
        "\n",
        "d) define function with arguments and without print\n",
        "    \n",
        "     def fun(a,b):\n",
        "        return a+b\n",
        "     fun(2,5)\n",
        "\n",
        "e)define function with default arguments.\n",
        "  \n",
        "     def fun(a,b,c=0):# c is default args\n",
        "         return a+b+c\n",
        "     fun(1,3,7) # call fun and specify c's value\n",
        "\n",
        "           Or\n",
        "     fun(1,8) # not specify argument for c parameter\n",
        "           \n",
        "\n",
        "f)define function with variable length argument\n",
        "    \n",
        "     def fun(*argume):\n",
        "         return argume*argume\n",
        "     fun(1,2,3,4) # provide any no. Of arguments\n",
        "\n",
        "g)define function with keyword arguments.\n",
        "      \n",
        "      def fun(**kwargs)\n",
        "          return kwargs\n",
        "      fun(a=23, b=22)"
      ],
      "metadata": {
        "id": "tSDny8vDN7GQ"
      }
    },
    {
      "cell_type": "markdown",
      "source": [
        "**Ques 4) what is purpose of return statement in python.**\n",
        "\n",
        "Ans)\n",
        "\n",
        "Return is keyword in python that used while defining the function.\n",
        "\n",
        "1) It is used to exit the function and provide the result of it.\n",
        "\n",
        "2) whatever the value specified to return is sent back to caller.\n",
        "\n",
        "3)Return can hold any type of value or computation.\n",
        "\n",
        "4)it also allow to concatenation with fun()\n",
        " Eg :-  \n",
        "\n",
        "         def fun():\n",
        "            return 'I am going to'\n",
        "       fun() + 'dwarka' # concatenation\n",
        "\n",
        "Output -   (I am going to dwarka)"
      ],
      "metadata": {
        "id": "QUkoDbCARjem"
      }
    },
    {
      "cell_type": "code",
      "source": [
        "def fun ():\n",
        "   return 'i m Rashi'\n",
        "fun()+' meena'"
      ],
      "metadata": {
        "colab": {
          "base_uri": "https://localhost:8080/",
          "height": 35
        },
        "id": "fvI7DhO1X5P0",
        "outputId": "0c0d0f14-a309-4216-e4be-2e106b86c133"
      },
      "execution_count": null,
      "outputs": [
        {
          "output_type": "execute_result",
          "data": {
            "text/plain": [
              "'i m Rashi meena'"
            ],
            "application/vnd.google.colaboratory.intrinsic+json": {
              "type": "string"
            }
          },
          "metadata": {},
          "execution_count": 15
        }
      ]
    },
    {
      "cell_type": "markdown",
      "source": [
        "**Ques 5) what are iterators in python and how they are different from iterables.**\n",
        "\n",
        "Ans-5)\n",
        "\n",
        "•**Iterable** are objects that can be iterated over, means elements of those objects that can be write one by one through loop.\n",
        "Eg: Tuple , list, dict, string\n",
        "\n",
        "• **Iterators** are objects that keep track of its position in an iterables. It allows you to iter items one by one.\n",
        "\n",
        "**Analogy to understand**\n",
        "Think Iterable is as home address  and member of house are elements. So you can excess the elements thru concept called (iter) iterators"
      ],
      "metadata": {
        "id": "6v15yOEmV59l"
      }
    },
    {
      "cell_type": "code",
      "source": [
        "#Eg :-\n",
        "My_tuple= ('father', 'mother', 'brother','sister', 'uncle')\n",
        "iter(My_tuple)"
      ],
      "metadata": {
        "colab": {
          "base_uri": "https://localhost:8080/"
        },
        "id": "ERGsPfojKotM",
        "outputId": "513d41c8-d4fc-48ea-9528-7c1af371020b"
      },
      "execution_count": null,
      "outputs": [
        {
          "output_type": "execute_result",
          "data": {
            "text/plain": [
              "<tuple_iterator at 0x7ffa76663b50>"
            ]
          },
          "metadata": {},
          "execution_count": 20
        }
      ]
    },
    {
      "cell_type": "code",
      "source": [
        "T=iter(My_tuple)\n",
        "T"
      ],
      "metadata": {
        "colab": {
          "base_uri": "https://localhost:8080/"
        },
        "id": "O9AAUSBJbOna",
        "outputId": "a397ac07-80c2-4405-cdeb-ede7b6920259"
      },
      "execution_count": null,
      "outputs": [
        {
          "output_type": "execute_result",
          "data": {
            "text/plain": [
              "<tuple_iterator at 0x7ffa766618d0>"
            ]
          },
          "metadata": {},
          "execution_count": 28
        }
      ]
    },
    {
      "cell_type": "code",
      "source": [
        "next(T)"
      ],
      "metadata": {
        "colab": {
          "base_uri": "https://localhost:8080/",
          "height": 35
        },
        "id": "Q1BoGAApbVY_",
        "outputId": "261e0031-bbeb-40c7-bfef-2ea36831a2d2"
      },
      "execution_count": null,
      "outputs": [
        {
          "output_type": "execute_result",
          "data": {
            "text/plain": [
              "'father'"
            ],
            "application/vnd.google.colaboratory.intrinsic+json": {
              "type": "string"
            }
          },
          "metadata": {},
          "execution_count": 29
        }
      ]
    },
    {
      "cell_type": "code",
      "source": [
        "next(T)"
      ],
      "metadata": {
        "colab": {
          "base_uri": "https://localhost:8080/",
          "height": 35
        },
        "id": "gCxIM1QwcG14",
        "outputId": "6e22658c-005d-4091-c3b6-a97b1191cb48"
      },
      "execution_count": null,
      "outputs": [
        {
          "output_type": "execute_result",
          "data": {
            "text/plain": [
              "'mother'"
            ],
            "application/vnd.google.colaboratory.intrinsic+json": {
              "type": "string"
            }
          },
          "metadata": {},
          "execution_count": 30
        }
      ]
    },
    {
      "cell_type": "code",
      "source": [
        "next(T)"
      ],
      "metadata": {
        "colab": {
          "base_uri": "https://localhost:8080/",
          "height": 35
        },
        "id": "D6lswgwCcL7D",
        "outputId": "84ab7113-1c4a-4b82-851f-349ae44b218b"
      },
      "execution_count": null,
      "outputs": [
        {
          "output_type": "execute_result",
          "data": {
            "text/plain": [
              "'brother'"
            ],
            "application/vnd.google.colaboratory.intrinsic+json": {
              "type": "string"
            }
          },
          "metadata": {},
          "execution_count": 31
        }
      ]
    },
    {
      "cell_type": "code",
      "source": [
        "next(T)"
      ],
      "metadata": {
        "colab": {
          "base_uri": "https://localhost:8080/",
          "height": 35
        },
        "id": "-pnYdrQ4cOP9",
        "outputId": "2355426f-9cc9-4acd-fc8f-1eeee5d257af"
      },
      "execution_count": null,
      "outputs": [
        {
          "output_type": "execute_result",
          "data": {
            "text/plain": [
              "'sister'"
            ],
            "application/vnd.google.colaboratory.intrinsic+json": {
              "type": "string"
            }
          },
          "metadata": {},
          "execution_count": 32
        }
      ]
    },
    {
      "cell_type": "code",
      "source": [
        "next(T)"
      ],
      "metadata": {
        "colab": {
          "base_uri": "https://localhost:8080/",
          "height": 35
        },
        "id": "YH-q7Y7bcOUx",
        "outputId": "4b9e5e0c-5659-4490-955d-bc1fc3822950"
      },
      "execution_count": null,
      "outputs": [
        {
          "output_type": "execute_result",
          "data": {
            "text/plain": [
              "'uncle'"
            ],
            "application/vnd.google.colaboratory.intrinsic+json": {
              "type": "string"
            }
          },
          "metadata": {},
          "execution_count": 33
        }
      ]
    },
    {
      "cell_type": "markdown",
      "source": [
        "**Ques 6) explain the concept of generator and how they are defined.**\n",
        "\n",
        "Ans-\n",
        "\n",
        "generator is special type of function that helps in simplify the huge complex task. Basically it generate sequence of results not at once but when it actually called.\n",
        "\n",
        "It generate values on the fly (at a moment).\n",
        "\n",
        "Unlike list[], it doesn't required to store data in memory.\n",
        "\n",
        "It's save time and efforts for programmer.\n",
        "\n",
        "\n",
        "**Let's understand thru analogy**\n",
        "Suppose for cooking, A has gone to market and bring all the ingredients and assemble it in fridge and when her mom ask for ingredients, A gave whole things at once to her.\n",
        "\n",
        "\n",
        "Whereas B just order things on Zepto whatever and whenever he or her mom required."
      ],
      "metadata": {
        "id": "T98uGRekcUF_"
      }
    },
    {
      "cell_type": "code",
      "source": [
        "def fun(*a):\n",
        "    for i in a:\n",
        "       yield i**2\n",
        "fun(1,2,3,4)"
      ],
      "metadata": {
        "colab": {
          "base_uri": "https://localhost:8080/"
        },
        "id": "F7ILIEwIe9qU",
        "outputId": "d8ca09a4-b02f-4a18-f5b7-66e20324087a"
      },
      "execution_count": null,
      "outputs": [
        {
          "output_type": "execute_result",
          "data": {
            "text/plain": [
              "<generator object fun at 0x7ffa7639d8c0>"
            ]
          },
          "metadata": {},
          "execution_count": 35
        }
      ]
    },
    {
      "cell_type": "code",
      "source": [
        "A= fun(1,2,3,4)\n",
        "A"
      ],
      "metadata": {
        "colab": {
          "base_uri": "https://localhost:8080/"
        },
        "id": "pAsOFNvQfWm1",
        "outputId": "197e9930-48f9-449a-a186-c37e3b2c8100"
      },
      "execution_count": null,
      "outputs": [
        {
          "output_type": "execute_result",
          "data": {
            "text/plain": [
              "<generator object fun at 0x7ffa7639d930>"
            ]
          },
          "metadata": {},
          "execution_count": 38
        }
      ]
    },
    {
      "cell_type": "code",
      "source": [
        "next(A)"
      ],
      "metadata": {
        "colab": {
          "base_uri": "https://localhost:8080/"
        },
        "id": "dsAOf2XJfp68",
        "outputId": "d8303404-5cec-4da5-ede0-9d2bb5b1b1fe"
      },
      "execution_count": null,
      "outputs": [
        {
          "output_type": "execute_result",
          "data": {
            "text/plain": [
              "1"
            ]
          },
          "metadata": {},
          "execution_count": 39
        }
      ]
    },
    {
      "cell_type": "code",
      "source": [
        "next(A)"
      ],
      "metadata": {
        "colab": {
          "base_uri": "https://localhost:8080/"
        },
        "id": "oJWZHIVafwLp",
        "outputId": "0de407a0-f8b6-47d6-864a-bd727a0b72e2"
      },
      "execution_count": null,
      "outputs": [
        {
          "output_type": "execute_result",
          "data": {
            "text/plain": [
              "4"
            ]
          },
          "metadata": {},
          "execution_count": 40
        }
      ]
    },
    {
      "cell_type": "code",
      "source": [
        "next(A)"
      ],
      "metadata": {
        "colab": {
          "base_uri": "https://localhost:8080/"
        },
        "id": "_c9ibUg0fxzk",
        "outputId": "4e46d1d9-a271-4008-aabe-71a6b450df77"
      },
      "execution_count": null,
      "outputs": [
        {
          "output_type": "execute_result",
          "data": {
            "text/plain": [
              "9"
            ]
          },
          "metadata": {},
          "execution_count": 41
        }
      ]
    },
    {
      "cell_type": "code",
      "source": [
        "next(A)"
      ],
      "metadata": {
        "colab": {
          "base_uri": "https://localhost:8080/"
        },
        "id": "AUGbpwJjfx4N",
        "outputId": "ad524f96-6867-4444-beb5-9c1efdd94d8d"
      },
      "execution_count": null,
      "outputs": [
        {
          "output_type": "execute_result",
          "data": {
            "text/plain": [
              "16"
            ]
          },
          "metadata": {},
          "execution_count": 42
        }
      ]
    },
    {
      "cell_type": "markdown",
      "source": [
        "**Ques 7) what are advantages of using generator over regular function.**\n",
        "\n",
        "Ans\n",
        "\n",
        "1) Generator print the value only when it is called again and again by programmer.although , in list or tuple or another function it gives value at onces.\n",
        "\n",
        "2) Generator doesn't store data first as it gives values at a moment.\n",
        "\n",
        "3) It save time and efforts.\n",
        "\n",
        "4) it can be useful while creating infinite sequence of values.\n",
        "\n",
        "5) it is consider lazy one because of next () feature.\n",
        "\n",
        "6) it can be useful to create complex sequence of values that would be difficult or impossible to create using other data structure."
      ],
      "metadata": {
        "id": "rdI2RygzgNal"
      }
    },
    {
      "cell_type": "code",
      "source": [
        "#eg:-\n",
        "\n",
        "def fun(*n):\n",
        "   for i in n:\n",
        "      yield i"
      ],
      "metadata": {
        "id": "1_NK1s95f3X-"
      },
      "execution_count": null,
      "outputs": []
    },
    {
      "cell_type": "code",
      "source": [
        "fun('Rashi','pw','skills')"
      ],
      "metadata": {
        "colab": {
          "base_uri": "https://localhost:8080/"
        },
        "id": "-l6tvtTviFvY",
        "outputId": "0f12f665-20e2-4c32-b776-a604e707649e"
      },
      "execution_count": null,
      "outputs": [
        {
          "output_type": "execute_result",
          "data": {
            "text/plain": [
              "<generator object fun at 0x7ffa7639dd20>"
            ]
          },
          "metadata": {},
          "execution_count": 63
        }
      ]
    },
    {
      "cell_type": "code",
      "source": [
        "A=fun('Rashi','pw','skills')\n",
        "A"
      ],
      "metadata": {
        "colab": {
          "base_uri": "https://localhost:8080/"
        },
        "id": "ykmtLYDxkLs7",
        "outputId": "d7663eb2-5f1a-4676-d8b1-bf2f4f0544b7"
      },
      "execution_count": null,
      "outputs": [
        {
          "output_type": "execute_result",
          "data": {
            "text/plain": [
              "<generator object fun at 0x7ffa7639de00>"
            ]
          },
          "metadata": {},
          "execution_count": 64
        }
      ]
    },
    {
      "cell_type": "code",
      "source": [
        "next(A) # iter one by one , only when called"
      ],
      "metadata": {
        "colab": {
          "base_uri": "https://localhost:8080/",
          "height": 35
        },
        "id": "ep3qeQ2IkP3F",
        "outputId": "11f9c480-70ae-488d-9b72-9f2fdd2ae505"
      },
      "execution_count": null,
      "outputs": [
        {
          "output_type": "execute_result",
          "data": {
            "text/plain": [
              "'Rashi'"
            ],
            "application/vnd.google.colaboratory.intrinsic+json": {
              "type": "string"
            }
          },
          "metadata": {},
          "execution_count": 65
        }
      ]
    },
    {
      "cell_type": "code",
      "source": [
        "next(A)"
      ],
      "metadata": {
        "colab": {
          "base_uri": "https://localhost:8080/",
          "height": 35
        },
        "id": "oSCJTjpHkrCl",
        "outputId": "e8229408-2a62-4fa7-9fb2-d61e45c5a426"
      },
      "execution_count": null,
      "outputs": [
        {
          "output_type": "execute_result",
          "data": {
            "text/plain": [
              "'pw'"
            ],
            "application/vnd.google.colaboratory.intrinsic+json": {
              "type": "string"
            }
          },
          "metadata": {},
          "execution_count": 71
        }
      ]
    },
    {
      "cell_type": "code",
      "source": [
        "def fun(*n): #list case\n",
        "   for i in n:\n",
        "    return i"
      ],
      "metadata": {
        "id": "ZG6gb4Udii2d"
      },
      "execution_count": null,
      "outputs": []
    },
    {
      "cell_type": "code",
      "source": [
        "fun(['Rashi','pw','skills']) #iter at once"
      ],
      "metadata": {
        "colab": {
          "base_uri": "https://localhost:8080/"
        },
        "id": "nQgTqxkWjisY",
        "outputId": "9cfe73d8-e53c-48ed-88c4-2129453bf0bf"
      },
      "execution_count": null,
      "outputs": [
        {
          "output_type": "execute_result",
          "data": {
            "text/plain": [
              "['Rashi', 'pw', 'skills']"
            ]
          },
          "metadata": {},
          "execution_count": 70
        }
      ]
    },
    {
      "cell_type": "markdown",
      "source": [
        "**Ques 8) what is lambda function in python and when is it typically used?**\n",
        "\n",
        "Ans 8)\n",
        "Lambda is short hand and anymous function in which we don't need to write def and return statement.\n",
        "\n",
        "#typically used\n",
        "\n",
        "It is simplify the huge large def function and make it near and clean.\n",
        "\n",
        "Through this function, anyone can understand & read the function easily.\n",
        "Syntax: lambda argument: expression\n",
        "\n",
        "\n",
        "It is one-time use means when you need small , concise function to use it only once.\n",
        "\n",
        "\n",
        "It can be used as arguments when you define map or reduce or filter ."
      ],
      "metadata": {
        "id": "ulcGh_32k0u2"
      }
    },
    {
      "cell_type": "code",
      "source": [
        "# I want to do add\n",
        "Add=(lambda x,y: x+y)"
      ],
      "metadata": {
        "id": "XopiyeIcmwuI"
      },
      "execution_count": null,
      "outputs": []
    },
    {
      "cell_type": "code",
      "source": [
        "Add(10,90)"
      ],
      "metadata": {
        "colab": {
          "base_uri": "https://localhost:8080/"
        },
        "id": "XL1AiDTHm-oR",
        "outputId": "11dc6a4c-ed6a-42bd-ba5d-621d4d9ceab7"
      },
      "execution_count": null,
      "outputs": [
        {
          "output_type": "execute_result",
          "data": {
            "text/plain": [
              "100"
            ]
          },
          "metadata": {},
          "execution_count": 73
        }
      ]
    },
    {
      "cell_type": "code",
      "source": [
        "# check palindrome\n",
        "Check= (lambda x: 'palindrome'if x==x[::-1] else 'not palindrom')"
      ],
      "metadata": {
        "id": "k0Sm5kLPnBZE"
      },
      "execution_count": null,
      "outputs": []
    },
    {
      "cell_type": "code",
      "source": [
        "Check('madam')"
      ],
      "metadata": {
        "colab": {
          "base_uri": "https://localhost:8080/",
          "height": 35
        },
        "id": "KZ41lR9QnsML",
        "outputId": "477beb3e-c236-4f68-98de-fbf19621cb82"
      },
      "execution_count": null,
      "outputs": [
        {
          "output_type": "execute_result",
          "data": {
            "text/plain": [
              "'palindrome'"
            ],
            "application/vnd.google.colaboratory.intrinsic+json": {
              "type": "string"
            }
          },
          "metadata": {},
          "execution_count": 78
        }
      ]
    },
    {
      "cell_type": "markdown",
      "source": [
        "\n",
        "\n",
        "**Ques 9) explain the purpose and usage of map() function in python.**\n",
        "\n",
        "Ans-9)\n",
        "\n",
        "Map function is special type of function that work as iterator to return a result after apply function to every item of an iterables.\n",
        "\n",
        "Basically,it iterate each value and mapping with function side by side.\n",
        "\n",
        "\n",
        "Syntax: map(func, Iterable)"
      ],
      "metadata": {
        "id": "FhLH874Mn6P_"
      }
    },
    {
      "cell_type": "code",
      "source": [
        "#Eg :-\n",
        "L=[1,2,3]\n",
        "def fun(x):\n",
        "   return x*2\n",
        "\n",
        "list(map(fun,L))"
      ],
      "metadata": {
        "colab": {
          "base_uri": "https://localhost:8080/"
        },
        "id": "Mj1gGpNTn4FH",
        "outputId": "1a0612d0-6729-4de6-b650-45518e2aa6a0"
      },
      "execution_count": null,
      "outputs": [
        {
          "output_type": "execute_result",
          "data": {
            "text/plain": [
              "[2, 4, 6]"
            ]
          },
          "metadata": {},
          "execution_count": 79
        }
      ]
    },
    {
      "cell_type": "code",
      "source": [
        "#Eg:-\n",
        "It= [10,20,30,40]\n",
        "It_1= [10,20,40,30]\n",
        "list(map(lambda x,y: x+y,It,It_1))"
      ],
      "metadata": {
        "colab": {
          "base_uri": "https://localhost:8080/"
        },
        "id": "fuwDlXVSqefJ",
        "outputId": "cf632c4d-9c24-428e-a625-c9194d4b0881"
      },
      "execution_count": null,
      "outputs": [
        {
          "output_type": "execute_result",
          "data": {
            "text/plain": [
              "[20, 40, 70, 70]"
            ]
          },
          "metadata": {},
          "execution_count": 81
        }
      ]
    },
    {
      "cell_type": "markdown",
      "source": [
        "**Ques 10) what is difference between map(), reduce() and filter() function in python.**\n",
        "\n",
        "\n",
        "Ans 10)\n",
        "\n",
        "1) Map(): map function applies given function to each item of iterable and return a map object.it runs the function along with iterable.\n",
        "\n",
        "Syntax: map(func, iterable)"
      ],
      "metadata": {
        "id": "Pd5wYEeTrFJR"
      }
    },
    {
      "cell_type": "code",
      "source": [
        "\n",
        "A=['an','wow']\n",
        "list(map(lambda x: x.upper(), A))"
      ],
      "metadata": {
        "colab": {
          "base_uri": "https://localhost:8080/"
        },
        "id": "Bl_3hfxZsZwK",
        "outputId": "1f38b9ab-2538-4863-e1d6-7f0abc21063c"
      },
      "execution_count": null,
      "outputs": [
        {
          "output_type": "execute_result",
          "data": {
            "text/plain": [
              "['AN', 'WOW']"
            ]
          },
          "metadata": {},
          "execution_count": 92
        }
      ]
    },
    {
      "cell_type": "markdown",
      "source": [
        "2) Reduce function: this function exactly takes 2 inputs and rolling computation to sequential pairs of values in an iterables and returns a single value.\n",
        "\n",
        "Syntax: from functools import reduce\n",
        "        reduce(func,Iterable)"
      ],
      "metadata": {
        "id": "QLhdDIRLuHzf"
      }
    },
    {
      "cell_type": "code",
      "source": [
        "from functools import reduce\n",
        "Itera= [1,2,3]\n",
        "Multiple=(reduce(lambda x,y: x*y, Itera))\n",
        "print(Multiple)"
      ],
      "metadata": {
        "colab": {
          "base_uri": "https://localhost:8080/"
        },
        "id": "Z8cunB7GurVX",
        "outputId": "eeebcbf2-6e46-46a9-a087-431bd865e4bb"
      },
      "execution_count": null,
      "outputs": [
        {
          "output_type": "stream",
          "name": "stdout",
          "text": [
            "6\n"
          ]
        }
      ]
    },
    {
      "cell_type": "markdown",
      "source": [
        "3) filter function: filter is also similar to above function as it takes two components in syntax 'function and Iterable'. It select iterator from iterable objects (tuble,list etc) if the condition is true. Basically, filter out the iterator based on specific conditions."
      ],
      "metadata": {
        "id": "WU-HcJL7ZvyJ"
      }
    },
    {
      "cell_type": "code",
      "source": [
        "#Syntax : filter(func,iterable)\n",
        "S=[1,2,3,4,5]\n",
        "Line=list(filter(lambda x: x%2==0,S))\n",
        "print(Line)"
      ],
      "metadata": {
        "colab": {
          "base_uri": "https://localhost:8080/"
        },
        "id": "1BzUPmShZvBV",
        "outputId": "b3d8f07b-9f7d-4b78-f00f-ca0810e3f5ce"
      },
      "execution_count": null,
      "outputs": [
        {
          "output_type": "stream",
          "name": "stdout",
          "text": [
            "[2, 4]\n"
          ]
        }
      ]
    },
    {
      "cell_type": "markdown",
      "source": [
        "**Ques 11)  Using pen & Paper write the internal mechanism for sum operation using  reduce function on this given\n",
        "list:[47,11,42,13];**"
      ],
      "metadata": {
        "id": "cmEmcBlh0Oyh"
      }
    },
    {
      "cell_type": "markdown",
      "source": [
        "![q11 .jpg](data:image/jpeg;base64,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)"
      ],
      "metadata": {
        "id": "Rxkxv-Bh0X3Y"
      }
    },
    {
      "cell_type": "markdown",
      "source": [
        "##**Practical questions"
      ],
      "metadata": {
        "id": "BGhoVRSc6NsC"
      }
    },
    {
      "cell_type": "markdown",
      "source": [
        "**Ques 1)  Write a Python function that takes a list of numbers as input and returns the sum of all even numbers in\n",
        "the list**"
      ],
      "metadata": {
        "id": "6kz2b4VBlKK7"
      }
    },
    {
      "cell_type": "code",
      "source": [
        "def even_add(a):\n",
        "     return sum(i for i in a if i%2==0)"
      ],
      "metadata": {
        "id": "FoodAAxHk-36"
      },
      "execution_count": null,
      "outputs": []
    },
    {
      "cell_type": "code",
      "source": [
        "even_add([2,3,4,6,1,2.0])"
      ],
      "metadata": {
        "colab": {
          "base_uri": "https://localhost:8080/"
        },
        "id": "DH_J3RVylAUF",
        "outputId": "b113ddaf-7c26-44a6-a883-4723a80bfd30"
      },
      "execution_count": null,
      "outputs": [
        {
          "output_type": "execute_result",
          "data": {
            "text/plain": [
              "14.0"
            ]
          },
          "metadata": {},
          "execution_count": 138
        }
      ]
    },
    {
      "cell_type": "markdown",
      "source": [
        "Ques 2) Create a Python function that accepts a string and returns the reverse of that string."
      ],
      "metadata": {
        "id": "w-8RDXM7EUCR"
      }
    },
    {
      "cell_type": "code",
      "source": [
        "def fun():\n",
        "    a= str(input('write word :'))\n",
        "    return a[::-1]"
      ],
      "metadata": {
        "id": "bmBbYNSPElE9"
      },
      "execution_count": null,
      "outputs": []
    },
    {
      "cell_type": "code",
      "source": [
        "fun()"
      ],
      "metadata": {
        "colab": {
          "base_uri": "https://localhost:8080/",
          "height": 53
        },
        "id": "R3AAqKTHl5OX",
        "outputId": "7d7bffae-7fb5-48ff-aee4-c1bd9642321b"
      },
      "execution_count": null,
      "outputs": [
        {
          "name": "stdout",
          "output_type": "stream",
          "text": [
            "write word :SCHOOL\n"
          ]
        },
        {
          "output_type": "execute_result",
          "data": {
            "text/plain": [
              "'LOOHCS'"
            ],
            "application/vnd.google.colaboratory.intrinsic+json": {
              "type": "string"
            }
          },
          "metadata": {},
          "execution_count": 148
        }
      ]
    },
    {
      "cell_type": "markdown",
      "source": [
        "**Ques 3) Implement a Python function that takes a list of integers and returns a new list containing the squares of\n",
        "each number.**"
      ],
      "metadata": {
        "id": "4ME_22-3_Pob"
      }
    },
    {
      "cell_type": "code",
      "source": [
        "\n",
        "def fun(a):\n",
        "   n=[]\n",
        "   for i in a:\n",
        "      if type(i)==int or type(i)==float:\n",
        "         n.append(i*i)\n",
        "   return n\n",
        "fun([2,2.34,5.44,'rashi','wow',4,6])"
      ],
      "metadata": {
        "colab": {
          "base_uri": "https://localhost:8080/"
        },
        "id": "-S7kZjHL6Q6j",
        "outputId": "7d02a617-15fd-4541-b4de-8c3bc1d157ee"
      },
      "execution_count": 50,
      "outputs": [
        {
          "output_type": "execute_result",
          "data": {
            "text/plain": [
              "[4, 5.475599999999999, 29.593600000000006, 16, 36]"
            ]
          },
          "metadata": {},
          "execution_count": 50
        }
      ]
    },
    {
      "cell_type": "markdown",
      "source": [
        "**Ques 4) Write a Python function that checks if a given number is prime or not from 1 to 200**"
      ],
      "metadata": {
        "id": "j8ikEYqIm9Sm"
      }
    },
    {
      "cell_type": "code",
      "source": [
        "def fun(n):\n",
        "   a=int(n/2)\n",
        "   if n>= 1 and n<= 200 :\n",
        "\n",
        "       for i in range(2,a+1):\n",
        "           if n%i==0:\n",
        "               return 'not prime'\n",
        "               break\n",
        "           else:\n",
        "              return 'prime'\n",
        "              break\n",
        "   else:\n",
        "       print('number is not between 1 to 200')"
      ],
      "metadata": {
        "id": "kLqekDuISkrb"
      },
      "execution_count": null,
      "outputs": []
    },
    {
      "cell_type": "code",
      "source": [
        "fun(24)"
      ],
      "metadata": {
        "colab": {
          "base_uri": "https://localhost:8080/",
          "height": 35
        },
        "id": "6091XvZXTGDY",
        "outputId": "94065cf6-efcc-4565-818e-69c06a41e2ef"
      },
      "execution_count": null,
      "outputs": [
        {
          "output_type": "execute_result",
          "data": {
            "text/plain": [
              "'not prime'"
            ],
            "application/vnd.google.colaboratory.intrinsic+json": {
              "type": "string"
            }
          },
          "metadata": {},
          "execution_count": 314
        }
      ]
    },
    {
      "cell_type": "markdown",
      "source": [
        "**Ques 5) Create an iterator class in Python that generates the Fibonacci sequence up to a specified number of\n",
        "terms**"
      ],
      "metadata": {
        "id": "tg_5YGMwy3bp"
      }
    },
    {
      "cell_type": "code",
      "source": [
        "def fib(n):\n",
        "   a=0\n",
        "   b=1\n",
        "   for i in range(n):\n",
        "      yield a\n",
        "      a,b=b,a+b"
      ],
      "metadata": {
        "id": "iMFzSKf3y_1a"
      },
      "execution_count": null,
      "outputs": []
    },
    {
      "cell_type": "code",
      "source": [
        "gen=fib(10)\n",
        "gen"
      ],
      "metadata": {
        "colab": {
          "base_uri": "https://localhost:8080/"
        },
        "id": "CAzX7GOJzdeY",
        "outputId": "0eb65c87-e09a-4a6e-f4c3-e360f26ea886"
      },
      "execution_count": null,
      "outputs": [
        {
          "output_type": "execute_result",
          "data": {
            "text/plain": [
              "<generator object fib at 0x7d04d6eebae0>"
            ]
          },
          "metadata": {},
          "execution_count": 308
        }
      ]
    },
    {
      "cell_type": "code",
      "source": [
        "next(gen)"
      ],
      "metadata": {
        "colab": {
          "base_uri": "https://localhost:8080/"
        },
        "id": "Aw-mdU_5a5yX",
        "outputId": "5f0f1a0b-a5fb-4006-ae81-72ad50efadb8"
      },
      "execution_count": null,
      "outputs": [
        {
          "output_type": "execute_result",
          "data": {
            "text/plain": [
              "0"
            ]
          },
          "metadata": {},
          "execution_count": 309
        }
      ]
    },
    {
      "cell_type": "code",
      "source": [
        "def read_file(name):\n",
        "     with open(name,'r') as file:\n",
        "          for line in name:\n",
        "              yield line.strip()"
      ],
      "metadata": {
        "id": "4Z8Z5aMV1cyA"
      },
      "execution_count": null,
      "outputs": []
    },
    {
      "cell_type": "code",
      "source": [
        "A=read_file('rashi is girl')\n",
        "A"
      ],
      "metadata": {
        "colab": {
          "base_uri": "https://localhost:8080/"
        },
        "id": "_P-bk15F1xem",
        "outputId": "3208048d-f89c-4465-a421-d2a77ed17f2f"
      },
      "execution_count": null,
      "outputs": [
        {
          "output_type": "execute_result",
          "data": {
            "text/plain": [
              "<generator object read_file at 0x7d04d6ee9ee0>"
            ]
          },
          "metadata": {},
          "execution_count": 174
        }
      ]
    },
    {
      "cell_type": "markdown",
      "source": [
        "**Ques 6) write a generator function in python that used the powers of 2 up to a given exponent.**"
      ],
      "metadata": {
        "id": "_XJfM2wrJv6s"
      }
    },
    {
      "cell_type": "code",
      "source": [
        "def fun(exponent):\n",
        "     for i in range(exponent+1):\n",
        "         yield 2**i"
      ],
      "metadata": {
        "id": "pnM-KyXFJ7AJ"
      },
      "execution_count": null,
      "outputs": []
    },
    {
      "cell_type": "code",
      "source": [
        "fun(5)"
      ],
      "metadata": {
        "colab": {
          "base_uri": "https://localhost:8080/"
        },
        "id": "gOU-_tnqK8_o",
        "outputId": "04906674-0b94-4131-fad9-59c62a30a405"
      },
      "execution_count": null,
      "outputs": [
        {
          "output_type": "execute_result",
          "data": {
            "text/plain": [
              "<generator object fun at 0x7d04d6eeb4c0>"
            ]
          },
          "metadata": {},
          "execution_count": 247
        }
      ]
    },
    {
      "cell_type": "code",
      "source": [
        "A=fun(5)\n",
        "A"
      ],
      "metadata": {
        "colab": {
          "base_uri": "https://localhost:8080/"
        },
        "id": "efMXd7SjMITR",
        "outputId": "f4a91a7b-67b5-4096-be56-4b16cc1a8c7b"
      },
      "execution_count": null,
      "outputs": [
        {
          "output_type": "execute_result",
          "data": {
            "text/plain": [
              "<generator object fun at 0x7d04d6eeb140>"
            ]
          },
          "metadata": {},
          "execution_count": 251
        }
      ]
    },
    {
      "cell_type": "code",
      "source": [
        "next(A)"
      ],
      "metadata": {
        "colab": {
          "base_uri": "https://localhost:8080/"
        },
        "id": "Rhi5OTOXMIa5",
        "outputId": "70f6a852-2dca-4808-d8ff-27cbb6bbedb7"
      },
      "execution_count": null,
      "outputs": [
        {
          "output_type": "execute_result",
          "data": {
            "text/plain": [
              "1"
            ]
          },
          "metadata": {},
          "execution_count": 252
        }
      ]
    },
    {
      "cell_type": "code",
      "source": [
        "next(A)"
      ],
      "metadata": {
        "colab": {
          "base_uri": "https://localhost:8080/"
        },
        "id": "koB7JMj_LAEn",
        "outputId": "4986f683-899d-4c6c-fafe-4cccde50a791"
      },
      "execution_count": null,
      "outputs": [
        {
          "output_type": "execute_result",
          "data": {
            "text/plain": [
              "2"
            ]
          },
          "metadata": {},
          "execution_count": 253
        }
      ]
    },
    {
      "cell_type": "markdown",
      "source": [
        "**Queu 7)  Implement a generator function that reads a file line by line and yields each line as a string.**"
      ],
      "metadata": {
        "id": "59JzUzC459W5"
      }
    },
    {
      "cell_type": "code",
      "source": [
        "file = open(\"abc.txt\", \"w\")\n",
        "file.write(\"This is line 1\\n\")\n",
        "file.write(\"This is line 2\\n\")\n",
        "file.write(\"This is line 3\\n\")\n",
        "file.write(\"This is line 4\\n\")\n",
        "file.close()\n",
        "\n",
        "def fun():\n",
        "  file = open(\"abc.txt\", 'r')\n",
        "  file.seek(0)\n",
        "  for i in file:\n",
        "    yield i.strip()"
      ],
      "metadata": {
        "id": "RqaTw_q76AJ-"
      },
      "execution_count": null,
      "outputs": []
    },
    {
      "cell_type": "code",
      "source": [
        "A=fun()\n",
        "A"
      ],
      "metadata": {
        "colab": {
          "base_uri": "https://localhost:8080/"
        },
        "id": "e2116f5i6Ymn",
        "outputId": "34726f0d-fee3-48d2-a276-c44402d5fee0"
      },
      "execution_count": null,
      "outputs": [
        {
          "output_type": "execute_result",
          "data": {
            "text/plain": [
              "<generator object fun at 0x7d04d6eebed0>"
            ]
          },
          "metadata": {},
          "execution_count": 329
        }
      ]
    },
    {
      "cell_type": "code",
      "source": [
        "next(A)"
      ],
      "metadata": {
        "colab": {
          "base_uri": "https://localhost:8080/",
          "height": 35
        },
        "id": "gahsrl7V6sGH",
        "outputId": "866a583f-04aa-4fe9-b59f-0dc38979a5d0"
      },
      "execution_count": null,
      "outputs": [
        {
          "output_type": "execute_result",
          "data": {
            "text/plain": [
              "'This is line 1'"
            ],
            "application/vnd.google.colaboratory.intrinsic+json": {
              "type": "string"
            }
          },
          "metadata": {},
          "execution_count": 330
        }
      ]
    },
    {
      "cell_type": "markdown",
      "source": [
        "**Ques 8) Use a lambda function in python to sort a list of tuple based on the second elements of each tuple.**"
      ],
      "metadata": {
        "id": "9KCs4z0lIDr_"
      }
    },
    {
      "cell_type": "code",
      "source": [
        "t=('Apple','Banana','Grapes')\n",
        "sorted(t,key=lambda t:t[1:])"
      ],
      "metadata": {
        "colab": {
          "base_uri": "https://localhost:8080/"
        },
        "id": "tKkV5y_VITaX",
        "outputId": "a1a78e99-3fd6-4817-8b09-b363a93fed60"
      },
      "execution_count": null,
      "outputs": [
        {
          "output_type": "execute_result",
          "data": {
            "text/plain": [
              "['Banana', 'Apple', 'Grapes']"
            ]
          },
          "metadata": {},
          "execution_count": 209
        }
      ]
    },
    {
      "cell_type": "markdown",
      "source": [
        "\n",
        "**Ques 9) write a python program that uses map() to convert a list of temperatures from Celsius to Fahrenheit.**"
      ],
      "metadata": {
        "id": "Byv883iG9cnT"
      }
    },
    {
      "cell_type": "code",
      "source": [
        "Celsius=[98, 65]\n",
        "list(map(lambda x:x*9/5+32, Celsius))"
      ],
      "metadata": {
        "colab": {
          "base_uri": "https://localhost:8080/"
        },
        "id": "koBg8x42G9nV",
        "outputId": "63e95fce-f2b0-4eee-dcde-00b946172d4c"
      },
      "execution_count": null,
      "outputs": [
        {
          "output_type": "execute_result",
          "data": {
            "text/plain": [
              "[208.4, 149.0]"
            ]
          },
          "metadata": {},
          "execution_count": 205
        }
      ]
    },
    {
      "cell_type": "markdown",
      "source": [
        "**Ques 10) create python program that used filter() to remove all the vowels from a given string.**"
      ],
      "metadata": {
        "id": "fggkHH-U8qRQ"
      }
    },
    {
      "cell_type": "code",
      "source": [
        "def remove_vowels(input_string):\n",
        "    vowels = \"aeiouAEIOU\"\n",
        "    result = filter(lambda x: x not in vowels, input_string)\n",
        "    return ''.join(result)"
      ],
      "metadata": {
        "id": "u4xr0C1s7vhN"
      },
      "execution_count": null,
      "outputs": []
    },
    {
      "cell_type": "code",
      "source": [
        "remove_vowels(\"hellow\")"
      ],
      "metadata": {
        "colab": {
          "base_uri": "https://localhost:8080/",
          "height": 35
        },
        "id": "srNET_Qh8MaU",
        "outputId": "72e5ab39-2f1c-4641-944c-5f88064a1bef"
      },
      "execution_count": null,
      "outputs": [
        {
          "output_type": "execute_result",
          "data": {
            "text/plain": [
              "'hllw'"
            ],
            "application/vnd.google.colaboratory.intrinsic+json": {
              "type": "string"
            }
          },
          "metadata": {},
          "execution_count": 200
        }
      ]
    },
    {
      "cell_type": "markdown",
      "source": [
        "**ques 11)  Imagine an accounting routine used in a book shop. It works on a list with sublists, which look like this:**\n",
        "\n",
        "Write a Python program using lambda and map![ques 11.jpg](data:image/jpeg;base64,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)\n",
        "\n",
        "\n",
        "\n",
        "\n",
        "\n",
        "**Write a Python program, which returns a list with 2-tuples. Each tuple consists of the order number and the product of the price per item and the quantity. The product should be increased by 10,- € if the value of the order is smaller than 100,00 €.**\n",
        "\n",
        "**Write a Python program using lambda and map.**"
      ],
      "metadata": {
        "id": "Kxdz4eyljMIm"
      }
    },
    {
      "cell_type": "code",
      "source": [
        "def fun (order) :\n",
        "\n",
        " result=list(map(lambda order: (order[0],order[1]*order[2]+(10 if order[1]*order[2]<100 else 0)),order))\n",
        " return result\n",
        "fun([[ 34587, 40.95, 4], [98762, 56.8, 5], [77226, 32.95, 3], [88112, 24.99, 3]])\n"
      ],
      "metadata": {
        "colab": {
          "base_uri": "https://localhost:8080/"
        },
        "id": "FNsQgWn8tK1U",
        "outputId": "b1848627-d88b-4c0c-8979-811b9663c6c2"
      },
      "execution_count": 49,
      "outputs": [
        {
          "output_type": "execute_result",
          "data": {
            "text/plain": [
              "[(34587, 163.8), (98762, 284.0), (77226, 108.85000000000001), (88112, 84.97)]"
            ]
          },
          "metadata": {},
          "execution_count": 49
        }
      ]
    }
  ]
}