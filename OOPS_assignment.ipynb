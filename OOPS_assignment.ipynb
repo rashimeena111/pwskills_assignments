{
  "nbformat": 4,
  "nbformat_minor": 0,
  "metadata": {
    "colab": {
      "provenance": [],
      "authorship_tag": "ABX9TyNBIJUjC9W35kdzC09bss+p",
      "include_colab_link": true
    },
    "kernelspec": {
      "name": "python3",
      "display_name": "Python 3"
    },
    "language_info": {
      "name": "python"
    }
  },
  "cells": [
    {
      "cell_type": "markdown",
      "metadata": {
        "id": "view-in-github",
        "colab_type": "text"
      },
      "source": [
        "<a href=\"https://colab.research.google.com/github/rashimeena111/pwskills_assignments/blob/main/OOPS_assignment.ipynb\" target=\"_parent\"><img src=\"https://colab.research.google.com/assets/colab-badge.svg\" alt=\"Open In Colab\"/></a>"
      ]
    },
    {
      "cell_type": "markdown",
      "source": [
        "##ASSIGNMENT"
      ],
      "metadata": {
        "id": "23OgWEIVyhxJ"
      }
    },
    {
      "cell_type": "markdown",
      "source": [
        "##**1. What are the five key concepts of Object-Oriented Programming (OOP)?**\n",
        "\n",
        "\n",
        "\n",
        "Ans- Oops stands for Object-Oriented Programming that will allows the user to define methods inside the Class and these method can be call by creating instance of Class.\n",
        "\n",
        " So, there are 5 basic key concept of Oops:\n",
        "\n",
        "1) **Constructor** : A constructor is a special method defined inside the class that is automatically called when object of that class is instatiated . The constructor is used to initialize the attribute of the class. In laymen's language __init__ takes data with respect to object. so , there are multiple way to define constructor.\n",
        "\n",
        "\n",
        "\n",
        "\n"
      ],
      "metadata": {
        "id": "DY7sOpKNVgmc"
      }
    },
    {
      "cell_type": "code",
      "source": [
        "# example 1\n",
        "class Nationality:\n",
        "\n",
        "  def __init__(self, name, population):\n",
        "    self.name=name\n",
        "    self.population=population\n",
        "  def Country(self):\n",
        "    return f'country name is {self.name} with population of around {self.population} in billion'\n",
        "\n",
        "obj=Nationality('Indian', 3.14) # obj create\n"
      ],
      "metadata": {
        "id": "RiYtrHCpY81C"
      },
      "execution_count": null,
      "outputs": []
    },
    {
      "cell_type": "code",
      "source": [
        "# example 2\n",
        "class Nationality:\n",
        "\n",
        "  def __init__(self):\n",
        "    self.name='India'\n",
        "    self.population= 3.14\n",
        "  def Country(self):\n",
        "    return f'country name is {self.name} with population of around {self.population} in billion'\n",
        "\n",
        "obj=Nationality"
      ],
      "metadata": {
        "id": "c622gBuoaWF3"
      },
      "execution_count": null,
      "outputs": []
    },
    {
      "cell_type": "markdown",
      "source": [
        "2) **Inheritance** : It is process of receiving inherits of parent class by child classes. It allow the derived class to inherit the behvior and properties of the class. There are 5 types of Inheritance in python .\n",
        "1) single inheritance\n",
        "2) Multi-level inheritance\n",
        "3) Multiple Inheritance\n",
        "4) hierarchy inheritance\n",
        "5) Hybrid inheritance"
      ],
      "metadata": {
        "id": "aYezAe53bOV2"
      }
    },
    {
      "cell_type": "code",
      "source": [
        "# example\n",
        "\n",
        "class Student:\n",
        "  def info(self):\n",
        "    print('i am parent class')\n",
        "class Kids(Student): # kids is inherit the property of parent class\n",
        "  def var(self):\n",
        "    print('i am child class')\n",
        "\n",
        "S=Kids() # obj created\n",
        "(S.info())\n",
        "(S.var())\n"
      ],
      "metadata": {
        "colab": {
          "base_uri": "https://localhost:8080/"
        },
        "id": "R1gtIVLRcWKU",
        "outputId": "2599e886-7225-4b46-c260-8aeac40ba62d"
      },
      "execution_count": null,
      "outputs": [
        {
          "output_type": "stream",
          "name": "stdout",
          "text": [
            "i am parent class\n",
            "i am child class\n"
          ]
        }
      ]
    },
    {
      "cell_type": "markdown",
      "source": [
        "3) **Encapsulation** : This concept helps to put restiction on specific method or attribute of class. It allows the user to hide the internal details of object from outside the world. User can achieve this through accessible modifiers .\n",
        "\n",
        "1) Public modifier\n",
        "\n",
        "2) private modifier\n",
        "\n",
        "3) potected modifier\n"
      ],
      "metadata": {
        "id": "D3spstKVcUuK"
      }
    },
    {
      "cell_type": "code",
      "source": [
        "# Example\n",
        "class Hide:\n",
        "  def __init__(self, name,age,course):\n",
        "    self.name=name # public\n",
        "    self.__age=age # private\n",
        "    self._course=course # protected\n",
        "  def info(self):\n",
        "    return (self.name,self.__age,self._course)\n",
        "\n",
        "obj=Hide('arun',14,'ds')\n",
        "print(obj.info())\n",
        "print(obj.name) # access public\n",
        "print(obj._Hide__age) # access pvt\n",
        "print(obj._course) # access protected"
      ],
      "metadata": {
        "colab": {
          "base_uri": "https://localhost:8080/"
        },
        "id": "f0ZUarNveHLt",
        "outputId": "60495310-cf20-41f2-e870-f5e48f5e1691"
      },
      "execution_count": null,
      "outputs": [
        {
          "output_type": "stream",
          "name": "stdout",
          "text": [
            "('arun', 14, 'ds')\n",
            "arun\n",
            "14\n",
            "ds\n"
          ]
        }
      ]
    },
    {
      "cell_type": "markdown",
      "source": [
        "4)**Abstraction** : This concept shows only the neccessary information to the outsider while hide the inside details. it helps to reduce complexity . It provide simple interface to interact with an object and system.\n"
      ],
      "metadata": {
        "id": "F5nwcaBnfp8g"
      }
    },
    {
      "cell_type": "code",
      "source": [
        "# example\n",
        "import abc\n",
        "class Material:\n",
        "  @abc.abstractmethod\n",
        "  def english(self):\n",
        "    pass\n",
        "  @abc.abstractmethod\n",
        "  def hindi(self):\n",
        "    pass\n",
        "\n"
      ],
      "metadata": {
        "id": "GQW6OCdfgEb6"
      },
      "execution_count": null,
      "outputs": []
    },
    {
      "cell_type": "code",
      "source": [
        "class Study:\n",
        "  def hindi(self):\n",
        "    return 'practice'\n",
        "\n",
        "S=Study()\n",
        "S.hindi()"
      ],
      "metadata": {
        "colab": {
          "base_uri": "https://localhost:8080/",
          "height": 36
        },
        "id": "TMHnum7QhRFP",
        "outputId": "f8e608f2-4851-4ce7-83c5-983d4573026f"
      },
      "execution_count": null,
      "outputs": [
        {
          "output_type": "execute_result",
          "data": {
            "text/plain": [
              "'practice'"
            ],
            "application/vnd.google.colaboratory.intrinsic+json": {
              "type": "string"
            }
          },
          "metadata": {},
          "execution_count": 37
        }
      ]
    },
    {
      "cell_type": "markdown",
      "source": [
        "5)**Polymorphism** : This concept allows objects of different classes to be treated as object of common superclass. It helps to write the code in more generic mode."
      ],
      "metadata": {
        "id": "bibm325wgDhI"
      }
    },
    {
      "cell_type": "code",
      "source": [
        "# example\n",
        "class Fruit:\n",
        "  def info(self):\n",
        "    print('sweeet')\n",
        "\n",
        "class Vegetable:\n",
        "  def info(self):\n",
        "    print('protein')\n",
        "\n",
        "obj=Fruit()\n",
        "obj2=Vegetable()\n",
        "class_obj= [obj,obj2]\n",
        "\n",
        "# another func\n",
        "def Take(class_obj):\n",
        "  for i in class_obj:\n",
        "    i.info()\n",
        "\n",
        "Take(class_obj)"
      ],
      "metadata": {
        "colab": {
          "base_uri": "https://localhost:8080/"
        },
        "id": "9Z53b1o7iPDO",
        "outputId": "8750f867-99e4-4672-c349-18a719e54e6d"
      },
      "execution_count": null,
      "outputs": [
        {
          "output_type": "stream",
          "name": "stdout",
          "text": [
            "sweeet\n",
            "protein\n"
          ]
        }
      ]
    },
    {
      "cell_type": "markdown",
      "source": [
        "##***Ques 2  Write a Python class for a `Car` with attributes for `make`, `model`, and `year`. Include a method to display\n",
        "the car's information. ***\n"
      ],
      "metadata": {
        "id": "TcPkBr3GjVIw"
      }
    },
    {
      "cell_type": "code",
      "source": [
        "class Car:\n",
        "  def __init__(self,make, model, year):\n",
        "    self.make=make\n",
        "    self.model=model\n",
        "    self.year=year\n",
        "  def car_info(self):\n",
        "    return (\"make:\",self.make,\"model:\",self.model,\"year:\",self.year)\n"
      ],
      "metadata": {
        "id": "UvnQNeDpiCeS"
      },
      "execution_count": null,
      "outputs": []
    },
    {
      "cell_type": "code",
      "source": [
        "obj=Student()"
      ],
      "metadata": {
        "id": "zzXkzmhOZsLC"
      },
      "execution_count": null,
      "outputs": []
    },
    {
      "cell_type": "code",
      "source": [
        "obj=Car(\"volkswagon\",\"S201\",2014)"
      ],
      "metadata": {
        "id": "w9f7SObojCWY"
      },
      "execution_count": null,
      "outputs": []
    },
    {
      "cell_type": "code",
      "source": [
        "obj.car_info()"
      ],
      "metadata": {
        "colab": {
          "base_uri": "https://localhost:8080/"
        },
        "id": "QzxSO4vFjCS4",
        "outputId": "34742869-d262-452f-b63c-dccbd112e774"
      },
      "execution_count": null,
      "outputs": [
        {
          "output_type": "execute_result",
          "data": {
            "text/plain": [
              "('make:', 'volkswagon', 'model:', 'S201', 'year:', 2014)"
            ]
          },
          "metadata": {},
          "execution_count": 46
        }
      ]
    },
    {
      "cell_type": "code",
      "source": [
        "obj.model"
      ],
      "metadata": {
        "colab": {
          "base_uri": "https://localhost:8080/",
          "height": 36
        },
        "id": "s1C5AH4vlvCx",
        "outputId": "bb60b48c-dc3c-4f13-b1ad-b4eee5b8ac98"
      },
      "execution_count": null,
      "outputs": [
        {
          "output_type": "execute_result",
          "data": {
            "text/plain": [
              "'S201'"
            ],
            "application/vnd.google.colaboratory.intrinsic+json": {
              "type": "string"
            }
          },
          "metadata": {},
          "execution_count": 48
        }
      ]
    },
    {
      "cell_type": "code",
      "source": [
        "obj.make"
      ],
      "metadata": {
        "colab": {
          "base_uri": "https://localhost:8080/",
          "height": 36
        },
        "id": "KuyDacGumArY",
        "outputId": "5135085f-4ed4-4bf9-f73f-64f89d78081c"
      },
      "execution_count": null,
      "outputs": [
        {
          "output_type": "execute_result",
          "data": {
            "text/plain": [
              "'volkswagon'"
            ],
            "application/vnd.google.colaboratory.intrinsic+json": {
              "type": "string"
            }
          },
          "metadata": {},
          "execution_count": 49
        }
      ]
    },
    {
      "cell_type": "code",
      "source": [
        "obj.year"
      ],
      "metadata": {
        "colab": {
          "base_uri": "https://localhost:8080/"
        },
        "id": "0u3Z_Dc_l0i1",
        "outputId": "4c19cdcf-a995-4900-9d3c-115c47adbbdd"
      },
      "execution_count": null,
      "outputs": [
        {
          "output_type": "execute_result",
          "data": {
            "text/plain": [
              "2014"
            ]
          },
          "metadata": {},
          "execution_count": 50
        }
      ]
    },
    {
      "cell_type": "markdown",
      "source": [
        "##**Ques 3. Explain the difference between instance methods and class methods. Provide an example of each.**\n",
        "\n",
        "Ans- **Instance method** are bound to class and take self as first paramter.\n",
        "\n",
        "It can access and modify instance attribute and\n",
        "\n",
        " also can call other instance method inside the class.\n"
      ],
      "metadata": {
        "id": "MYnpXikkjUCC"
      }
    },
    {
      "cell_type": "code",
      "source": [
        "# instance method example\n",
        "class Student:\n",
        "  def __init__(self,name):\n",
        "    self.name=name\n",
        "\n",
        "  def fun(self): # instance method\n",
        "    return f'My name is {self.name}'\n",
        "\n",
        "S=Student('Arun')\n",
        "print(S.fun())\n"
      ],
      "metadata": {
        "colab": {
          "base_uri": "https://localhost:8080/"
        },
        "id": "e_6VM65gpcxr",
        "outputId": "f81907a4-3731-4adf-919a-6f275b2392c7"
      },
      "execution_count": null,
      "outputs": [
        {
          "output_type": "stream",
          "name": "stdout",
          "text": [
            "My name is Arun\n"
          ]
        }
      ]
    },
    {
      "cell_type": "code",
      "source": [
        "S.name='ayush' # modify\n",
        "S.fun()"
      ],
      "metadata": {
        "colab": {
          "base_uri": "https://localhost:8080/",
          "height": 36
        },
        "id": "wIoe_Ia_qO9i",
        "outputId": "14cddd8e-8c9c-46e6-e2b3-af4049067c28"
      },
      "execution_count": null,
      "outputs": [
        {
          "output_type": "execute_result",
          "data": {
            "text/plain": [
              "'My name is ayush'"
            ],
            "application/vnd.google.colaboratory.intrinsic+json": {
              "type": "string"
            }
          },
          "metadata": {},
          "execution_count": 60
        }
      ]
    },
    {
      "cell_type": "markdown",
      "source": [
        "**Class method** : This method is bound to a class rather than object of class\n",
        "\n",
        "and take cls as first paramter always.\n",
        "\n",
        " It can also accessible and modifiable"
      ],
      "metadata": {
        "id": "vjcOsiHBqXnt"
      }
    },
    {
      "cell_type": "code",
      "source": [
        "#class method example\n",
        "class Student:\n",
        "  def __init__(self, name):\n",
        "    self.n=name\n",
        "  @classmethod\n",
        "  def fun(cls,name): # class method\n",
        "    return cls(name)\n",
        "\n",
        "obj=Student('arun')\n",
        "obj.n"
      ],
      "metadata": {
        "colab": {
          "base_uri": "https://localhost:8080/",
          "height": 36
        },
        "id": "k7HwdmzBqyQR",
        "outputId": "aefa0e33-0cce-484e-e4cc-cef67e99ab4c"
      },
      "execution_count": null,
      "outputs": [
        {
          "output_type": "execute_result",
          "data": {
            "text/plain": [
              "'arun'"
            ],
            "application/vnd.google.colaboratory.intrinsic+json": {
              "type": "string"
            }
          },
          "metadata": {},
          "execution_count": 64
        }
      ]
    },
    {
      "cell_type": "markdown",
      "source": [
        "##**QUES4) . How does Python implement method overloading? Give an example**\n",
        "\n",
        "\n",
        "Overloading is concept of polymorphism which allow multiple methods with same name but different attributes and properties.\n",
        "\n",
        " however, python does not support method overloading in the classical sense. if any function/method is overloaded then it will  call most recent one\n"
      ],
      "metadata": {
        "id": "07WcMHcjUc5K"
      }
    },
    {
      "cell_type": "code",
      "source": [
        "# overloading\n",
        "\n",
        "class Student:\n",
        "  def __init__(self):\n",
        "     self.name='ansh'\n",
        "     self.age=26\n",
        "     self.course='bba'\n",
        "\n",
        "  def info(self):\n",
        "    print(self.name)\n",
        "\n",
        "  def info(self):\n",
        "    print(self.age)\n",
        "\n",
        "  def info(self):\n",
        "    print(self.course)\n",
        "\n"
      ],
      "metadata": {
        "id": "0ZDuqY2lYgKq"
      },
      "execution_count": null,
      "outputs": []
    },
    {
      "cell_type": "code",
      "source": [
        "obj=Student()\n",
        "obj.info()"
      ],
      "metadata": {
        "colab": {
          "base_uri": "https://localhost:8080/"
        },
        "id": "grSOggVlZxb1",
        "outputId": "58ee9ca6-65c8-4c4b-c56c-35425bb1b544"
      },
      "execution_count": null,
      "outputs": [
        {
          "output_type": "stream",
          "name": "stdout",
          "text": [
            "bba\n"
          ]
        }
      ]
    },
    {
      "cell_type": "markdown",
      "source": [
        "#**Ques 5. What are the three types of access modifiers in Python? How are they denoted?**"
      ],
      "metadata": {
        "id": "jZdqjWsZ-Odt"
      }
    },
    {
      "cell_type": "markdown",
      "source": [
        "There are 3 access modifiers in python.They are part of encapsulation,which refers to 'hide something'.during working on projects,some programmer may wants to keep some variable private to avoid misuse of it. To serve this purpose they use access modifiers concept.\n",
        "\n",
        "1) Public modifier\n",
        "\n",
        "2) Private modifier\n",
        "\n",
        "3) Protective Modifier\n",
        "\n",
        "\n",
        "\n",
        "Following are explanation:\n",
        "\n",
        "1) Public modifier= this type of attribute is accessible from outside and inside the class or from anywhere."
      ],
      "metadata": {
        "id": "JjA3DlGs-YZS"
      }
    },
    {
      "cell_type": "code",
      "source": [
        "class College:\n",
        "    def __init__(self,name,country):\n",
        "         self.name=name #public\n",
        "         self.c=country\n",
        "    def access(self):\n",
        "         return self.name"
      ],
      "metadata": {
        "id": "llV3130FDB3W"
      },
      "execution_count": null,
      "outputs": []
    },
    {
      "cell_type": "code",
      "source": [
        "Obj=College('pwskills','india')"
      ],
      "metadata": {
        "id": "8T3--gIpC5VM"
      },
      "execution_count": null,
      "outputs": []
    },
    {
      "cell_type": "code",
      "source": [
        "Obj.access()"
      ],
      "metadata": {
        "colab": {
          "base_uri": "https://localhost:8080/",
          "height": 35
        },
        "id": "v2lku6m2DdCn",
        "outputId": "5c83b533-0896-43cd-d5c6-4f436fee3150"
      },
      "execution_count": null,
      "outputs": [
        {
          "output_type": "execute_result",
          "data": {
            "text/plain": [
              "'pwskills'"
            ],
            "application/vnd.google.colaboratory.intrinsic+json": {
              "type": "string"
            }
          },
          "metadata": {},
          "execution_count": 69
        }
      ]
    },
    {
      "cell_type": "markdown",
      "source": [
        "2) Private modifier: This type of attribute cannnot be accessed directly from outside the class . In order to access private member,one have to use specify way to do so.\n",
        "\n",
        "**syntax** - just add __ prefix before define attribute.\n",
        "\n",
        "**To access** Object._Classname__member"
      ],
      "metadata": {
        "id": "65DqwQBBDh6w"
      }
    },
    {
      "cell_type": "code",
      "source": [
        "class College:\n",
        "    def __init__(self,name):\n",
        "         self.__name=name #private\n",
        "    def access(self):\n",
        "         return self.__name"
      ],
      "metadata": {
        "id": "bTs0HwfaECuA"
      },
      "execution_count": null,
      "outputs": []
    },
    {
      "cell_type": "code",
      "source": [
        "Obj=College('Rashi')"
      ],
      "metadata": {
        "id": "Tf-xh9_qEKzC"
      },
      "execution_count": null,
      "outputs": []
    },
    {
      "cell_type": "code",
      "source": [
        "Obj._College__name"
      ],
      "metadata": {
        "colab": {
          "base_uri": "https://localhost:8080/",
          "height": 35
        },
        "id": "m2qeyuVZEO5O",
        "outputId": "8dfaa336-ed83-495d-8a8e-a654cd4eb523"
      },
      "execution_count": null,
      "outputs": [
        {
          "output_type": "execute_result",
          "data": {
            "text/plain": [
              "'Rashi'"
            ],
            "application/vnd.google.colaboratory.intrinsic+json": {
              "type": "string"
            }
          },
          "metadata": {},
          "execution_count": 54
        }
      ]
    },
    {
      "cell_type": "markdown",
      "source": [
        "3) Protected modifier: This type of attribute can be access within the class or its subclasses as well. single underscore is use to make attribute protected.\n",
        "\n",
        "Syntax= _attribute"
      ],
      "metadata": {
        "id": "esERbZmyE1Dv"
      }
    },
    {
      "cell_type": "code",
      "source": [
        "class College:\n",
        "    def __init__(self,name):\n",
        "         self._name=name #protected\n",
        "    def access(self):\n",
        "         return self._name"
      ],
      "metadata": {
        "id": "qQ5jRP-yF2vY"
      },
      "execution_count": null,
      "outputs": []
    },
    {
      "cell_type": "code",
      "source": [
        "Abc=College('pwskills')"
      ],
      "metadata": {
        "id": "5zviGLY9F7WC"
      },
      "execution_count": null,
      "outputs": []
    },
    {
      "cell_type": "code",
      "source": [
        "Abc._name #access within the class"
      ],
      "metadata": {
        "colab": {
          "base_uri": "https://localhost:8080/",
          "height": 35
        },
        "id": "woPyzddmF-l1",
        "outputId": "8d117a2b-a4e7-4864-faa1-53f1dae9b4e9"
      },
      "execution_count": null,
      "outputs": [
        {
          "output_type": "execute_result",
          "data": {
            "text/plain": [
              "'pwskills'"
            ],
            "application/vnd.google.colaboratory.intrinsic+json": {
              "type": "string"
            }
          },
          "metadata": {},
          "execution_count": 58
        }
      ]
    },
    {
      "cell_type": "code",
      "source": [
        "Abc.access() #acess from its subclass"
      ],
      "metadata": {
        "colab": {
          "base_uri": "https://localhost:8080/",
          "height": 35
        },
        "id": "jVEplA9uGeep",
        "outputId": "5dda5de4-05e5-47c3-bcee-8346a6809946"
      },
      "execution_count": null,
      "outputs": [
        {
          "output_type": "execute_result",
          "data": {
            "text/plain": [
              "'pwskills'"
            ],
            "application/vnd.google.colaboratory.intrinsic+json": {
              "type": "string"
            }
          },
          "metadata": {},
          "execution_count": 61
        }
      ]
    },
    {
      "cell_type": "markdown",
      "source": [
        "# **Ques 6) Describe the five types of inheritance in Python. Provide a simple example of multiple inheritance.**\n",
        "\n",
        "\n",
        "There are 5 types of inheritance in python:\n",
        "1) Simple inheritance: When derived class has only 1 parent class. In this you can access the method of parent class from its derived class as well.\n",
        "\n",
        "ex-  \n",
        "\n",
        "      A(PARENT CLASS) ---> B(A) CHILD CLASS\n",
        "\n",
        "2) Multi-level inheritance: When child class inherit property & behaviour from parent class and the parent class itself inherits properties and behaviour from another parent class.\n",
        "ex-\n",
        "\n",
        "     A(PARENT CLASS) ---> B(A) PARENT CLASS ---> C(B) CHILD CLASS\n",
        "\n",
        "3) Multilple inheritance: When child class has 2 or more parent class.\n",
        "ex-\n",
        "    \n",
        "     A(PARENT CLASS) ---> B(PARENT CLASS) ---> C(A,B) CHILD CLASS\n",
        "\n",
        "4) Hierarchial inheritance: Multiple classes inherit from a single parent class. This creates a family of related classes with shared characteristics\n",
        "ex-\n",
        "\n",
        "\n",
        "      A(PARENT CLASS) ---> B(A)---> C(A)----> D(A)\n",
        "\n",
        "5) Hybrid inheritance: it is combination of multiple inheritance and multiple-level inheritance.\n",
        "\n",
        " example- suppose there is one parent class and it has 2 derived class and then further there is one more child class that derived from previous 2 derived class.\n",
        "\n",
        "\n",
        "     A(PARENTS CLASS)---> B(A) CHILD CLASS ---> C(A) CHILD CLASS ---> D(B,A) CHILD CLASS\n",
        "\n",
        "     \n"
      ],
      "metadata": {
        "id": "VypncrGPGr_q"
      }
    },
    {
      "cell_type": "code",
      "source": [
        "#EXAMPLE OF MULTIPLE INHERITANCE\n",
        "class Mom:\n",
        "  def mom(self):\n",
        "    return 'i am mom'\n",
        "\n",
        "class Dad:\n",
        "  def dad(self):\n",
        "    return 'i am dad'\n",
        "\n",
        "\n",
        "class kid(Dad,Mom):\n",
        "  def kid(self):\n",
        "    return 'i m kid'\n"
      ],
      "metadata": {
        "id": "E4LojlQtOZ80"
      },
      "execution_count": null,
      "outputs": []
    },
    {
      "cell_type": "code",
      "source": [
        "# create object\n",
        "obj1=kid() # can access method of mom and dad\n",
        "obj2=Dad() # can access only itself\n",
        "obj3=Mom() ## can access only itself"
      ],
      "metadata": {
        "id": "hsYsnXcpPA-r"
      },
      "execution_count": null,
      "outputs": []
    },
    {
      "cell_type": "code",
      "source": [
        "obj1.dad()"
      ],
      "metadata": {
        "colab": {
          "base_uri": "https://localhost:8080/",
          "height": 36
        },
        "id": "ewOt3rxAPLJr",
        "outputId": "03584db8-1bbf-40fa-ad8c-8e846913c753"
      },
      "execution_count": null,
      "outputs": [
        {
          "output_type": "execute_result",
          "data": {
            "text/plain": [
              "'i am dad'"
            ],
            "application/vnd.google.colaboratory.intrinsic+json": {
              "type": "string"
            }
          },
          "metadata": {},
          "execution_count": 90
        }
      ]
    },
    {
      "cell_type": "code",
      "source": [
        "obj1.mom()"
      ],
      "metadata": {
        "colab": {
          "base_uri": "https://localhost:8080/",
          "height": 36
        },
        "id": "-W_5oGlVP7Tu",
        "outputId": "ecef9020-e0ff-4db0-f642-20b974782dad"
      },
      "execution_count": null,
      "outputs": [
        {
          "output_type": "execute_result",
          "data": {
            "text/plain": [
              "'i am mom'"
            ],
            "application/vnd.google.colaboratory.intrinsic+json": {
              "type": "string"
            }
          },
          "metadata": {},
          "execution_count": 91
        }
      ]
    },
    {
      "cell_type": "code",
      "source": [
        "obj1.kid()"
      ],
      "metadata": {
        "colab": {
          "base_uri": "https://localhost:8080/",
          "height": 36
        },
        "id": "rash424CP_q5",
        "outputId": "dfae7bc3-bb14-4f74-d3b8-89e5992ada38"
      },
      "execution_count": null,
      "outputs": [
        {
          "output_type": "execute_result",
          "data": {
            "text/plain": [
              "'i m kid'"
            ],
            "application/vnd.google.colaboratory.intrinsic+json": {
              "type": "string"
            }
          },
          "metadata": {},
          "execution_count": 92
        }
      ]
    },
    {
      "cell_type": "code",
      "source": [
        "obj2.dad()"
      ],
      "metadata": {
        "colab": {
          "base_uri": "https://localhost:8080/",
          "height": 36
        },
        "id": "KHF9dYVcQVNq",
        "outputId": "f60aa590-d8ba-4f87-8924-d5df53a41f95"
      },
      "execution_count": null,
      "outputs": [
        {
          "output_type": "execute_result",
          "data": {
            "text/plain": [
              "'i am dad'"
            ],
            "application/vnd.google.colaboratory.intrinsic+json": {
              "type": "string"
            }
          },
          "metadata": {},
          "execution_count": 95
        }
      ]
    },
    {
      "cell_type": "markdown",
      "source": [
        "# **QUES 7)  What is the Method Resolution Order (MRO) in Python? How can you retrieve it programmatically?**\n",
        "\n",
        "\n",
        "Method Resolution Order : This is part of multiple inheritance. it is used to avoide diamond problem . Diamond problem occur when method of parents class are defined with same name . The MRO is based on the C3 linearization algorithm, ehich ensures that the order is consistent and predictable."
      ],
      "metadata": {
        "id": "A8C0WyygQw_q"
      }
    },
    {
      "cell_type": "code",
      "source": [
        "class Grandfather:\n",
        "  def attribute(self): # same attribute\n",
        "    return 'i am grandfather'\n",
        "class Father :\n",
        "  def attribute(self): # same attribute\n",
        "    return 'i am father'\n",
        "class Son(Father,Grandfather): # here first parent class is 'father'\n",
        "  def attri(self):\n",
        "    return 'i am Son'"
      ],
      "metadata": {
        "id": "ewqNB-kSTPXN"
      },
      "execution_count": null,
      "outputs": []
    },
    {
      "cell_type": "code",
      "source": [
        "S=Son()\n",
        "f=Father()\n",
        "G=Grandfather()\n"
      ],
      "metadata": {
        "id": "9OaejQgtTsMS"
      },
      "execution_count": null,
      "outputs": []
    },
    {
      "cell_type": "code",
      "source": [
        "S.attri()"
      ],
      "metadata": {
        "colab": {
          "base_uri": "https://localhost:8080/",
          "height": 36
        },
        "id": "tN8PryC6T3zy",
        "outputId": "f07feebc-4050-47ab-c226-f1b0ba70d765"
      },
      "execution_count": null,
      "outputs": [
        {
          "output_type": "execute_result",
          "data": {
            "text/plain": [
              "'i am Son'"
            ],
            "application/vnd.google.colaboratory.intrinsic+json": {
              "type": "string"
            }
          },
          "metadata": {},
          "execution_count": 102
        }
      ]
    },
    {
      "cell_type": "code",
      "source": [
        "S.attribute()"
      ],
      "metadata": {
        "colab": {
          "base_uri": "https://localhost:8080/",
          "height": 36
        },
        "id": "bGwtP3z8UIH9",
        "outputId": "886d4227-21fe-421b-81c1-ac06b6b0cf2b"
      },
      "execution_count": null,
      "outputs": [
        {
          "output_type": "execute_result",
          "data": {
            "text/plain": [
              "'i am father'"
            ],
            "application/vnd.google.colaboratory.intrinsic+json": {
              "type": "string"
            }
          },
          "metadata": {},
          "execution_count": 103
        }
      ]
    },
    {
      "cell_type": "markdown",
      "source": [
        "# ***8. Create an abstract base class `Shape` with an abstract method `area()`. Then create two subclasses\n",
        "`Circle` and `Rectangle` that implement the `area()` method***"
      ],
      "metadata": {
        "id": "2maJcazTnfVx"
      }
    },
    {
      "cell_type": "code",
      "source": [
        "#ex\n",
        "from abc import abstractmethod\n",
        "class Shape:\n",
        "\n",
        "    @abstractmethod\n",
        "    def __init__(self):\n",
        "      self.radius=2\n",
        "      self.l=4\n",
        "      self.b=5\n",
        "      self.h=2\n",
        "    def area(self):\n",
        "      pass\n",
        "\n",
        "class Circle(Shape):\n",
        "\n",
        "  def area(self):\n",
        "    r=self.radius\n",
        "    return (\"area of circle is\", 3.141*r**2)\n",
        "\n",
        "class Rectangle(Shape):\n",
        "\n",
        "  def area(self):\n",
        "\n",
        "    L=self.l\n",
        "    B=self.b\n",
        "    H=self.h\n",
        "    return (\"area of Rectangle is\", L*B*H)\n",
        "\n",
        "\n"
      ],
      "metadata": {
        "id": "JLEZGY-LjCC9"
      },
      "execution_count": null,
      "outputs": []
    },
    {
      "cell_type": "code",
      "source": [
        "c=Circle()\n",
        "c.area()"
      ],
      "metadata": {
        "colab": {
          "base_uri": "https://localhost:8080/"
        },
        "id": "V1Lf3F_plBwC",
        "outputId": "da739c71-256b-4393-aba4-ee03b6545723"
      },
      "execution_count": null,
      "outputs": [
        {
          "output_type": "execute_result",
          "data": {
            "text/plain": [
              "('area of circle is', 12.564)"
            ]
          },
          "metadata": {},
          "execution_count": 227
        }
      ]
    },
    {
      "cell_type": "code",
      "source": [
        "R=Rectangle()\n",
        "R.area()"
      ],
      "metadata": {
        "colab": {
          "base_uri": "https://localhost:8080/"
        },
        "id": "a-BsZnTBlBuC",
        "outputId": "695140c0-697d-4680-bde5-cd519a35f86c"
      },
      "execution_count": null,
      "outputs": [
        {
          "output_type": "execute_result",
          "data": {
            "text/plain": [
              "('area of Rectangle is', 40)"
            ]
          },
          "metadata": {},
          "execution_count": 228
        }
      ]
    },
    {
      "cell_type": "markdown",
      "source": [
        "# **ques 9. Demonstrate polymorphism by creating a function that can work with different shape objects to calculate\n",
        "and print their areas**"
      ],
      "metadata": {
        "id": "282uvW7rns5_"
      }
    },
    {
      "cell_type": "code",
      "source": [
        "\n",
        "class Shape:\n",
        "    def __init__(self):\n",
        "      self.radius=2\n",
        "      self.l=4\n",
        "      self.b=5\n",
        "      self.h=2\n",
        "class Circle(Shape):\n",
        "  def area(self):\n",
        "\n",
        "    return (\"area of circle is\", 3.141*self.radius**2)\n",
        "\n",
        "class Rect(Shape):\n",
        "  def area(self):\n",
        "    return (\"area of Rectangle is\", self.l*self.b*self.h)"
      ],
      "metadata": {
        "id": "FrJb4yd3lBq1"
      },
      "execution_count": null,
      "outputs": []
    },
    {
      "cell_type": "code",
      "source": [
        "obj1=Circle()\n",
        "obj2=Rect()\n",
        "class_obj=[obj1,obj2]"
      ],
      "metadata": {
        "id": "lFWwsW6RlBn5"
      },
      "execution_count": null,
      "outputs": []
    },
    {
      "cell_type": "code",
      "source": [
        "def print_fun(class_obj):\n",
        "  for i in class_obj:\n",
        "    print(i.area())"
      ],
      "metadata": {
        "id": "Wt01rgsTuaE-"
      },
      "execution_count": null,
      "outputs": []
    },
    {
      "cell_type": "code",
      "source": [
        "print_fun(class_obj)"
      ],
      "metadata": {
        "colab": {
          "base_uri": "https://localhost:8080/"
        },
        "id": "e4lbQ8kVu3BS",
        "outputId": "c61b36e3-bb50-470e-e905-63469e772743"
      },
      "execution_count": null,
      "outputs": [
        {
          "output_type": "stream",
          "name": "stdout",
          "text": [
            "('area of circle is', 12.564)\n",
            "('area of Rectangle is', 40)\n"
          ]
        }
      ]
    },
    {
      "cell_type": "markdown",
      "source": [
        "# **10. Implement encapsulation in a `BankAccount` class with private attributes for `balance` and\n",
        "`account_number`. Include methods for deposit, withdrawal, and balance inquiry**"
      ],
      "metadata": {
        "id": "TUdeQiq5n2Hk"
      }
    },
    {
      "cell_type": "code",
      "source": [
        "\n",
        "class Bank_account:\n",
        "  def __init__(self,balance,account_number):\n",
        "    self.__balance=balance\n",
        "    self.__account_number=account_number\n",
        "\n",
        "  def deposit(self,amount):\n",
        "    self.__balance=self.__balance +amount\n",
        "\n",
        "  def withdraw(self,amount):\n",
        "    if self.__balance>=amount:\n",
        "      self.__balance=self.__balance -amount\n",
        "    else:\n",
        "      pass\n",
        "\n",
        "  def balance_enquiry(self):\n",
        "    return self.__balance"
      ],
      "metadata": {
        "id": "udm11RQpu29p"
      },
      "execution_count": null,
      "outputs": []
    },
    {
      "cell_type": "code",
      "source": [
        "A=Bank_account(1000,5000)"
      ],
      "metadata": {
        "id": "9iOGSYa0u27B"
      },
      "execution_count": null,
      "outputs": []
    },
    {
      "cell_type": "code",
      "source": [
        "A.balance_enquiry()"
      ],
      "metadata": {
        "colab": {
          "base_uri": "https://localhost:8080/"
        },
        "id": "1RwjbyqEu24S",
        "outputId": "ef6ccaa5-89d2-4318-c9e1-7a2b0b1de6e7"
      },
      "execution_count": null,
      "outputs": [
        {
          "output_type": "execute_result",
          "data": {
            "text/plain": [
              "1000"
            ]
          },
          "metadata": {},
          "execution_count": 93
        }
      ]
    },
    {
      "cell_type": "code",
      "source": [
        "A.deposit(200)"
      ],
      "metadata": {
        "id": "shn-0xsDzTtX"
      },
      "execution_count": null,
      "outputs": []
    },
    {
      "cell_type": "code",
      "source": [
        "A.balance_enquiry()"
      ],
      "metadata": {
        "colab": {
          "base_uri": "https://localhost:8080/"
        },
        "id": "0dvwgjngzTqn",
        "outputId": "c9ef4f20-a4db-422a-a5e9-5a446153460b"
      },
      "execution_count": null,
      "outputs": [
        {
          "output_type": "execute_result",
          "data": {
            "text/plain": [
              "1200"
            ]
          },
          "metadata": {},
          "execution_count": 95
        }
      ]
    },
    {
      "cell_type": "code",
      "source": [
        "A.withdraw(500)"
      ],
      "metadata": {
        "id": "c4rfHin_zToF"
      },
      "execution_count": null,
      "outputs": []
    },
    {
      "cell_type": "code",
      "source": [
        "A.balance_enquiry()"
      ],
      "metadata": {
        "colab": {
          "base_uri": "https://localhost:8080/"
        },
        "id": "SCfw_sd8zTlV",
        "outputId": "ac7caa25-a11f-46c0-fade-371b87178a99"
      },
      "execution_count": null,
      "outputs": [
        {
          "output_type": "execute_result",
          "data": {
            "text/plain": [
              "700"
            ]
          },
          "metadata": {},
          "execution_count": 97
        }
      ]
    },
    {
      "cell_type": "markdown",
      "source": [
        "# **11 Write a class that overrides the `__str__` and `__add__` magic methods. What will these methods allow you to do?**\n",
        "\n",
        "Ans-\n",
        "\n",
        "__str__ and __add__ both are magic method that represent the object as string and add two attribute respectively.They serve different purpose\n",
        "\n",
        "1) __str__ method allows you to return human-readable string representation of the object.\n",
        " It intended for end-user , not for developer in debugging..\n",
        "syntax- print(obj)\n",
        "\n",
        "2) __add__ method allows you to add two arguments.This mwthod should return a new object that represents the result of the addition.\n",
        "ex- (obj1+other1)"
      ],
      "metadata": {
        "id": "IYno8KoWzXOn"
      }
    },
    {
      "cell_type": "code",
      "source": [
        "# __Str__\n",
        "class Mall:\n",
        "  def __init__(self,clothes,price):\n",
        "    self.c=clothes\n",
        "    self.p=price\n",
        "\n",
        "abc=Mall('shirt',1000)\n",
        "print(abc) # here youbcan see it is not readable by end user."
      ],
      "metadata": {
        "colab": {
          "base_uri": "https://localhost:8080/"
        },
        "id": "Zgzp2_py3ZGC",
        "outputId": "5a4ed306-e46b-48f4-8f2f-c065c3e5d435"
      },
      "execution_count": null,
      "outputs": [
        {
          "output_type": "stream",
          "name": "stdout",
          "text": [
            "<__main__.Mall object at 0x7c713ff0ffa0>\n"
          ]
        }
      ]
    },
    {
      "cell_type": "code",
      "source": [
        "# __Str__\n",
        "class Mall:\n",
        "  def __init__(self,clothes,price):\n",
        "    self.c=clothes\n",
        "    self.p=price\n",
        "\n",
        "  def __str__(self):\n",
        "    return f'{self.c},{self.p}'"
      ],
      "metadata": {
        "id": "Vf7uLms-zTfr"
      },
      "execution_count": null,
      "outputs": []
    },
    {
      "cell_type": "code",
      "source": [
        "obj=Mall('shirt',1000)\n",
        "print(obj) # str representation make it readable"
      ],
      "metadata": {
        "colab": {
          "base_uri": "https://localhost:8080/"
        },
        "id": "IZrDlxb-3HI3",
        "outputId": "f3faa70c-4354-453a-de42-2b743d5e8725"
      },
      "execution_count": null,
      "outputs": [
        {
          "output_type": "stream",
          "name": "stdout",
          "text": [
            "shirt,1000\n"
          ]
        }
      ]
    },
    {
      "cell_type": "code",
      "source": [
        "#add\n",
        "class Student:\n",
        "  def __init__(self,x,y):\n",
        "    self.x=x\n",
        "    self.y=y\n",
        "  def __add__(self,other):\n",
        "    return Student(self.x+ other.x, self.y+ other.y)\n"
      ],
      "metadata": {
        "id": "HqYMdXNv3sZR"
      },
      "execution_count": null,
      "outputs": []
    },
    {
      "cell_type": "code",
      "source": [
        "S1=Student(20,20)\n",
        "O1=Student(10,10)\n",
        "result=S1+O1\n",
        "print(result.x,result.y)"
      ],
      "metadata": {
        "id": "GGx-_brF4CjX",
        "colab": {
          "base_uri": "https://localhost:8080/"
        },
        "outputId": "fd08b079-0823-47d0-ed9a-8213c9505eb0"
      },
      "execution_count": null,
      "outputs": [
        {
          "output_type": "stream",
          "name": "stdout",
          "text": [
            "30 30\n"
          ]
        }
      ]
    },
    {
      "cell_type": "code",
      "source": [],
      "metadata": {
        "id": "-4SrtuEb-GcM"
      },
      "execution_count": null,
      "outputs": []
    },
    {
      "cell_type": "code",
      "source": [
        "F.fregnance() # HERE freganace method is from Lily"
      ],
      "metadata": {
        "colab": {
          "base_uri": "https://localhost:8080/"
        },
        "id": "8__b1_rgAoqv",
        "outputId": "eae35569-e7d7-4970-ffb2-d03e975aa755"
      },
      "execution_count": null,
      "outputs": [
        {
          "output_type": "stream",
          "name": "stdout",
          "text": [
            "i am white\n"
          ]
        }
      ]
    },
    {
      "cell_type": "markdown",
      "source": [
        "# **Ques 12. Create a decorator that measures and prints the execution time of a function.**"
      ],
      "metadata": {
        "id": "MU8OLCdbBQcf"
      }
    },
    {
      "cell_type": "code",
      "source": [
        "import time\n",
        "def decorator(func):\n",
        "  def timer():\n",
        "    start=time.time()\n",
        "    func()\n",
        "    end=time.time()\n",
        "    print('execution time:', end-start)\n",
        "  return timer"
      ],
      "metadata": {
        "id": "IDqwFO_8BTEh"
      },
      "execution_count": null,
      "outputs": []
    },
    {
      "cell_type": "code",
      "source": [
        "@decorator\n",
        "def ab():\n",
        "  print(10*25)\n"
      ],
      "metadata": {
        "id": "P--Z_hSQBtvD"
      },
      "execution_count": null,
      "outputs": []
    },
    {
      "cell_type": "code",
      "source": [
        "ab()"
      ],
      "metadata": {
        "colab": {
          "base_uri": "https://localhost:8080/"
        },
        "id": "ovGhOQYKB4GE",
        "outputId": "05f5620d-f9fb-4128-ce67-a2c16e11f5eb"
      },
      "execution_count": null,
      "outputs": [
        {
          "output_type": "stream",
          "name": "stdout",
          "text": [
            "250\n",
            "execution time: 0.0005133152008056641\n"
          ]
        }
      ]
    },
    {
      "cell_type": "markdown",
      "source": [
        "# ***ques 13 Explain the concept of the Diamond Problem in multiple inheritance. How does Python resolve it***\n",
        "\n",
        "Ans-\n",
        "Diamond problem refers to situation when method of super classes are defined with same. here, as super class sharing same name , it arise conflict between them.\n",
        "\n",
        "In python, to get rid of diamond problem, we use MRO ( Method Resolution Order)\n",
        "\n"
      ],
      "metadata": {
        "id": "E5VGm9Gg-HGF"
      }
    },
    {
      "cell_type": "code",
      "source": [
        "# Diamond peoblem:\n",
        "class Rose:\n",
        "  def fregnance(self): # same name \"fregnance\"\n",
        "    print('i am red')\n",
        "\n",
        "class Lily:\n",
        "  def fregnance(self): # same name \"fregnance\"\n",
        "    print('i am white')\n",
        "\n",
        "class Flower(Lily,Rose): # we have given 1st prefernce to lily so during execution it will ignore rose class instance variable\n",
        "  def scent(self):\n",
        "    print('i have multiple colours')"
      ],
      "metadata": {
        "id": "kuMyesTr-KDR"
      },
      "execution_count": null,
      "outputs": []
    },
    {
      "cell_type": "markdown",
      "source": [
        "# **14. Write a class method that keeps track of the number of instances created from a class.**"
      ],
      "metadata": {
        "id": "sSfl32Aj7Fty"
      }
    },
    {
      "cell_type": "code",
      "source": [
        "class Myinstance:\n",
        "  count=0\n",
        "  def __init__(self):\n",
        "    Myinstance.count +=1\n",
        "\n",
        "  @classmethod\n",
        "  def fun(cls):\n",
        "    return cls.count\n",
        "\n"
      ],
      "metadata": {
        "id": "gawGl26w7Igb"
      },
      "execution_count": null,
      "outputs": []
    },
    {
      "cell_type": "code",
      "source": [
        "obj1=Myinstance()\n",
        "obj2=Myinstance()\n",
        "obj3=Myinstance()\n",
        "obj4=Myinstance()"
      ],
      "metadata": {
        "id": "VBAP023K8fiH"
      },
      "execution_count": null,
      "outputs": []
    },
    {
      "cell_type": "code",
      "source": [
        "print(Myinstance.fun())"
      ],
      "metadata": {
        "colab": {
          "base_uri": "https://localhost:8080/"
        },
        "id": "G9MFMq6O8-n6",
        "outputId": "a8fcfd92-14ae-472e-c122-70d1d57c3352"
      },
      "execution_count": null,
      "outputs": [
        {
          "output_type": "stream",
          "name": "stdout",
          "text": [
            "4\n"
          ]
        }
      ]
    },
    {
      "cell_type": "markdown",
      "source": [
        "# ***Ques 15  Implement a static method in a class that checks if a given year is a leap year.***"
      ],
      "metadata": {
        "id": "usjO_AS_oelW"
      }
    },
    {
      "cell_type": "code",
      "source": [
        "\n",
        "#15\n",
        "class Leap:\n",
        "    @staticmethod\n",
        "    def check():\n",
        "         x=int(input('write year'))\n",
        "         if (x%100==0) & (x%400==0):\n",
        "             return 'leap yr'\n",
        "             if x%100!=0 & x%4==0 :\n",
        "              return \"is\"\n",
        "\n",
        "         else:\n",
        "            return 'not leap yr'"
      ],
      "metadata": {
        "id": "2R4thmPqyxVV"
      },
      "execution_count": null,
      "outputs": []
    },
    {
      "cell_type": "code",
      "source": [
        "Leap.check()"
      ],
      "metadata": {
        "colab": {
          "base_uri": "https://localhost:8080/",
          "height": 53
        },
        "id": "WE0x08eAKMGi",
        "outputId": "4171931b-8a9f-4dc7-d72a-00757e7c90cb"
      },
      "execution_count": null,
      "outputs": [
        {
          "name": "stdout",
          "output_type": "stream",
          "text": [
            "write year2017\n"
          ]
        },
        {
          "output_type": "execute_result",
          "data": {
            "text/plain": [
              "'not leap yr'"
            ],
            "application/vnd.google.colaboratory.intrinsic+json": {
              "type": "string"
            }
          },
          "metadata": {},
          "execution_count": 100
        }
      ]
    }
  ]
}