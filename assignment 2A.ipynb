{
  "cells": [
    {
      "cell_type": "markdown",
      "metadata": {
        "id": "nDlJKxLFtFvY"
      },
      "source": [
        "# **ASSIGNMENT**  **2(a)**"
      ]
    },
    {
      "cell_type": "markdown",
      "metadata": {
        "id": "Ev48MfKHtRNI"
      },
      "source": [
        "# **Ques 1) Describe string Slicing and provide example.**\n",
        "\n",
        "**Ans-**\n",
        "String Slicing - it refer to excess specific character of string through the **syntax [start:stop:step] .**\n",
        "\n",
        "For example :\n",
        "a= [ \" Times of India newspaper can improve English\"]\n",
        "Here , I want to access newspaper name\n",
        "So that portion of character is considered as string Slicing."
      ]
    },
    {
      "cell_type": "code",
      "execution_count": null,
      "metadata": {
        "colab": {
          "base_uri": "https://localhost:8080/",
          "height": 35
        },
        "id": "wWocuRKUtBhw",
        "outputId": "65968d29-7925-498c-a41d-1e5668e8027f"
      },
      "outputs": [
        {
          "data": {
            "application/vnd.google.colaboratory.intrinsic+json": {
              "type": "string"
            },
            "text/plain": [
              "'My name is Rashi'"
            ]
          },
          "execution_count": 1,
          "metadata": {},
          "output_type": "execute_result"
        }
      ],
      "source": [
        "#Example\n",
        "A= \"My name is Rashi\" # let's access full statement\n",
        "A[0:]"
      ]
    },
    {
      "cell_type": "code",
      "execution_count": null,
      "metadata": {
        "colab": {
          "base_uri": "https://localhost:8080/",
          "height": 35
        },
        "id": "XgKXe73jtBug",
        "outputId": "c0a84b21-ea4f-413e-d423-1f097d12c276"
      },
      "outputs": [
        {
          "data": {
            "application/vnd.google.colaboratory.intrinsic+json": {
              "type": "string"
            },
            "text/plain": [
              "'Rashi'"
            ]
          },
          "execution_count": 3,
          "metadata": {},
          "output_type": "execute_result"
        }
      ],
      "source": [
        "# let's access just name\n",
        "A[-5:]"
      ]
    },
    {
      "cell_type": "code",
      "execution_count": null,
      "metadata": {
        "colab": {
          "base_uri": "https://localhost:8080/",
          "height": 35
        },
        "id": "hpHPkfxWvdpQ",
        "outputId": "91983228-d8be-45de-bedf-9a128f9b0003"
      },
      "outputs": [
        {
          "data": {
            "application/vnd.google.colaboratory.intrinsic+json": {
              "type": "string"
            },
            "text/plain": [
              "'ihsaR si eman yM'"
            ]
          },
          "execution_count": 5,
          "metadata": {},
          "output_type": "execute_result"
        }
      ],
      "source": [
        "#Lets access in reverse\n",
        "A[::-1]"
      ]
    },
    {
      "cell_type": "code",
      "execution_count": null,
      "metadata": {
        "colab": {
          "base_uri": "https://localhost:8080/",
          "height": 35
        },
        "id": "FXa7qkQpvpa7",
        "outputId": "a2ca0465-5132-47f9-921a-bfee145ae549"
      },
      "outputs": [
        {
          "data": {
            "application/vnd.google.colaboratory.intrinsic+json": {
              "type": "string"
            },
            "text/plain": [
              "'M aei ah'"
            ]
          },
          "execution_count": 6,
          "metadata": {},
          "output_type": "execute_result"
        }
      ],
      "source": [
        "# let's access with 2 step\n",
        "A[0::2]"
      ]
    },
    {
      "cell_type": "code",
      "execution_count": null,
      "metadata": {
        "colab": {
          "base_uri": "https://localhost:8080/",
          "height": 35
        },
        "id": "X52O4FZnv1wN",
        "outputId": "86a3a1fa-39d9-4b0b-b4af-47b8f13f65b3"
      },
      "outputs": [
        {
          "data": {
            "application/vnd.google.colaboratory.intrinsic+json": {
              "type": "string"
            },
            "text/plain": [
              "'My'"
            ]
          },
          "execution_count": 8,
          "metadata": {},
          "output_type": "execute_result"
        }
      ],
      "source": [
        "#lets access 'My'\n",
        "A[0:2]"
      ]
    },
    {
      "cell_type": "markdown",
      "metadata": {
        "id": "oeNJYQLNv-CA"
      },
      "source": [
        "# **Ques 2) explain the  key features of lists in Python.**\n",
        "\n",
        "# Ans-\n",
        " list is type of data structures that store mutable data.\n",
        "\n",
        "Features\n",
        "\n",
        "1) List can be modify after creating as it is Mutable object.\n",
        "\n",
        "2) List can store heterogeneous data ( string, float, int, Boolean value etc.)\n",
        "\n",
        "3) it allows to access and add the data in existing list.\n",
        "\n",
        "4) you can also remove the data after creating list.\n",
        "\n",
        "5) if the data is complex and lengthy then list provide feature of sorting the data.\n",
        "\n",
        "6) one can append the data at any place by using .insert() feature.\n",
        "\n",
        "7) list is countable in nature as we can count the no. Of elements stored in it.\n",
        "\n",
        "So lists has unique feature , one can use as per the type of project he /she working on."
      ]
    },
    {
      "cell_type": "markdown",
      "metadata": {
        "id": "aBBRaTQ-xpeR"
      },
      "source": [
        "# **Ques 3) describe how to access, modify ,delete elements in the lists with examples.**\n",
        "\n",
        "**Ans-**"
      ]
    },
    {
      "cell_type": "code",
      "execution_count": null,
      "metadata": {
        "colab": {
          "base_uri": "https://localhost:8080/"
        },
        "id": "IEIPK7_2x7-T",
        "outputId": "b07e4c88-6a80-45c2-c375-0af6d3efc355"
      },
      "outputs": [
        {
          "data": {
            "text/plain": [
              "['Course', 23, 45.34, True, False, (7+8j), 'Rashi']"
            ]
          },
          "execution_count": 9,
          "metadata": {},
          "output_type": "execute_result"
        }
      ],
      "source": [
        "A= [ \"Course\", 23, 45.34, True, False , 7+8j, \"Rashi\"]\n",
        "A"
      ]
    },
    {
      "cell_type": "code",
      "execution_count": null,
      "metadata": {
        "colab": {
          "base_uri": "https://localhost:8080/"
        },
        "id": "tKbSuG7Uxose",
        "outputId": "2868afdf-9ddc-423a-c9da-4b8c0901c08c"
      },
      "outputs": [
        {
          "data": {
            "text/plain": [
              "(7+8j)"
            ]
          },
          "execution_count": 10,
          "metadata": {},
          "output_type": "execute_result"
        }
      ],
      "source": [
        "# let's see how to access elements\n",
        "#i want to access element on 5th index\n",
        "A[5]"
      ]
    },
    {
      "cell_type": "code",
      "execution_count": null,
      "metadata": {
        "colab": {
          "base_uri": "https://localhost:8080/",
          "height": 35
        },
        "id": "iQhBY1XLydZa",
        "outputId": "9c218f59-32d6-4164-e8aa-ffa79613ab9c"
      },
      "outputs": [
        {
          "data": {
            "application/vnd.google.colaboratory.intrinsic+json": {
              "type": "string"
            },
            "text/plain": [
              "'Rashi'"
            ]
          },
          "execution_count": 11,
          "metadata": {},
          "output_type": "execute_result"
        }
      ],
      "source": [
        "#By index we can access the elements\n",
        "A[6]"
      ]
    },
    {
      "cell_type": "code",
      "execution_count": null,
      "metadata": {
        "colab": {
          "base_uri": "https://localhost:8080/",
          "height": 35
        },
        "id": "jZHWISp9yjws",
        "outputId": "74392f51-a80a-48ce-8ae8-93c68e7233d6"
      },
      "outputs": [
        {
          "data": {
            "application/vnd.google.colaboratory.intrinsic+json": {
              "type": "string"
            },
            "text/plain": [
              "'Course'"
            ]
          },
          "execution_count": 12,
          "metadata": {},
          "output_type": "execute_result"
        }
      ],
      "source": [
        "# I want to modify course with \"Data analytics\"\n",
        "A[0] # access elements first"
      ]
    },
    {
      "cell_type": "code",
      "execution_count": null,
      "metadata": {
        "colab": {
          "base_uri": "https://localhost:8080/"
        },
        "id": "QO74bLvAyvsB",
        "outputId": "d09b96f7-be7a-4293-fbbd-15f814e54a0d"
      },
      "outputs": [
        {
          "data": {
            "text/plain": [
              "['data analytics', 23, 45.34, True, False, (7+8j), 'Rashi']"
            ]
          },
          "execution_count": 13,
          "metadata": {},
          "output_type": "execute_result"
        }
      ],
      "source": [
        "A[0] = \"data analytics\"\n",
        "A"
      ]
    },
    {
      "cell_type": "code",
      "execution_count": null,
      "metadata": {
        "colab": {
          "base_uri": "https://localhost:8080/",
          "height": 332
        },
        "id": "w4PkE2u1y19Z",
        "outputId": "13ba5353-32aa-4618-d058-f591d34474e3"
      },
      "outputs": [
        {
          "ename": "NameError",
          "evalue": "name 'B' is not defined",
          "output_type": "error",
          "traceback": [
            "\u001b[0;31m---------------------------------------------------------------------------\u001b[0m",
            "\u001b[0;31mNameError\u001b[0m                                 Traceback (most recent call last)",
            "\u001b[0;32m<ipython-input-16-9dc4e1ef16b7>\u001b[0m in \u001b[0;36m<cell line: 5>\u001b[0;34m()\u001b[0m\n\u001b[1;32m      3\u001b[0m \u001b[0;31m# I want to delete List B\u001b[0m\u001b[0;34m\u001b[0m\u001b[0;34m\u001b[0m\u001b[0m\n\u001b[1;32m      4\u001b[0m \u001b[0;32mdel\u001b[0m \u001b[0mB\u001b[0m \u001b[0;31m# here it will throw error if I want to access list B\u001b[0m\u001b[0;34m\u001b[0m\u001b[0;34m\u001b[0m\u001b[0m\n\u001b[0;32m----> 5\u001b[0;31m \u001b[0mB\u001b[0m\u001b[0;34m\u001b[0m\u001b[0;34m\u001b[0m\u001b[0m\n\u001b[0m",
            "\u001b[0;31mNameError\u001b[0m: name 'B' is not defined"
          ]
        }
      ],
      "source": [
        "A= [\"India\", \"delhi\" , 34, 87.68]\n",
        "B= [\"School\" , \" college\"]\n",
        "# I want to delete List B\n",
        "del B # here it will throw error if I want to access list B\n",
        "B"
      ]
    },
    {
      "cell_type": "markdown",
      "metadata": {
        "id": "f2vJSbPQzTAk"
      },
      "source": [
        "# **Ques 4) compare and contrasts the lists and tuple with example.**\n",
        "\n",
        "Ans-\n",
        "\n",
        "• Immutablity= tuple doesn't support mutability means u can't modify it after creating , whereas list is Mutable object."
      ]
    },
    {
      "cell_type": "code",
      "execution_count": null,
      "metadata": {
        "colab": {
          "base_uri": "https://localhost:8080/"
        },
        "id": "bh7ZyJuHzRoy",
        "outputId": "474beaf7-1682-421d-e9fc-49ad1c4534af"
      },
      "outputs": [
        {
          "data": {
            "text/plain": [
              "('rashi', 45, 73.7, True)"
            ]
          },
          "execution_count": 21,
          "metadata": {},
          "output_type": "execute_result"
        }
      ],
      "source": [
        "#Tuple -()\n",
        "#List -[]\n",
        "# Tuple is immutable\n",
        "A= (\"rashi\", 45, 73.7, True )\n",
        "type (A)\n",
        "A"
      ]
    },
    {
      "cell_type": "code",
      "execution_count": null,
      "metadata": {
        "colab": {
          "base_uri": "https://localhost:8080/"
        },
        "id": "CZ-v_zIZz8Ys",
        "outputId": "4f6a03b9-231a-4d56-b913-452a70a6cf58"
      },
      "outputs": [
        {
          "data": {
            "text/plain": [
              "45"
            ]
          },
          "execution_count": 22,
          "metadata": {},
          "output_type": "execute_result"
        }
      ],
      "source": [
        "#now let's try to modify 45 with 54\n",
        "A[1]"
      ]
    },
    {
      "cell_type": "code",
      "execution_count": null,
      "metadata": {
        "colab": {
          "base_uri": "https://localhost:8080/",
          "height": 263
        },
        "id": "6W9yJ5yX0Fkn",
        "outputId": "ca962e06-15c3-4162-c329-9b6c7512bd1c"
      },
      "outputs": [
        {
          "ename": "TypeError",
          "evalue": "'tuple' object does not support item assignment",
          "output_type": "error",
          "traceback": [
            "\u001b[0;31m---------------------------------------------------------------------------\u001b[0m",
            "\u001b[0;31mTypeError\u001b[0m                                 Traceback (most recent call last)",
            "\u001b[0;32m<ipython-input-24-44c6f19c3887>\u001b[0m in \u001b[0;36m<cell line: 1>\u001b[0;34m()\u001b[0m\n\u001b[0;32m----> 1\u001b[0;31m \u001b[0mA\u001b[0m\u001b[0;34m[\u001b[0m\u001b[0;36m1\u001b[0m\u001b[0;34m]\u001b[0m\u001b[0;34m=\u001b[0m \u001b[0;36m54\u001b[0m\u001b[0;34m\u001b[0m\u001b[0;34m\u001b[0m\u001b[0m\n\u001b[0m\u001b[1;32m      2\u001b[0m \u001b[0mA\u001b[0m\u001b[0;34m\u001b[0m\u001b[0;34m\u001b[0m\u001b[0m\n",
            "\u001b[0;31mTypeError\u001b[0m: 'tuple' object does not support item assignment"
          ]
        }
      ],
      "source": [
        "A[1]= 54. # it will throw error\n",
        "A"
      ]
    },
    {
      "cell_type": "code",
      "execution_count": null,
      "metadata": {
        "colab": {
          "base_uri": "https://localhost:8080/"
        },
        "id": "f2jqB1hC0SCd",
        "outputId": "e94019dd-4d95-42c3-b7b7-f870d2718fe8"
      },
      "outputs": [
        {
          "data": {
            "text/plain": [
              "list"
            ]
          },
          "execution_count": 27,
          "metadata": {},
          "output_type": "execute_result"
        }
      ],
      "source": [
        "# list\n",
        "A= [\"rashi\", 45, 73.7, True ]\n",
        "type (A)"
      ]
    },
    {
      "cell_type": "code",
      "execution_count": null,
      "metadata": {
        "colab": {
          "base_uri": "https://localhost:8080/"
        },
        "id": "eLnws9di0ZPe",
        "outputId": "075363bc-ec40-4402-de7e-b48a8ed9ebb8"
      },
      "outputs": [
        {
          "data": {
            "text/plain": [
              "['rashi', 54, 73.7, True]"
            ]
          },
          "execution_count": 28,
          "metadata": {},
          "output_type": "execute_result"
        }
      ],
      "source": [
        "# modify\n",
        "A[1]= 54\n",
        "A"
      ]
    },
    {
      "cell_type": "markdown",
      "metadata": {
        "id": "HU6vWsGn0grV"
      },
      "source": [
        "• Access = one can access the elements of tuple but can't append, insert or remove it . Whereas in list you can perform all these features"
      ]
    },
    {
      "cell_type": "code",
      "execution_count": null,
      "metadata": {
        "colab": {
          "base_uri": "https://localhost:8080/"
        },
        "id": "O6CgevDl0oh0",
        "outputId": "af406e17-49c8-4563-c2ab-b5929523def5"
      },
      "outputs": [
        {
          "data": {
            "text/plain": [
              "('rashi', 45, 73.7, True)"
            ]
          },
          "execution_count": 30,
          "metadata": {},
          "output_type": "execute_result"
        }
      ],
      "source": [
        "Tuple =(\"rashi\", 45, 73.7, True)\n",
        "Tuple"
      ]
    },
    {
      "cell_type": "code",
      "execution_count": null,
      "metadata": {
        "colab": {
          "base_uri": "https://localhost:8080/",
          "height": 263
        },
        "id": "j38lAmKq1AKV",
        "outputId": "6aaae81f-fd56-40fe-cb0d-10a40ddf282a"
      },
      "outputs": [
        {
          "ename": "AttributeError",
          "evalue": "'tuple' object has no attribute 'append'",
          "output_type": "error",
          "traceback": [
            "\u001b[0;31m---------------------------------------------------------------------------\u001b[0m",
            "\u001b[0;31mAttributeError\u001b[0m                            Traceback (most recent call last)",
            "\u001b[0;32m<ipython-input-31-017d7d0a6628>\u001b[0m in \u001b[0;36m<cell line: 2>\u001b[0;34m()\u001b[0m\n\u001b[1;32m      1\u001b[0m \u001b[0;31m# try to add \"pwskills\"\u001b[0m\u001b[0;34m\u001b[0m\u001b[0;34m\u001b[0m\u001b[0m\n\u001b[0;32m----> 2\u001b[0;31m \u001b[0mTuple\u001b[0m\u001b[0;34m.\u001b[0m\u001b[0mappend\u001b[0m\u001b[0;34m(\u001b[0m\u001b[0;34m\"pwskills\"\u001b[0m\u001b[0;34m)\u001b[0m\u001b[0;34m\u001b[0m\u001b[0;34m\u001b[0m\u001b[0m\n\u001b[0m",
            "\u001b[0;31mAttributeError\u001b[0m: 'tuple' object has no attribute 'append'"
          ]
        }
      ],
      "source": [
        "# try to add \"pwskills\" ( it will throw error)\n",
        "Tuple.append(\"pwskills\")"
      ]
    },
    {
      "cell_type": "code",
      "execution_count": null,
      "metadata": {
        "colab": {
          "base_uri": "https://localhost:8080/"
        },
        "id": "Mk-L57pG1LUh",
        "outputId": "bf8dad89-637d-4782-def8-8b1cf6f20fbd"
      },
      "outputs": [
        {
          "data": {
            "text/plain": [
              "['rashi', 45, 73.7]"
            ]
          },
          "execution_count": 32,
          "metadata": {},
          "output_type": "execute_result"
        }
      ],
      "source": [
        "List =[\"rashi\", 45, 73.7]\n",
        "List"
      ]
    },
    {
      "cell_type": "code",
      "execution_count": null,
      "metadata": {
        "colab": {
          "base_uri": "https://localhost:8080/"
        },
        "id": "tYRMOeDE1XQf",
        "outputId": "15b79f9e-c0cc-41ec-cc67-fc4012f0bf86"
      },
      "outputs": [
        {
          "data": {
            "text/plain": [
              "['rashi', 45, 73.7, 'pwskills', 'pwskills', 'skills']"
            ]
          },
          "execution_count": 37,
          "metadata": {},
          "output_type": "execute_result"
        }
      ],
      "source": [
        "# let's add \"skills\"\n",
        "List.append(\"skills\")\n",
        "List"
      ]
    },
    {
      "cell_type": "code",
      "execution_count": null,
      "metadata": {
        "colab": {
          "base_uri": "https://localhost:8080/",
          "height": 297
        },
        "id": "OI_UEqbe1t_G",
        "outputId": "30825d17-01bd-409a-e65a-e7ebce60ccf6"
      },
      "outputs": [
        {
          "ename": "AttributeError",
          "evalue": "'tuple' object has no attribute 'remove'",
          "output_type": "error",
          "traceback": [
            "\u001b[0;31m---------------------------------------------------------------------------\u001b[0m",
            "\u001b[0;31mAttributeError\u001b[0m                            Traceback (most recent call last)",
            "\u001b[0;32m<ipython-input-38-393b9dcacc75>\u001b[0m in \u001b[0;36m<cell line: 3>\u001b[0;34m()\u001b[0m\n\u001b[1;32m      1\u001b[0m \u001b[0;31m# remove elements\u001b[0m\u001b[0;34m\u001b[0m\u001b[0;34m\u001b[0m\u001b[0m\n\u001b[1;32m      2\u001b[0m \u001b[0mTuple\u001b[0m \u001b[0;34m=\u001b[0m\u001b[0;34m(\u001b[0m\u001b[0;34m\"rashi\"\u001b[0m\u001b[0;34m,\u001b[0m \u001b[0;36m45\u001b[0m\u001b[0;34m,\u001b[0m \u001b[0;36m73.7\u001b[0m\u001b[0;34m,\u001b[0m \u001b[0;32mTrue\u001b[0m\u001b[0;34m)\u001b[0m\u001b[0;34m\u001b[0m\u001b[0;34m\u001b[0m\u001b[0m\n\u001b[0;32m----> 3\u001b[0;31m \u001b[0mTuple\u001b[0m\u001b[0;34m.\u001b[0m\u001b[0mremove\u001b[0m\u001b[0;34m(\u001b[0m\u001b[0;32mTrue\u001b[0m\u001b[0;34m)\u001b[0m\u001b[0;34m\u001b[0m\u001b[0;34m\u001b[0m\u001b[0m\n\u001b[0m",
            "\u001b[0;31mAttributeError\u001b[0m: 'tuple' object has no attribute 'remove'"
          ]
        }
      ],
      "source": [
        "# remove elements\n",
        "Tuple =(\"rashi\", 45, 73.7, True)\n",
        "Tuple.remove(True)"
      ]
    },
    {
      "cell_type": "code",
      "execution_count": null,
      "metadata": {
        "colab": {
          "base_uri": "https://localhost:8080/"
        },
        "id": "0ieE_Yii14Aa",
        "outputId": "c874c108-a2cf-46db-c3c2-66ce102d3722"
      },
      "outputs": [
        {
          "data": {
            "text/plain": [
              "['rashi', 45, 73.7]"
            ]
          },
          "execution_count": 40,
          "metadata": {},
          "output_type": "execute_result"
        }
      ],
      "source": [
        "Tuple =[\"rashi\", 45, 73.7, True]\n",
        "Tuple.remove(True)\n",
        "Tuple"
      ]
    },
    {
      "cell_type": "code",
      "execution_count": null,
      "metadata": {
        "colab": {
          "base_uri": "https://localhost:8080/",
          "height": 297
        },
        "id": "T4e-RUgz2EHW",
        "outputId": "c3c514ff-64fb-4e36-c3a5-73c24b5c173a"
      },
      "outputs": [
        {
          "ename": "AttributeError",
          "evalue": "'tuple' object has no attribute 'insert'",
          "output_type": "error",
          "traceback": [
            "\u001b[0;31m---------------------------------------------------------------------------\u001b[0m",
            "\u001b[0;31mAttributeError\u001b[0m                            Traceback (most recent call last)",
            "\u001b[0;32m<ipython-input-41-37452f108963>\u001b[0m in \u001b[0;36m<cell line: 3>\u001b[0;34m()\u001b[0m\n\u001b[1;32m      1\u001b[0m \u001b[0;31m#insert element\u001b[0m\u001b[0;34m\u001b[0m\u001b[0;34m\u001b[0m\u001b[0m\n\u001b[1;32m      2\u001b[0m \u001b[0mTuple\u001b[0m \u001b[0;34m=\u001b[0m\u001b[0;34m(\u001b[0m\u001b[0;34m\"rashi\"\u001b[0m\u001b[0;34m,\u001b[0m \u001b[0;36m45\u001b[0m\u001b[0;34m,\u001b[0m \u001b[0;36m73.7\u001b[0m\u001b[0;34m,\u001b[0m \u001b[0;32mTrue\u001b[0m\u001b[0;34m)\u001b[0m\u001b[0;34m\u001b[0m\u001b[0;34m\u001b[0m\u001b[0m\n\u001b[0;32m----> 3\u001b[0;31m \u001b[0mTuple\u001b[0m\u001b[0;34m.\u001b[0m\u001b[0minsert\u001b[0m\u001b[0;34m(\u001b[0m\u001b[0;36m16\u001b[0m\u001b[0;34m)\u001b[0m\u001b[0;34m\u001b[0m\u001b[0;34m\u001b[0m\u001b[0m\n\u001b[0m",
            "\u001b[0;31mAttributeError\u001b[0m: 'tuple' object has no attribute 'insert'"
          ]
        }
      ],
      "source": [
        "#insert element\n",
        "Tuple =(\"rashi\", 45, 73.7, True)\n",
        "Tuple.insert(16)"
      ]
    },
    {
      "cell_type": "code",
      "execution_count": null,
      "metadata": {
        "colab": {
          "base_uri": "https://localhost:8080/"
        },
        "id": "B1DZlNN_2M3O",
        "outputId": "3b04c219-bbc3-4c03-87c1-d611ebbbdb69"
      },
      "outputs": [
        {
          "data": {
            "text/plain": [
              "['rashi', 'pw', 45, 73.7, True]"
            ]
          },
          "execution_count": 45,
          "metadata": {},
          "output_type": "execute_result"
        }
      ],
      "source": [
        "Tuple =[\"rashi\", 45, 73.7, True]\n",
        "Tuple.insert(1, \"pw\")\n",
        "Tuple"
      ]
    },
    {
      "cell_type": "markdown",
      "metadata": {
        "id": "__UwrBR42lho"
      },
      "source": [
        "• hushability=  List is unhushable as you can't use it as key in dictionary but you can use tuple as key in dictionary."
      ]
    },
    {
      "cell_type": "code",
      "execution_count": null,
      "metadata": {
        "colab": {
          "base_uri": "https://localhost:8080/",
          "height": 263
        },
        "id": "qPltQjpH2kwe",
        "outputId": "9870ac7d-845c-4753-aa79-5a9e45771673"
      },
      "outputs": [
        {
          "ename": "TypeError",
          "evalue": "unhashable type: 'list'",
          "output_type": "error",
          "traceback": [
            "\u001b[0;31m---------------------------------------------------------------------------\u001b[0m",
            "\u001b[0;31mTypeError\u001b[0m                                 Traceback (most recent call last)",
            "\u001b[0;32m<ipython-input-57-c64ae8959900>\u001b[0m in \u001b[0;36m<cell line: 1>\u001b[0;34m()\u001b[0m\n\u001b[0;32m----> 1\u001b[0;31m \u001b[0mS\u001b[0m\u001b[0;34m=\u001b[0m \u001b[0;34m{\u001b[0m\u001b[0;34m[\u001b[0m\u001b[0;34m\"name\"\u001b[0m\u001b[0;34m]\u001b[0m\u001b[0;34m:\u001b[0m \u001b[0;34m\"Rashi\"\u001b[0m\u001b[0;34m}\u001b[0m\u001b[0;34m\u001b[0m\u001b[0;34m\u001b[0m\u001b[0m\n\u001b[0m\u001b[1;32m      2\u001b[0m \u001b[0mS\u001b[0m\u001b[0;34m\u001b[0m\u001b[0;34m\u001b[0m\u001b[0m\n",
            "\u001b[0;31mTypeError\u001b[0m: unhashable type: 'list'"
          ]
        }
      ],
      "source": [
        "S= {[\"name\"]: \"Rashi\"} # throw error  if we store list as key\n",
        "S"
      ]
    },
    {
      "cell_type": "code",
      "execution_count": null,
      "metadata": {
        "colab": {
          "base_uri": "https://localhost:8080/"
        },
        "id": "07A5uHZx3yKy",
        "outputId": "7f8cce1b-e2a0-451f-c736-eeadd065952e"
      },
      "outputs": [
        {
          "data": {
            "text/plain": [
              "{'Name': 'Rashi'}"
            ]
          },
          "execution_count": 60,
          "metadata": {},
          "output_type": "execute_result"
        }
      ],
      "source": [
        "B= {(\"Name\"):\"Rashi\"}\n",
        "\n",
        "B"
      ]
    },
    {
      "cell_type": "markdown",
      "metadata": {
        "id": "7D-mM0J64JmH"
      },
      "source": [
        "Use case= tuple is static in data so if the data is rigid only then it is useful. List is flexible in nature ."
      ]
    },
    {
      "cell_type": "markdown",
      "metadata": {
        "id": "dt190z2M4Mf2"
      },
      "source": [
        "# **Ques 5- Describe key features of sets and provide example of their use.**\n",
        "\n",
        "**Ans-**\n",
        "\n",
        "Sets are un-ordered collection of data that avoid repetation in container.\n",
        "\n",
        "•It can stored heterogeneous and unique data.\n",
        "\n",
        "•You can not access elements from set but it allows to add , remove , and pop option.\n",
        "\n",
        "•Set is Mutable in nature but frozenset is immutable\n",
        "\n",
        "•you can create Tuple in set . Eg:- {(),()}\n",
        "\n",
        "•Set operation is another feature in which one can use interaction, union, difference and symmetric on sets."
      ]
    },
    {
      "cell_type": "code",
      "execution_count": null,
      "metadata": {
        "colab": {
          "base_uri": "https://localhost:8080/"
        },
        "id": "MDNKK-jK4F4K",
        "outputId": "d125a136-4b72-4110-d9be-8af356501c79"
      },
      "outputs": [
        {
          "data": {
            "text/plain": [
              "set"
            ]
          },
          "execution_count": 64,
          "metadata": {},
          "output_type": "execute_result"
        }
      ],
      "source": [
        "St= {\"A\"}\n",
        "type(St)"
      ]
    },
    {
      "cell_type": "code",
      "execution_count": null,
      "metadata": {
        "colab": {
          "base_uri": "https://localhost:8080/"
        },
        "id": "fvNNZkIP5Ap6",
        "outputId": "c6573e27-b887-4597-e0aa-d43b3e516c4d"
      },
      "outputs": [
        {
          "data": {
            "text/plain": [
              "{23.4, 54, 'Apple', True, 'apple', 'banana'}"
            ]
          },
          "execution_count": 71,
          "metadata": {},
          "output_type": "execute_result"
        }
      ],
      "source": [
        "\n",
        "# Stored heterogeneous data\n",
        "St={\"apple\", 54, 23.4, True,\"apple\", 54, \"Apple\", \"banana\"}\n",
        "St # it avoided repetation of apple"
      ]
    },
    {
      "cell_type": "code",
      "execution_count": null,
      "metadata": {
        "colab": {
          "base_uri": "https://localhost:8080/",
          "height": 245
        },
        "id": "-9TxN0-S5rjc",
        "outputId": "0afcd794-d763-4755-e26e-bcecda706814"
      },
      "outputs": [
        {
          "ename": "TypeError",
          "evalue": "'set' object is not subscriptable",
          "output_type": "error",
          "traceback": [
            "\u001b[0;31m---------------------------------------------------------------------------\u001b[0m",
            "\u001b[0;31mTypeError\u001b[0m                                 Traceback (most recent call last)",
            "\u001b[0;32m<ipython-input-72-2c22a505405f>\u001b[0m in \u001b[0;36m<cell line: 1>\u001b[0;34m()\u001b[0m\n\u001b[0;32m----> 1\u001b[0;31m \u001b[0mSt\u001b[0m\u001b[0;34m[\u001b[0m\u001b[0;36m0\u001b[0m\u001b[0;34m]\u001b[0m \u001b[0;31m# not accessable\u001b[0m\u001b[0;34m\u001b[0m\u001b[0;34m\u001b[0m\u001b[0m\n\u001b[0m",
            "\u001b[0;31mTypeError\u001b[0m: 'set' object is not subscriptable"
          ]
        }
      ],
      "source": [
        "St[0] # not accessable"
      ]
    },
    {
      "cell_type": "code",
      "execution_count": null,
      "metadata": {
        "colab": {
          "base_uri": "https://localhost:8080/"
        },
        "id": "I_UlOy-j58MB",
        "outputId": "00bd596d-70da-487d-f668-24ce3f731613"
      },
      "outputs": [
        {
          "data": {
            "text/plain": [
              "{23, 45, 'Skills', 'rashi'}"
            ]
          },
          "execution_count": 81,
          "metadata": {},
          "output_type": "execute_result"
        }
      ],
      "source": [
        "A= {23,45,\"rashi\"} # adding element\n",
        "A.add(\"Skills\")\n",
        "A"
      ]
    },
    {
      "cell_type": "code",
      "execution_count": null,
      "metadata": {
        "colab": {
          "base_uri": "https://localhost:8080/"
        },
        "id": "lOaGvtfE6gVK",
        "outputId": "4be2ae8d-bd22-42a0-df3b-b3d46f129555"
      },
      "outputs": [
        {
          "data": {
            "text/plain": [
              "{23, 45, 'Skills'}"
            ]
          },
          "execution_count": 82,
          "metadata": {},
          "output_type": "execute_result"
        }
      ],
      "source": [
        "A.pop() # popping out element\n",
        "A"
      ]
    },
    {
      "cell_type": "code",
      "execution_count": null,
      "metadata": {
        "colab": {
          "base_uri": "https://localhost:8080/"
        },
        "id": "j44VJXW-6sAW",
        "outputId": "4ef6e549-5ca0-4268-a716-f7ebb17b00ff"
      },
      "outputs": [
        {
          "data": {
            "text/plain": [
              "{23, 'rashi'}"
            ]
          },
          "execution_count": 91,
          "metadata": {},
          "output_type": "execute_result"
        }
      ],
      "source": [
        "A= {23,45,\"rashi\"} # removing element\n",
        "A.remove(45)\n",
        "A"
      ]
    },
    {
      "cell_type": "code",
      "execution_count": null,
      "metadata": {
        "colab": {
          "base_uri": "https://localhost:8080/"
        },
        "id": "WpIo7Qah8EPl",
        "outputId": "25fd9a9a-860a-40af-cd33-1c4b07c26688"
      },
      "outputs": [
        {
          "data": {
            "text/plain": [
              "{23, 34, 'Ajay', 'Rashi'}"
            ]
          },
          "execution_count": 95,
          "metadata": {},
          "output_type": "execute_result"
        }
      ],
      "source": [
        "#mutability\n",
        "S={23,34,\"Rashi\"}\n",
        "S.update([\"Ajay\"])\n",
        "S"
      ]
    },
    {
      "cell_type": "code",
      "execution_count": null,
      "metadata": {
        "colab": {
          "base_uri": "https://localhost:8080/"
        },
        "id": "mVZ28Lj28dVh",
        "outputId": "5e42cc00-de19-4955-96b3-f48f7ea12fc6"
      },
      "outputs": [
        {
          "output_type": "execute_result",
          "data": {
            "text/plain": [
              "frozenset"
            ]
          },
          "metadata": {},
          "execution_count": 145
        }
      ],
      "source": [
        "My_work= frozenset([1,2,3,4])\n",
        "type(My_work)"
      ]
    },
    {
      "cell_type": "markdown",
      "source": [
        "# **Ques 6) discuss Use case of tuple and sets in python programming.**"
      ],
      "metadata": {
        "id": "wkVd_yc3Icnw"
      }
    },
    {
      "cell_type": "markdown",
      "source": [
        "Set are un-ordered, unique collection of data and avoide duplicate.it is also allow to add , pop, remove and update elements."
      ],
      "metadata": {
        "id": "fOPVqT2DGo1K"
      }
    },
    {
      "cell_type": "code",
      "source": [
        "A= {1,2,45,35,\"rashi\"}\n",
        "A"
      ],
      "metadata": {
        "colab": {
          "base_uri": "https://localhost:8080/"
        },
        "id": "n3169jahGl_j",
        "outputId": "adad3f8e-1b7d-4f9a-ff91-68eaf8cc2e9d"
      },
      "execution_count": null,
      "outputs": [
        {
          "output_type": "execute_result",
          "data": {
            "text/plain": [
              "{1, 2, 35, 45, 'rashi'}"
            ]
          },
          "metadata": {},
          "execution_count": 146
        }
      ]
    },
    {
      "cell_type": "code",
      "source": [
        "type (A)"
      ],
      "metadata": {
        "colab": {
          "base_uri": "https://localhost:8080/"
        },
        "id": "SyBoTW1wHGtz",
        "outputId": "a7ccb9d1-2ec4-4800-9ffe-9e6f0d8d4213"
      },
      "execution_count": null,
      "outputs": [
        {
          "output_type": "execute_result",
          "data": {
            "text/plain": [
              "set"
            ]
          },
          "metadata": {},
          "execution_count": 147
        }
      ]
    },
    {
      "cell_type": "code",
      "source": [
        "A.add(65)\n",
        "A # adding element"
      ],
      "metadata": {
        "colab": {
          "base_uri": "https://localhost:8080/"
        },
        "id": "DNulrcVmHKZ0",
        "outputId": "31b5f107-e161-4f4e-8ae5-426ffb54bf91"
      },
      "execution_count": null,
      "outputs": [
        {
          "output_type": "execute_result",
          "data": {
            "text/plain": [
              "{1, 2, 35, 45, 65, 'rashi'}"
            ]
          },
          "metadata": {},
          "execution_count": 149
        }
      ]
    },
    {
      "cell_type": "code",
      "source": [
        "A.pop() # popping out\n",
        "A"
      ],
      "metadata": {
        "colab": {
          "base_uri": "https://localhost:8080/"
        },
        "id": "HIUgRvqeHGyv",
        "outputId": "90b5cfd0-7ca4-41ca-f59e-4a6e15cdab6f"
      },
      "execution_count": null,
      "outputs": [
        {
          "output_type": "execute_result",
          "data": {
            "text/plain": [
              "{2, 35, 45, 65, 'rashi'}"
            ]
          },
          "metadata": {},
          "execution_count": 150
        }
      ]
    },
    {
      "cell_type": "code",
      "source": [
        "# remove\n",
        "A.remove(45)\n",
        "A"
      ],
      "metadata": {
        "colab": {
          "base_uri": "https://localhost:8080/"
        },
        "id": "wb8xDlWvHUsq",
        "outputId": "f5fbb5f2-6f23-47d6-e34e-28f82640ba77"
      },
      "execution_count": null,
      "outputs": [
        {
          "output_type": "execute_result",
          "data": {
            "text/plain": [
              "{2, 35, 65, 'rashi'}"
            ]
          },
          "metadata": {},
          "execution_count": 151
        }
      ]
    },
    {
      "cell_type": "code",
      "source": [
        "A.update ([\"course\"])\n",
        "A"
      ],
      "metadata": {
        "colab": {
          "base_uri": "https://localhost:8080/"
        },
        "id": "Q-lWrM4dHami",
        "outputId": "043dc8a7-7632-4c57-8764-d99d5a6bf7f2"
      },
      "execution_count": null,
      "outputs": [
        {
          "output_type": "execute_result",
          "data": {
            "text/plain": [
              "{2, 35, 65, 'course', 'rashi'}"
            ]
          },
          "metadata": {},
          "execution_count": 153
        }
      ]
    },
    {
      "cell_type": "code",
      "source": [
        "#creating multiple tuples in sets\n",
        "Abc= {(1,2),(2,3),(3,4)}\n",
        "Abc"
      ],
      "metadata": {
        "colab": {
          "base_uri": "https://localhost:8080/"
        },
        "id": "WZGQI-GzHm4o",
        "outputId": "495672ac-462a-45d6-e3f9-9dea93d48d63"
      },
      "execution_count": null,
      "outputs": [
        {
          "output_type": "execute_result",
          "data": {
            "text/plain": [
              "{(1, 2), (2, 3), (3, 4)}"
            ]
          },
          "metadata": {},
          "execution_count": 154
        }
      ]
    },
    {
      "cell_type": "code",
      "source": [
        "# SET OPERATION\n",
        "A= {\"DANCE\" ,\"SWIM\" , 34 ,72.4}\n",
        "B= {34, \"Dance\" ,\"SWIM\"}\n",
        "# UNION OF SET\n",
        "A|B"
      ],
      "metadata": {
        "colab": {
          "base_uri": "https://localhost:8080/"
        },
        "id": "FgkHwp5vHx5J",
        "outputId": "bb4223ba-cbb8-401f-834b-1a5afbbbd1a4"
      },
      "execution_count": null,
      "outputs": [
        {
          "output_type": "execute_result",
          "data": {
            "text/plain": [
              "{34, 72.4, 'DANCE', 'Dance', 'SWIM'}"
            ]
          },
          "metadata": {},
          "execution_count": 155
        }
      ]
    },
    {
      "cell_type": "code",
      "source": [
        "A&B # intersaction"
      ],
      "metadata": {
        "colab": {
          "base_uri": "https://localhost:8080/"
        },
        "id": "VB_M_nA5IDpJ",
        "outputId": "384e1162-9773-4247-ce4e-095683d8ebce"
      },
      "execution_count": null,
      "outputs": [
        {
          "output_type": "execute_result",
          "data": {
            "text/plain": [
              "{34, 'SWIM'}"
            ]
          },
          "metadata": {},
          "execution_count": 156
        }
      ]
    },
    {
      "cell_type": "code",
      "source": [
        "A-B # difference"
      ],
      "metadata": {
        "colab": {
          "base_uri": "https://localhost:8080/"
        },
        "id": "HYvh7CsWIFVn",
        "outputId": "0001eea9-3078-4119-e7fd-1af2c5091c07"
      },
      "execution_count": null,
      "outputs": [
        {
          "output_type": "execute_result",
          "data": {
            "text/plain": [
              "{72.4, 'DANCE'}"
            ]
          },
          "metadata": {},
          "execution_count": 157
        }
      ]
    },
    {
      "cell_type": "code",
      "source": [
        "A^B # symmetric"
      ],
      "metadata": {
        "colab": {
          "base_uri": "https://localhost:8080/"
        },
        "id": "VsPEDDB2IFf8",
        "outputId": "1f7e1430-f13a-4838-df71-aa436359679d"
      },
      "execution_count": null,
      "outputs": [
        {
          "output_type": "execute_result",
          "data": {
            "text/plain": [
              "{72.4, 'DANCE', 'Dance'}"
            ]
          },
          "metadata": {},
          "execution_count": 158
        }
      ]
    },
    {
      "cell_type": "markdown",
      "source": [
        "Tuple is un-ordered collection of data . It can store variety of data and immutable in nature. So , it doesn't support add , remove elements from it .\n",
        "You can use tuple when you want static data.\n",
        "\n",
        "Set provide add, remove, pop any elements from set."
      ],
      "metadata": {
        "id": "hO3Mzj12IQHG"
      }
    },
    {
      "cell_type": "code",
      "source": [
        "A= (3,4,5,\"course\",4,5,4)\n",
        "type(A)"
      ],
      "metadata": {
        "colab": {
          "base_uri": "https://localhost:8080/"
        },
        "id": "MMxf0qQTJBbf",
        "outputId": "58b9aa70-1909-4c19-cb05-c1ae4726c2a9"
      },
      "execution_count": null,
      "outputs": [
        {
          "output_type": "execute_result",
          "data": {
            "text/plain": [
              "tuple"
            ]
          },
          "metadata": {},
          "execution_count": 163
        }
      ]
    },
    {
      "cell_type": "code",
      "source": [
        "A[1]"
      ],
      "metadata": {
        "colab": {
          "base_uri": "https://localhost:8080/"
        },
        "id": "VsMEQSnkJIDf",
        "outputId": "6e08d947-5689-4c8e-9809-d714245d1c55"
      },
      "execution_count": null,
      "outputs": [
        {
          "output_type": "execute_result",
          "data": {
            "text/plain": [
              "4"
            ]
          },
          "metadata": {},
          "execution_count": 164
        }
      ]
    },
    {
      "cell_type": "code",
      "source": [
        "A.count(4) # no. Of elements in tuple"
      ],
      "metadata": {
        "colab": {
          "base_uri": "https://localhost:8080/"
        },
        "id": "tyzDrUm6JRiD",
        "outputId": "c50afba9-d56b-4e6d-b6bc-55fdacf364ca"
      },
      "execution_count": null,
      "outputs": [
        {
          "output_type": "execute_result",
          "data": {
            "text/plain": [
              "3"
            ]
          },
          "metadata": {},
          "execution_count": 165
        }
      ]
    },
    {
      "cell_type": "code",
      "source": [
        "A[0:3] # Slicing"
      ],
      "metadata": {
        "colab": {
          "base_uri": "https://localhost:8080/"
        },
        "id": "Qjidk6R4JbBG",
        "outputId": "a6bf24f2-34fd-4bdf-aea1-4a1ef51b8c52"
      },
      "execution_count": null,
      "outputs": [
        {
          "output_type": "execute_result",
          "data": {
            "text/plain": [
              "(3, 4, 5)"
            ]
          },
          "metadata": {},
          "execution_count": 166
        }
      ]
    },
    {
      "cell_type": "code",
      "source": [
        "#index\n",
        "A.index(5)"
      ],
      "metadata": {
        "colab": {
          "base_uri": "https://localhost:8080/"
        },
        "id": "kppLBnANJbF1",
        "outputId": "61cda9f8-b012-4861-b21c-ea15e6eb3110"
      },
      "execution_count": null,
      "outputs": [
        {
          "output_type": "execute_result",
          "data": {
            "text/plain": [
              "2"
            ]
          },
          "metadata": {},
          "execution_count": 170
        }
      ]
    },
    {
      "cell_type": "code",
      "source": [
        "A=(\"Rashi\")\n",
        "B=(\" Meena\")\n",
        "A+B"
      ],
      "metadata": {
        "colab": {
          "base_uri": "https://localhost:8080/",
          "height": 35
        },
        "id": "wlpNRv7sKTta",
        "outputId": "d6ec0693-71a1-4c12-9243-953288d5b3fd"
      },
      "execution_count": null,
      "outputs": [
        {
          "output_type": "execute_result",
          "data": {
            "text/plain": [
              "'Rashi Meena'"
            ],
            "application/vnd.google.colaboratory.intrinsic+json": {
              "type": "string"
            }
          },
          "metadata": {},
          "execution_count": 172
        }
      ]
    },
    {
      "cell_type": "markdown",
      "source": [
        "# **Ques 7) describe how to add modify and delete items in a dictionary with example.**"
      ],
      "metadata": {
        "id": "dIhqpk7INBl0"
      }
    },
    {
      "cell_type": "code",
      "source": [
        "A= {\"name\": \"rashi\"}\n",
        "A"
      ],
      "metadata": {
        "id": "6fdHV_YiKg0E",
        "colab": {
          "base_uri": "https://localhost:8080/"
        },
        "outputId": "f03bc7a9-47f6-45e7-ccb1-aeba2a49ecdc"
      },
      "execution_count": null,
      "outputs": [
        {
          "output_type": "execute_result",
          "data": {
            "text/plain": [
              "{'name': 'rashi'}"
            ]
          },
          "metadata": {},
          "execution_count": 173
        }
      ]
    },
    {
      "cell_type": "code",
      "source": [
        "type(A)"
      ],
      "metadata": {
        "colab": {
          "base_uri": "https://localhost:8080/"
        },
        "id": "QPmWzPaZNcWb",
        "outputId": "a086fa5f-8ef1-4b82-922f-4a12a379633f"
      },
      "execution_count": null,
      "outputs": [
        {
          "output_type": "execute_result",
          "data": {
            "text/plain": [
              "dict"
            ]
          },
          "metadata": {},
          "execution_count": 174
        }
      ]
    },
    {
      "cell_type": "code",
      "source": [
        "# adding course\n",
        "A[\"Course\"]=\"Data analytics\"\n",
        "A"
      ],
      "metadata": {
        "colab": {
          "base_uri": "https://localhost:8080/"
        },
        "id": "kns6IXUsNeaV",
        "outputId": "47bc2a27-bef3-46a8-c162-b9f2919f2edf"
      },
      "execution_count": null,
      "outputs": [
        {
          "output_type": "execute_result",
          "data": {
            "text/plain": [
              "{'name': 'rashi', 'Course': 'Data analytics'}"
            ]
          },
          "metadata": {},
          "execution_count": 175
        }
      ]
    },
    {
      "cell_type": "code",
      "source": [
        "# adding another element \"Fees\"\n",
        "A[\"Fees\"]= 15000\n",
        "A"
      ],
      "metadata": {
        "colab": {
          "base_uri": "https://localhost:8080/"
        },
        "id": "y6Cwq2eqNsg5",
        "outputId": "da7e8264-5326-4e52-a698-0d8a692af298"
      },
      "execution_count": null,
      "outputs": [
        {
          "output_type": "execute_result",
          "data": {
            "text/plain": [
              "{'name': 'rashi', 'Course': 'Data analytics', 'Fees': 15000}"
            ]
          },
          "metadata": {},
          "execution_count": 178
        }
      ]
    },
    {
      "cell_type": "code",
      "source": [
        "# modifying the name with Ajay\n",
        "A['name']= \"Ajay\"\n",
        "A"
      ],
      "metadata": {
        "colab": {
          "base_uri": "https://localhost:8080/"
        },
        "id": "65H52CrlN6t8",
        "outputId": "52ecdaab-ce6c-41ec-8cc3-04e820f10e29"
      },
      "execution_count": null,
      "outputs": [
        {
          "output_type": "execute_result",
          "data": {
            "text/plain": [
              "{'name': 'Ajay', 'Course': 'Data analytics', 'Fees': 15000}"
            ]
          },
          "metadata": {},
          "execution_count": 179
        }
      ]
    },
    {
      "cell_type": "code",
      "source": [
        "A= {'name': 'Ajay', 'Course': 'Data analytics', 'Fees': 15000}\n",
        "B= {\"Course\": \"data sci\", \"class\": 10}\n",
        "# I want to delete 'class'\n",
        "del B[\"class\"]\n",
        "B"
      ],
      "metadata": {
        "colab": {
          "base_uri": "https://localhost:8080/"
        },
        "id": "dKp9ZYc4OTl8",
        "outputId": "2399798d-bf89-441a-b609-a79332a71377"
      },
      "execution_count": null,
      "outputs": [
        {
          "output_type": "execute_result",
          "data": {
            "text/plain": [
              "{'Course': 'data sci'}"
            ]
          },
          "metadata": {},
          "execution_count": 184
        }
      ]
    },
    {
      "cell_type": "code",
      "source": [
        "# I want to delete B list\n",
        "del B\n",
        "B # it will throw an error as B list is deleted"
      ],
      "metadata": {
        "id": "f5PPLEtrO7dF",
        "colab": {
          "base_uri": "https://localhost:8080/",
          "height": 176
        },
        "outputId": "53eced1a-a094-45c8-c47e-cc0bb7e3fd58"
      },
      "execution_count": 209,
      "outputs": [
        {
          "output_type": "error",
          "ename": "NameError",
          "evalue": "name 'B' is not defined",
          "traceback": [
            "\u001b[0;31m---------------------------------------------------------------------------\u001b[0m",
            "\u001b[0;31mNameError\u001b[0m                                 Traceback (most recent call last)",
            "\u001b[0;32m<ipython-input-209-e03619cd98c6>\u001b[0m in \u001b[0;36m<cell line: 2>\u001b[0;34m()\u001b[0m\n\u001b[1;32m      1\u001b[0m \u001b[0;31m# I want to delete B list\u001b[0m\u001b[0;34m\u001b[0m\u001b[0;34m\u001b[0m\u001b[0m\n\u001b[0;32m----> 2\u001b[0;31m \u001b[0;32mdel\u001b[0m \u001b[0mB\u001b[0m\u001b[0;34m\u001b[0m\u001b[0;34m\u001b[0m\u001b[0m\n\u001b[0m\u001b[1;32m      3\u001b[0m \u001b[0mB\u001b[0m \u001b[0;31m# it will throw an error as B list is deleted\u001b[0m\u001b[0;34m\u001b[0m\u001b[0;34m\u001b[0m\u001b[0m\n",
            "\u001b[0;31mNameError\u001b[0m: name 'B' is not defined"
          ]
        }
      ]
    },
    {
      "cell_type": "markdown",
      "source": [
        "# **Ques 8) discuss the importance of dictionary keys being immutable and provide example.**\n",
        "\n",
        "**Ans-**\n",
        "\n",
        "In dictionary, it is necessary that the key must be immutable object as if it is not it will also change its hash value.\n",
        "\n",
        "Ex - A= \"Daksh\" and  A= \"Aaksh\"\n",
        "Then their both hash value will be change but when you try to found hash value of list ,it will throw error as it is Mutable object.\n",
        "\n",
        "So while creating dictionary, it is crucial to store the key value in form of string, float, integer, tuple etc .\n",
        "Immutable key prevent duplication and ensure each key is unique.\n",
        "\n",
        "So You can't use list, dict, set as keys"
      ],
      "metadata": {
        "id": "zE_NbNUkPIAH"
      }
    },
    {
      "cell_type": "code",
      "source": [
        "# try to create dict with Mutable object\n",
        "A= {[1,2,3] : \"Name\"} # it will throw error name \"unhashable\"\n",
        "A"
      ],
      "metadata": {
        "colab": {
          "base_uri": "https://localhost:8080/",
          "height": 297
        },
        "id": "hmbhhiUJPpSQ",
        "outputId": "1ac985dd-293e-45f6-9576-ecb6aee25564"
      },
      "execution_count": null,
      "outputs": [
        {
          "output_type": "error",
          "ename": "TypeError",
          "evalue": "unhashable type: 'list'",
          "traceback": [
            "\u001b[0;31m---------------------------------------------------------------------------\u001b[0m",
            "\u001b[0;31mTypeError\u001b[0m                                 Traceback (most recent call last)",
            "\u001b[0;32m<ipython-input-187-f4ee21fb71b3>\u001b[0m in \u001b[0;36m<cell line: 2>\u001b[0;34m()\u001b[0m\n\u001b[1;32m      1\u001b[0m \u001b[0;31m# try to create dict with Mutable object\u001b[0m\u001b[0;34m\u001b[0m\u001b[0;34m\u001b[0m\u001b[0m\n\u001b[0;32m----> 2\u001b[0;31m \u001b[0mA\u001b[0m\u001b[0;34m=\u001b[0m \u001b[0;34m{\u001b[0m\u001b[0;34m[\u001b[0m\u001b[0;36m1\u001b[0m\u001b[0;34m,\u001b[0m\u001b[0;36m2\u001b[0m\u001b[0;34m,\u001b[0m\u001b[0;36m3\u001b[0m\u001b[0;34m]\u001b[0m \u001b[0;34m:\u001b[0m \u001b[0;34m\"Name\"\u001b[0m\u001b[0;34m}\u001b[0m\u001b[0;34m\u001b[0m\u001b[0;34m\u001b[0m\u001b[0m\n\u001b[0m\u001b[1;32m      3\u001b[0m \u001b[0mA\u001b[0m\u001b[0;34m\u001b[0m\u001b[0;34m\u001b[0m\u001b[0m\n",
            "\u001b[0;31mTypeError\u001b[0m: unhashable type: 'list'"
          ]
        }
      ]
    },
    {
      "cell_type": "code",
      "source": [
        "#Creating dict in dictionary\n",
        "A={{\"name\": \"rashi\"}}\n",
        "A"
      ],
      "metadata": {
        "colab": {
          "base_uri": "https://localhost:8080/",
          "height": 297
        },
        "id": "XpuFSzxmP6zY",
        "outputId": "3ee42c79-961b-4806-dae3-88b24c36f701"
      },
      "execution_count": null,
      "outputs": [
        {
          "output_type": "error",
          "ename": "TypeError",
          "evalue": "unhashable type: 'dict'",
          "traceback": [
            "\u001b[0;31m---------------------------------------------------------------------------\u001b[0m",
            "\u001b[0;31mTypeError\u001b[0m                                 Traceback (most recent call last)",
            "\u001b[0;32m<ipython-input-195-bde7c720fd52>\u001b[0m in \u001b[0;36m<cell line: 2>\u001b[0;34m()\u001b[0m\n\u001b[1;32m      1\u001b[0m \u001b[0;31m#Creating dict in dictionary\u001b[0m\u001b[0;34m\u001b[0m\u001b[0;34m\u001b[0m\u001b[0m\n\u001b[0;32m----> 2\u001b[0;31m \u001b[0mA\u001b[0m\u001b[0;34m=\u001b[0m\u001b[0;34m{\u001b[0m\u001b[0;34m{\u001b[0m\u001b[0;34m\"name\"\u001b[0m\u001b[0;34m:\u001b[0m \u001b[0;34m\"rashi\"\u001b[0m\u001b[0;34m}\u001b[0m\u001b[0;34m}\u001b[0m\u001b[0;34m\u001b[0m\u001b[0;34m\u001b[0m\u001b[0m\n\u001b[0m\u001b[1;32m      3\u001b[0m \u001b[0mA\u001b[0m\u001b[0;34m\u001b[0m\u001b[0;34m\u001b[0m\u001b[0m\n",
            "\u001b[0;31mTypeError\u001b[0m: unhashable type: 'dict'"
          ]
        }
      ]
    },
    {
      "cell_type": "code",
      "source": [
        "# Immutable object\n",
        "A= {\"Name\": \"rashi\", \"Course\":\"Da\"}\n",
        "A"
      ],
      "metadata": {
        "colab": {
          "base_uri": "https://localhost:8080/"
        },
        "id": "wdc23gDbQp4z",
        "outputId": "1adb22bf-f679-4ada-cdd4-33c1d7c87de7"
      },
      "execution_count": null,
      "outputs": [
        {
          "output_type": "execute_result",
          "data": {
            "text/plain": [
              "{'Name': 'rashi', 'Course': 'Da'}"
            ]
          },
          "metadata": {},
          "execution_count": 197
        }
      ]
    },
    {
      "cell_type": "code",
      "source": [
        "# Float\n",
        "F={45.6:76}\n",
        "F"
      ],
      "metadata": {
        "colab": {
          "base_uri": "https://localhost:8080/"
        },
        "id": "lUlx6VGbT22A",
        "outputId": "e98d865f-50cc-4599-acdc-d32e13240fda"
      },
      "execution_count": null,
      "outputs": [
        {
          "output_type": "execute_result",
          "data": {
            "text/plain": [
              "{45.6: 76}"
            ]
          },
          "metadata": {},
          "execution_count": 208
        }
      ]
    }
  ],
  "metadata": {
    "colab": {
      "provenance": []
    },
    "kernelspec": {
      "display_name": "Python 3",
      "name": "python3"
    },
    "language_info": {
      "name": "python"
    }
  },
  "nbformat": 4,
  "nbformat_minor": 0
}