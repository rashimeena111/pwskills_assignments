{
  "nbformat": 4,
  "nbformat_minor": 0,
  "metadata": {
    "colab": {
      "provenance": []
    },
    "kernelspec": {
      "name": "python3",
      "display_name": "Python 3"
    },
    "language_info": {
      "name": "python"
    }
  },
  "cells": [
    {
      "cell_type": "code",
      "execution_count": null,
      "metadata": {
        "id": "aYdM8ZWkMjJl"
      },
      "outputs": [],
      "source": [
        "\n",
        "\n"
      ]
    },
    {
      "cell_type": "markdown",
      "source": [
        "# **QUES 1) Explain the key features of Python that make it a popular choice for programming?\n",
        "\n",
        "# ANS-\n",
        "\n",
        "Python is a programming language which  is set of rules and symbols that are used to interact with computer and it helps in analysing the data and also make us capable for decision making.\n",
        "\n",
        "Features:\n",
        "1) Python language is easy to learn and understand for beginner. It is not complex as other languages like C++, Java and many more .\n",
        "\n",
        "2)Python has wide range of job opportunities in market which attract the ones to pursue the career in this domain.\n",
        "\n",
        "3) Python has more libraries than other languages. (Libraries means codes that can be re-use by others)\n",
        "Currently python has around 1,37,000 libraries which is one of the best feature.\n",
        "\n",
        "4) Python is compatible with other languages as well .\n",
        "\n",
        "5) Pythons has capability to understand the data type on its own which is comes under Implicit concept. This feature helps the learner to learn easily without any complexity.\n",
        "\n",
        "6) Python can be used for Machine learning, Game development, data analysis, Graphics representation etc.\n",
        "\n",
        "7)During coding, Python verify the codes and indicate the error if it is any and one can easily understand and rectify it.\n",
        "\n",
        "8) Python codes can be read very easily as it based on basic terminologies which we have learned back in school. For example : a+b , a/b\n",
        "Any one can understand this syntax '+' ,'-' as it is basic.\n",
        "\n",
        "9) Python language has many platforms for coding like - Jupyter, anaconda , Google collab, Vscode , GDB compliar, programiz etc.\n",
        "\n",
        "So, these features makes Python popular among people for programming.text\n",
        "\n",
        "\n",
        "\n"
      ],
      "metadata": {
        "id": "SXshEzWuPUed"
      }
    },
    {
      "cell_type": "markdown",
      "source": [
        "# ** QUES 2) Describe the role of predefined keywords in Python and provide examples of how they are used in a program?\n",
        "# ANS 2**\n",
        "\n",
        "Predefined keywords, as the name state itself those words that are reserve in container and have specific meaning and purpose. These words can be used only if one has known about its role and nature in python.\n",
        "Example of predefined keywords: - print, input, while, in, etc.\n",
        "We can neither change the way of writing these keywords nor use it as identifier.\n",
        "\n",
        "Example: abc= 'Mango' (☑)\n",
        "                  while = 'mango'(x)"
      ],
      "metadata": {
        "id": "qmVa30-5QNN3"
      }
    },
    {
      "cell_type": "code",
      "source": [
        "# predefined keywords\n",
        "a = 5\n",
        "if a ==5:\n",
        "    print(\"5 is odd number\")\n",
        "\n",
        "\n"
      ],
      "metadata": {
        "colab": {
          "base_uri": "https://localhost:8080/"
        },
        "id": "5gYKbwYEd5mm",
        "outputId": "d74797c0-849f-4318-ef12-8023c4656114"
      },
      "execution_count": null,
      "outputs": [
        {
          "output_type": "stream",
          "name": "stdout",
          "text": [
            "5 is odd number\n"
          ]
        }
      ]
    },
    {
      "cell_type": "code",
      "source": [
        "# input keyword\n",
        "name =input('your name :')\n",
        "batch=input('your batch no. :')\n",
        "date= input('joining date: ')\n"
      ],
      "metadata": {
        "colab": {
          "base_uri": "https://localhost:8080/"
        },
        "id": "iknmCSmneIwM",
        "outputId": "1f708fd8-7fad-44bb-8833-970dd2c4f605"
      },
      "execution_count": null,
      "outputs": [
        {
          "name": "stdout",
          "output_type": "stream",
          "text": [
            "your name :Rashi\n",
            "your batch no. : 2024\n",
            "joining date: 29/12/24\n"
          ]
        }
      ]
    },
    {
      "cell_type": "markdown",
      "source": [
        "# **QUES 3) Compare and contrast mutable and immutable objects in Python with examples.\n",
        "# ANS-\n",
        "Object are classified into 2 types\n",
        "\n",
        "a)\tMutable object= In simple term, those object that can be change after creation of it, are consider as Mutable object. If we are capable to change the Integer into float, Float into string and vice-versa then it will know as Mutable object. Here, list container is an example of this\n",
        "**"
      ],
      "metadata": {
        "id": "zmMbhPq6d4ZJ"
      }
    },
    {
      "cell_type": "code",
      "source": [
        "#mutable object example\n",
        "list_cont= [28, 4.89, 65, 'Mango', 'Pineapple'] #i want to change mango with cherry\n",
        "list_cont[3]= 'cherry'\n",
        "list_cont\n",
        "\n",
        "\n",
        "\n"
      ],
      "metadata": {
        "colab": {
          "base_uri": "https://localhost:8080/"
        },
        "id": "Gwph8hQifCAH",
        "outputId": "0a2d9990-2e51-4ca2-97d6-0b2f20f077d1"
      },
      "execution_count": null,
      "outputs": [
        {
          "output_type": "execute_result",
          "data": {
            "text/plain": [
              "[28, 4.89, 65, 'cherry', 'Pineapple']"
            ]
          },
          "metadata": {},
          "execution_count": 5
        }
      ]
    },
    {
      "cell_type": "code",
      "source": [
        "# Another example\n",
        "Name= [2+8j, 32, 'Water']\n",
        "Name[1]= 23\n",
        "Name"
      ],
      "metadata": {
        "colab": {
          "base_uri": "https://localhost:8080/"
        },
        "id": "ER5x6wb1fJAx",
        "outputId": "6eb38051-a365-4c4e-c6a9-6859f58d0dbc"
      },
      "execution_count": null,
      "outputs": [
        {
          "output_type": "execute_result",
          "data": {
            "text/plain": [
              "[(2+8j), 23, 'Water']"
            ]
          },
          "metadata": {},
          "execution_count": 6
        }
      ]
    },
    {
      "cell_type": "markdown",
      "source": [
        "**b) Immutable object = Those objects that cannot be change after the creation of it, are consider as immutable object. Here, string is an example of it.**"
      ],
      "metadata": {
        "id": "JFdJs07sd4cW"
      }
    },
    {
      "cell_type": "code",
      "source": [
        "A = \"Deta_analyitics\" # i want to change e into a\n",
        "A[1]= a # it will throw an error as it can't be change because it is immutable object"
      ],
      "metadata": {
        "colab": {
          "base_uri": "https://localhost:8080/",
          "height": 158
        },
        "id": "fGZjmPatfaC_",
        "outputId": "2532ac48-8f4e-40c6-a8e9-877e707fd099"
      },
      "execution_count": null,
      "outputs": [
        {
          "output_type": "error",
          "ename": "TypeError",
          "evalue": "'str' object does not support item assignment",
          "traceback": [
            "\u001b[0;31m---------------------------------------------------------------------------\u001b[0m",
            "\u001b[0;31mTypeError\u001b[0m                                 Traceback (most recent call last)",
            "\u001b[0;32m<ipython-input-7-234b81d284e1>\u001b[0m in \u001b[0;36m<cell line: 2>\u001b[0;34m()\u001b[0m\n\u001b[1;32m      1\u001b[0m \u001b[0mA\u001b[0m \u001b[0;34m=\u001b[0m \u001b[0;34m\"Deta_analyitics\"\u001b[0m \u001b[0;31m# i want to change e into a\u001b[0m\u001b[0;34m\u001b[0m\u001b[0;34m\u001b[0m\u001b[0m\n\u001b[0;32m----> 2\u001b[0;31m \u001b[0mA\u001b[0m\u001b[0;34m[\u001b[0m\u001b[0;36m1\u001b[0m\u001b[0;34m]\u001b[0m\u001b[0;34m=\u001b[0m \u001b[0ma\u001b[0m \u001b[0;31m# it will throw an error as it can't be change because it is immutable object\u001b[0m\u001b[0;34m\u001b[0m\u001b[0;34m\u001b[0m\u001b[0m\n\u001b[0m",
            "\u001b[0;31mTypeError\u001b[0m: 'str' object does not support item assignment"
          ]
        }
      ]
    },
    {
      "cell_type": "markdown",
      "source": [
        "# Ques 4) Discuss the different types of operators in Python and provide examples of how they are used.\n",
        "# ANS-\n",
        "Python operators are special symbols or keywords used to perform operations on variables and values.\n",
        "\n",
        "a)\tArithmetic operator: These are basic mathematical operation LIKE addition, subtraction etc.\n"
      ],
      "metadata": {
        "id": "t5oyscvhPOQy"
      }
    },
    {
      "cell_type": "code",
      "source": [
        "# Addition\n",
        "a= 5\n",
        "b= 10\n",
        "a+b\n",
        "\n"
      ],
      "metadata": {
        "colab": {
          "base_uri": "https://localhost:8080/"
        },
        "id": "xcAvMCxXf4II",
        "outputId": "3f8c4248-76d4-411e-8b8b-39e3f0d33506"
      },
      "execution_count": null,
      "outputs": [
        {
          "output_type": "execute_result",
          "data": {
            "text/plain": [
              "15"
            ]
          },
          "metadata": {},
          "execution_count": 8
        }
      ]
    },
    {
      "cell_type": "code",
      "source": [
        "\n",
        "# minus\n",
        "a= 2\n",
        "b= 5\n",
        "b-a\n",
        "\n"
      ],
      "metadata": {
        "colab": {
          "base_uri": "https://localhost:8080/"
        },
        "id": "Px0fEd-egJiq",
        "outputId": "b0606051-dcf3-401b-d02f-f88f00056250"
      },
      "execution_count": null,
      "outputs": [
        {
          "output_type": "execute_result",
          "data": {
            "text/plain": [
              "3"
            ]
          },
          "metadata": {},
          "execution_count": 9
        }
      ]
    },
    {
      "cell_type": "code",
      "source": [
        "#multiplication\n",
        "a= 9\n",
        "b= 2\n",
        "a*b\n",
        "\n"
      ],
      "metadata": {
        "colab": {
          "base_uri": "https://localhost:8080/"
        },
        "id": "AVWzVqJrgQ6i",
        "outputId": "34eb8556-6ad1-44d8-cfbc-578a9b309b4c"
      },
      "execution_count": null,
      "outputs": [
        {
          "output_type": "execute_result",
          "data": {
            "text/plain": [
              "18"
            ]
          },
          "metadata": {},
          "execution_count": 10
        }
      ]
    },
    {
      "cell_type": "code",
      "source": [
        " #division\n",
        "x= 10\n",
        "y= 5\n",
        "x/y\n",
        "\n"
      ],
      "metadata": {
        "colab": {
          "base_uri": "https://localhost:8080/"
        },
        "id": "0QlNKMAsgX3X",
        "outputId": "81fbd7ac-cfb4-479a-cca4-f0e8476357b3"
      },
      "execution_count": null,
      "outputs": [
        {
          "output_type": "execute_result",
          "data": {
            "text/plain": [
              "2.0"
            ]
          },
          "metadata": {},
          "execution_count": 11
        }
      ]
    },
    {
      "cell_type": "markdown",
      "source": [
        "b)\tModulouss operator: This operator provide remainder after dividing two variables."
      ],
      "metadata": {
        "id": "IQer32XDgjYo"
      }
    },
    {
      "cell_type": "code",
      "source": [
        "# modulous operator\n",
        "a= 31\n",
        "b= 2\n",
        "a%b\n"
      ],
      "metadata": {
        "colab": {
          "base_uri": "https://localhost:8080/"
        },
        "id": "SiiyJYA1ggbV",
        "outputId": "dbe7c093-0614-4baf-c903-0acecde755f8"
      },
      "execution_count": null,
      "outputs": [
        {
          "output_type": "execute_result",
          "data": {
            "text/plain": [
              "1"
            ]
          },
          "metadata": {},
          "execution_count": 12
        }
      ]
    },
    {
      "cell_type": "markdown",
      "source": [
        "c)\tFloor operator: This operator provides neared value after division"
      ],
      "metadata": {
        "id": "2S39kgH8giPu"
      }
    },
    {
      "cell_type": "code",
      "source": [
        "# floor operator\n",
        "a= 27\n",
        "b= 12\n",
        "a//b"
      ],
      "metadata": {
        "colab": {
          "base_uri": "https://localhost:8080/"
        },
        "id": "AIPVF5eMg0vr",
        "outputId": "b8b9ca7a-457b-4e75-dbe2-f5517204cb53"
      },
      "execution_count": null,
      "outputs": [
        {
          "output_type": "execute_result",
          "data": {
            "text/plain": [
              "2"
            ]
          },
          "metadata": {},
          "execution_count": 13
        }
      ]
    },
    {
      "cell_type": "markdown",
      "source": [
        "\n",
        "d)\tComparison operator: This operator is useful to compare two values. Example :- ==, >=,<=,!=\n"
      ],
      "metadata": {
        "id": "Eb69SJJjd2sf"
      }
    },
    {
      "cell_type": "code",
      "source": [
        "6!=9\n",
        "\n"
      ],
      "metadata": {
        "colab": {
          "base_uri": "https://localhost:8080/"
        },
        "id": "_9Bh6171C17E",
        "outputId": "d8f1441f-a6f2-4aca-aecd-24bd776f7697"
      },
      "execution_count": 1,
      "outputs": [
        {
          "output_type": "execute_result",
          "data": {
            "text/plain": [
              "True"
            ]
          },
          "metadata": {},
          "execution_count": 1
        }
      ]
    },
    {
      "cell_type": "code",
      "source": [
        "7<=8 #less than equal to\n"
      ],
      "metadata": {
        "colab": {
          "base_uri": "https://localhost:8080/"
        },
        "id": "CX9SKLRhDLnx",
        "outputId": "cafb3cb9-13d6-4fb5-85b7-3eae551dac04"
      },
      "execution_count": 2,
      "outputs": [
        {
          "output_type": "execute_result",
          "data": {
            "text/plain": [
              "True"
            ]
          },
          "metadata": {},
          "execution_count": 2
        }
      ]
    },
    {
      "cell_type": "code",
      "source": [
        "10>12 #more than\n"
      ],
      "metadata": {
        "id": "ahyY5lJmg9qM",
        "colab": {
          "base_uri": "https://localhost:8080/"
        },
        "outputId": "7103e845-f11b-44bb-ab6e-b5a86142158a"
      },
      "execution_count": 3,
      "outputs": [
        {
          "output_type": "execute_result",
          "data": {
            "text/plain": [
              "False"
            ]
          },
          "metadata": {},
          "execution_count": 3
        }
      ]
    },
    {
      "cell_type": "markdown",
      "source": [
        "e)\tLogical operator: This operator used to connect two variable and produce Boolean value as a result. This is sub-divide into AND and OR operator."
      ],
      "metadata": {
        "id": "GXYKLqMfDqcl"
      }
    },
    {
      "cell_type": "code",
      "source": [
        "#and operator\n",
        "1 and 1\n",
        "\n"
      ],
      "metadata": {
        "id": "M0NoSD4FgIQw",
        "colab": {
          "base_uri": "https://localhost:8080/"
        },
        "outputId": "d58fde01-81ae-4e89-de5c-a82a592ca72a"
      },
      "execution_count": 6,
      "outputs": [
        {
          "output_type": "execute_result",
          "data": {
            "text/plain": [
              "1"
            ]
          },
          "metadata": {},
          "execution_count": 6
        }
      ]
    },
    {
      "cell_type": "code",
      "source": [
        "0 and 0\n"
      ],
      "metadata": {
        "id": "5t6PwYVXQlFR",
        "colab": {
          "base_uri": "https://localhost:8080/"
        },
        "outputId": "7cd1b9ae-7e17-4c04-d2b4-ceb976c55537"
      },
      "execution_count": 7,
      "outputs": [
        {
          "output_type": "execute_result",
          "data": {
            "text/plain": [
              "0"
            ]
          },
          "metadata": {},
          "execution_count": 7
        }
      ]
    },
    {
      "cell_type": "code",
      "source": [
        "1 and 0\n"
      ],
      "metadata": {
        "id": "hWiSLgmSPOmW",
        "colab": {
          "base_uri": "https://localhost:8080/"
        },
        "outputId": "0c5c1ed2-e295-445a-9174-b345178cb840"
      },
      "execution_count": 8,
      "outputs": [
        {
          "output_type": "execute_result",
          "data": {
            "text/plain": [
              "0"
            ]
          },
          "metadata": {},
          "execution_count": 8
        }
      ]
    },
    {
      "cell_type": "code",
      "source": [
        "# OR operator\n",
        "1 or 1\n"
      ],
      "metadata": {
        "colab": {
          "base_uri": "https://localhost:8080/"
        },
        "id": "PAdK-7OAERS2",
        "outputId": "ef0c6859-d1d0-4660-80db-390a3f3f4737"
      },
      "execution_count": 9,
      "outputs": [
        {
          "output_type": "execute_result",
          "data": {
            "text/plain": [
              "1"
            ]
          },
          "metadata": {},
          "execution_count": 9
        }
      ]
    },
    {
      "cell_type": "code",
      "source": [
        "1 or 0"
      ],
      "metadata": {
        "colab": {
          "base_uri": "https://localhost:8080/"
        },
        "id": "8KjZymnwEZy0",
        "outputId": "8fd9aa18-4fee-4e74-9a08-94ff45e2bced"
      },
      "execution_count": 10,
      "outputs": [
        {
          "output_type": "execute_result",
          "data": {
            "text/plain": [
              "1"
            ]
          },
          "metadata": {},
          "execution_count": 10
        }
      ]
    },
    {
      "cell_type": "code",
      "source": [
        "0 or 1"
      ],
      "metadata": {
        "colab": {
          "base_uri": "https://localhost:8080/"
        },
        "id": "RNCZViC_EcYz",
        "outputId": "fb3c120e-fd04-414c-880b-a29dd8583693"
      },
      "execution_count": 11,
      "outputs": [
        {
          "output_type": "execute_result",
          "data": {
            "text/plain": [
              "1"
            ]
          },
          "metadata": {},
          "execution_count": 11
        }
      ]
    },
    {
      "cell_type": "markdown",
      "source": [
        "f)\tAssignment operator= Assign the value to operator is known as assignment operator"
      ],
      "metadata": {
        "id": "MfpQhuuUEjDl"
      }
    },
    {
      "cell_type": "code",
      "source": [
        "a= 10\n",
        "a+=6\n",
        "a\n"
      ],
      "metadata": {
        "colab": {
          "base_uri": "https://localhost:8080/"
        },
        "id": "rLH3VPH7EccW",
        "outputId": "a60ba051-ad98-4be3-cb11-2653cbd07cf3"
      },
      "execution_count": 15,
      "outputs": [
        {
          "output_type": "execute_result",
          "data": {
            "text/plain": [
              "16"
            ]
          },
          "metadata": {},
          "execution_count": 15
        }
      ]
    },
    {
      "cell_type": "code",
      "source": [
        "b= 5\n",
        "b-=1\n",
        "b\n"
      ],
      "metadata": {
        "colab": {
          "base_uri": "https://localhost:8080/"
        },
        "id": "EqNQCzAuE4Sv",
        "outputId": "dfd2665a-b8ef-473d-9cba-006946176dbc"
      },
      "execution_count": 16,
      "outputs": [
        {
          "output_type": "execute_result",
          "data": {
            "text/plain": [
              "4"
            ]
          },
          "metadata": {},
          "execution_count": 16
        }
      ]
    },
    {
      "cell_type": "markdown",
      "source": [
        "g)\tMembership operator: this operator helps to check whether the object belongs to that particular block or not."
      ],
      "metadata": {
        "id": "Jh2cxfQsNzsd"
      }
    },
    {
      "cell_type": "code",
      "source": [
        "#membership operator\n",
        "abc= \"Mango\"\n",
        "'g' in abc\n"
      ],
      "metadata": {
        "colab": {
          "base_uri": "https://localhost:8080/"
        },
        "id": "3QLBqTNwFCja",
        "outputId": "5c1ec556-9de0-4990-f412-bb35eaec7cce"
      },
      "execution_count": 17,
      "outputs": [
        {
          "output_type": "execute_result",
          "data": {
            "text/plain": [
              "True"
            ]
          },
          "metadata": {},
          "execution_count": 17
        }
      ]
    },
    {
      "cell_type": "code",
      "source": [
        "xy= \"Rainbow\"\n",
        "'R' not in xy\n"
      ],
      "metadata": {
        "colab": {
          "base_uri": "https://localhost:8080/"
        },
        "id": "u1vEQfnTFNFu",
        "outputId": "53e24896-dfb2-48e0-ebcc-acd97dfba275"
      },
      "execution_count": 18,
      "outputs": [
        {
          "output_type": "execute_result",
          "data": {
            "text/plain": [
              "False"
            ]
          },
          "metadata": {},
          "execution_count": 18
        }
      ]
    },
    {
      "cell_type": "markdown",
      "source": [
        "h)\tIdentity operator: It helps to compare the location of two object and always gives result in Boolean value."
      ],
      "metadata": {
        "id": "prmTIGhKN1iP"
      }
    },
    {
      "cell_type": "code",
      "source": [
        "#identify operator\n",
        "x=9\n",
        "y=7\n",
        "x is y"
      ],
      "metadata": {
        "colab": {
          "base_uri": "https://localhost:8080/"
        },
        "id": "1OvbTRY2FXYd",
        "outputId": "38ab166f-41ed-4312-b486-6bd10ec899f0"
      },
      "execution_count": 23,
      "outputs": [
        {
          "output_type": "execute_result",
          "data": {
            "text/plain": [
              "False"
            ]
          },
          "metadata": {},
          "execution_count": 23
        }
      ]
    },
    {
      "cell_type": "markdown",
      "source": [
        "i)Binary operator: Operation at bit level i.e., representing the Integer in binary form..\n"
      ],
      "metadata": {
        "id": "4IVaMacZNLjo"
      }
    },
    {
      "cell_type": "code",
      "source": [
        "3 & 6\n"
      ],
      "metadata": {
        "colab": {
          "base_uri": "https://localhost:8080/"
        },
        "id": "g1-br0WrFqTU",
        "outputId": "ee77fdb5-24e5-468c-ca42-7a7b10a10b9a"
      },
      "execution_count": 25,
      "outputs": [
        {
          "output_type": "execute_result",
          "data": {
            "text/plain": [
              "2"
            ]
          },
          "metadata": {},
          "execution_count": 25
        }
      ]
    },
    {
      "cell_type": "code",
      "source": [
        "bin(3)"
      ],
      "metadata": {
        "colab": {
          "base_uri": "https://localhost:8080/",
          "height": 36
        },
        "id": "YWp4Vi4uFy2w",
        "outputId": "77adb386-b5aa-44db-8ba1-9c7fd6478755"
      },
      "execution_count": 26,
      "outputs": [
        {
          "output_type": "execute_result",
          "data": {
            "text/plain": [
              "'0b11'"
            ],
            "application/vnd.google.colaboratory.intrinsic+json": {
              "type": "string"
            }
          },
          "metadata": {},
          "execution_count": 26
        }
      ]
    },
    {
      "cell_type": "code",
      "source": [
        "bin(6)"
      ],
      "metadata": {
        "colab": {
          "base_uri": "https://localhost:8080/",
          "height": 36
        },
        "id": "Xub5DNeWFy6V",
        "outputId": "49b56a41-d10b-4dad-d5a0-3f7fa3277357"
      },
      "execution_count": 27,
      "outputs": [
        {
          "output_type": "execute_result",
          "data": {
            "text/plain": [
              "'0b110'"
            ],
            "application/vnd.google.colaboratory.intrinsic+json": {
              "type": "string"
            }
          },
          "metadata": {},
          "execution_count": 27
        }
      ]
    },
    {
      "cell_type": "markdown",
      "source": [],
      "metadata": {
        "id": "t1HiOG_8NCt5"
      }
    },
    {
      "cell_type": "code",
      "source": [
        "# or operator\n",
        "3|5\n",
        "\n"
      ],
      "metadata": {
        "colab": {
          "base_uri": "https://localhost:8080/"
        },
        "id": "2FJn06n-GCvB",
        "outputId": "e3b87f7b-9561-4d81-a485-5abc0ff6f9d5"
      },
      "execution_count": 29,
      "outputs": [
        {
          "output_type": "execute_result",
          "data": {
            "text/plain": [
              "7"
            ]
          },
          "metadata": {},
          "execution_count": 29
        }
      ]
    },
    {
      "cell_type": "code",
      "source": [
        "bin(3)"
      ],
      "metadata": {
        "colab": {
          "base_uri": "https://localhost:8080/",
          "height": 36
        },
        "id": "P5Zp1p3UGKIJ",
        "outputId": "16c027b3-b1b7-4ae3-a505-6c2f9900e7c0"
      },
      "execution_count": 30,
      "outputs": [
        {
          "output_type": "execute_result",
          "data": {
            "text/plain": [
              "'0b11'"
            ],
            "application/vnd.google.colaboratory.intrinsic+json": {
              "type": "string"
            }
          },
          "metadata": {},
          "execution_count": 30
        }
      ]
    },
    {
      "cell_type": "code",
      "source": [
        "bin(5)"
      ],
      "metadata": {
        "colab": {
          "base_uri": "https://localhost:8080/",
          "height": 36
        },
        "id": "rW512n3_GKit",
        "outputId": "4d5f5d4c-1c28-42b1-a38e-28dea4e362aa"
      },
      "execution_count": 31,
      "outputs": [
        {
          "output_type": "execute_result",
          "data": {
            "text/plain": [
              "'0b101'"
            ],
            "application/vnd.google.colaboratory.intrinsic+json": {
              "type": "string"
            }
          },
          "metadata": {},
          "execution_count": 31
        }
      ]
    },
    {
      "cell_type": "code",
      "source": [
        "bin(7)"
      ],
      "metadata": {
        "colab": {
          "base_uri": "https://localhost:8080/",
          "height": 36
        },
        "id": "E3B6QxP-GPEC",
        "outputId": "a11e4dc9-86fc-4789-a22d-f1d6cd11f499"
      },
      "execution_count": 32,
      "outputs": [
        {
          "output_type": "execute_result",
          "data": {
            "text/plain": [
              "'0b111'"
            ],
            "application/vnd.google.colaboratory.intrinsic+json": {
              "type": "string"
            }
          },
          "metadata": {},
          "execution_count": 32
        }
      ]
    },
    {
      "cell_type": "code",
      "source": [
        "#Negotiation operator\n",
        "~8\n"
      ],
      "metadata": {
        "colab": {
          "base_uri": "https://localhost:8080/"
        },
        "id": "hlMlvtOEGdER",
        "outputId": "fa854ef2-c371-43ce-da7e-89457d03dc99"
      },
      "execution_count": 35,
      "outputs": [
        {
          "output_type": "execute_result",
          "data": {
            "text/plain": [
              "-9"
            ]
          },
          "metadata": {},
          "execution_count": 35
        }
      ]
    },
    {
      "cell_type": "code",
      "source": [
        "~99"
      ],
      "metadata": {
        "colab": {
          "base_uri": "https://localhost:8080/"
        },
        "id": "ALC4-Jm3Gogd",
        "outputId": "c806deab-7edf-4c26-f601-a4bfb589bcbf"
      },
      "execution_count": 36,
      "outputs": [
        {
          "output_type": "execute_result",
          "data": {
            "text/plain": [
              "-100"
            ]
          },
          "metadata": {},
          "execution_count": 36
        }
      ]
    },
    {
      "cell_type": "markdown",
      "source": [
        "K) Bitwise XOR operator: it is return 1 only when one operand is 1 ."
      ],
      "metadata": {
        "id": "gd7ZcQLMGXHl"
      }
    },
    {
      "cell_type": "code",
      "source": [
        "2^4\n",
        "\n"
      ],
      "metadata": {
        "colab": {
          "base_uri": "https://localhost:8080/"
        },
        "id": "tPz_OKc1GxZG",
        "outputId": "1963a73a-6cf6-4052-c0d2-5f27376ffc7b"
      },
      "execution_count": 38,
      "outputs": [
        {
          "output_type": "execute_result",
          "data": {
            "text/plain": [
              "6"
            ]
          },
          "metadata": {},
          "execution_count": 38
        }
      ]
    },
    {
      "cell_type": "code",
      "source": [
        "bin(2)\n"
      ],
      "metadata": {
        "colab": {
          "base_uri": "https://localhost:8080/",
          "height": 36
        },
        "id": "oZHQEHNuG4Ro",
        "outputId": "5053bb5c-c64c-4262-a293-918e4a103a64"
      },
      "execution_count": 39,
      "outputs": [
        {
          "output_type": "execute_result",
          "data": {
            "text/plain": [
              "'0b10'"
            ],
            "application/vnd.google.colaboratory.intrinsic+json": {
              "type": "string"
            }
          },
          "metadata": {},
          "execution_count": 39
        }
      ]
    },
    {
      "cell_type": "code",
      "source": [
        "\n",
        "bin(4)"
      ],
      "metadata": {
        "colab": {
          "base_uri": "https://localhost:8080/",
          "height": 36
        },
        "id": "e9R8efoRG4VC",
        "outputId": "6fe52d3b-106f-4d45-96d6-3a83280815d1"
      },
      "execution_count": 40,
      "outputs": [
        {
          "output_type": "execute_result",
          "data": {
            "text/plain": [
              "'0b100'"
            ],
            "application/vnd.google.colaboratory.intrinsic+json": {
              "type": "string"
            }
          },
          "metadata": {},
          "execution_count": 40
        }
      ]
    },
    {
      "cell_type": "markdown",
      "source": [
        "L) Shift operator: there are two types of shift operator :-\n",
        "  \n",
        "   i)left operator: it shifts the zero from left to right end\n",
        "  \n",
        "   ii) right operator: it remove the zeroes from right side\n"
      ],
      "metadata": {
        "id": "6gkkMAuwG9FX"
      }
    },
    {
      "cell_type": "code",
      "source": [
        "#left shift operator\n",
        "4<<1\n",
        "\n"
      ],
      "metadata": {
        "colab": {
          "base_uri": "https://localhost:8080/"
        },
        "id": "2-yMHgnnHWmh",
        "outputId": "d9017ed7-dab2-415c-e0e6-eac299266053"
      },
      "execution_count": 45,
      "outputs": [
        {
          "output_type": "execute_result",
          "data": {
            "text/plain": [
              "8"
            ]
          },
          "metadata": {},
          "execution_count": 45
        }
      ]
    },
    {
      "cell_type": "code",
      "source": [
        "bin(4)"
      ],
      "metadata": {
        "colab": {
          "base_uri": "https://localhost:8080/",
          "height": 36
        },
        "id": "ewALexueHg-W",
        "outputId": "8f419842-ffc4-4300-aee4-3a1ec9188291"
      },
      "execution_count": 46,
      "outputs": [
        {
          "output_type": "execute_result",
          "data": {
            "text/plain": [
              "'0b100'"
            ],
            "application/vnd.google.colaboratory.intrinsic+json": {
              "type": "string"
            }
          },
          "metadata": {},
          "execution_count": 46
        }
      ]
    },
    {
      "cell_type": "code",
      "source": [
        "bin(8) # shifted one zero"
      ],
      "metadata": {
        "colab": {
          "base_uri": "https://localhost:8080/",
          "height": 36
        },
        "id": "s1l78q7WHuaF",
        "outputId": "bbc1d7c7-54a8-45ee-bda4-1028ac2462d1"
      },
      "execution_count": 47,
      "outputs": [
        {
          "output_type": "execute_result",
          "data": {
            "text/plain": [
              "'0b1000'"
            ],
            "application/vnd.google.colaboratory.intrinsic+json": {
              "type": "string"
            }
          },
          "metadata": {},
          "execution_count": 47
        }
      ]
    },
    {
      "cell_type": "code",
      "source": [
        "# right shift operator\n",
        "\n",
        "12>>1\n"
      ],
      "metadata": {
        "colab": {
          "base_uri": "https://localhost:8080/"
        },
        "id": "ss7zhZRMH6lE",
        "outputId": "cdbfe2e2-0973-4e68-a9bb-d32c8d1a45b6"
      },
      "execution_count": 48,
      "outputs": [
        {
          "output_type": "execute_result",
          "data": {
            "text/plain": [
              "6"
            ]
          },
          "metadata": {},
          "execution_count": 48
        }
      ]
    },
    {
      "cell_type": "code",
      "source": [
        "bin(6)"
      ],
      "metadata": {
        "colab": {
          "base_uri": "https://localhost:8080/",
          "height": 36
        },
        "id": "1vaBBnLoIFCQ",
        "outputId": "08ea77a8-a1e7-4b75-f4c1-40cf89ca42c6"
      },
      "execution_count": 49,
      "outputs": [
        {
          "output_type": "execute_result",
          "data": {
            "text/plain": [
              "'0b110'"
            ],
            "application/vnd.google.colaboratory.intrinsic+json": {
              "type": "string"
            }
          },
          "metadata": {},
          "execution_count": 49
        }
      ]
    },
    {
      "cell_type": "code",
      "source": [
        "bin(12) #remove one zero at the end\n"
      ],
      "metadata": {
        "colab": {
          "base_uri": "https://localhost:8080/",
          "height": 36
        },
        "id": "h28hA0oJIFFy",
        "outputId": "fa614755-65b5-489b-e570-f2b87cb91ae3"
      },
      "execution_count": 50,
      "outputs": [
        {
          "output_type": "execute_result",
          "data": {
            "text/plain": [
              "'0b1100'"
            ],
            "application/vnd.google.colaboratory.intrinsic+json": {
              "type": "string"
            }
          },
          "metadata": {},
          "execution_count": 50
        }
      ]
    },
    {
      "cell_type": "markdown",
      "source": [
        "# **QUES 5) Explain the concept of type casting in Python with examples.\n",
        "# ANS-\n",
        "Type casting or conversion means changing the data type of value / object. sometimes we see mismatch between 2 operator and for performing the operation, we required to change the type of data.\n",
        "**"
      ],
      "metadata": {
        "id": "o1GYXsrhNBqb"
      }
    },
    {
      "cell_type": "code",
      "source": [
        "#type casting\n",
        "a= '78'# string\n",
        "#convert into int\n",
        "int(a)"
      ],
      "metadata": {
        "colab": {
          "base_uri": "https://localhost:8080/"
        },
        "id": "cz8kG6FJIeH8",
        "outputId": "882e4ae1-8321-4a9c-9c87-75550d7b4073"
      },
      "execution_count": 51,
      "outputs": [
        {
          "output_type": "execute_result",
          "data": {
            "text/plain": [
              "78"
            ]
          },
          "metadata": {},
          "execution_count": 51
        }
      ]
    },
    {
      "cell_type": "code",
      "source": [
        "\n",
        "# conventing Int into float\n",
        "float(a)\n"
      ],
      "metadata": {
        "colab": {
          "base_uri": "https://localhost:8080/"
        },
        "id": "DCYPX6cqIeWp",
        "outputId": "6526a70f-9000-4a74-e49b-80ab5dea7b89"
      },
      "execution_count": 52,
      "outputs": [
        {
          "output_type": "execute_result",
          "data": {
            "text/plain": [
              "78.0"
            ]
          },
          "metadata": {},
          "execution_count": 52
        }
      ]
    },
    {
      "cell_type": "code",
      "source": [
        "#Converting float into str\n",
        "str(a)"
      ],
      "metadata": {
        "colab": {
          "base_uri": "https://localhost:8080/",
          "height": 36
        },
        "id": "7pUe3wA8Ivd2",
        "outputId": "b5705e95-4031-457a-900c-195b9b40dd63"
      },
      "execution_count": 53,
      "outputs": [
        {
          "output_type": "execute_result",
          "data": {
            "text/plain": [
              "'78'"
            ],
            "application/vnd.google.colaboratory.intrinsic+json": {
              "type": "string"
            }
          },
          "metadata": {},
          "execution_count": 53
        }
      ]
    },
    {
      "cell_type": "code",
      "source": [
        "# condition statement\n",
        "#if statement\n",
        "score = 185\n",
        "if score >=100:\n",
        "    print ('century')\n"
      ],
      "metadata": {
        "colab": {
          "base_uri": "https://localhost:8080/"
        },
        "id": "vgZ3TlJTJL_4",
        "outputId": "e7309cac-c657-4c5e-809f-542e2e4d1dad"
      },
      "execution_count": 54,
      "outputs": [
        {
          "output_type": "stream",
          "name": "stdout",
          "text": [
            "century\n"
          ]
        }
      ]
    },
    {
      "cell_type": "markdown",
      "source": [
        "# QUES 6) How do conditional statements work in Python? Illustrate with examples.\n",
        "# ANS-\n",
        "\n"
      ],
      "metadata": {
        "id": "HUhYA7qfIxXo"
      }
    },
    {
      "cell_type": "markdown",
      "source": [
        "1) if statement : if statement is a selection statement that allows more than one possible flow of control."
      ],
      "metadata": {
        "id": "oi6CoGwzJjum"
      }
    },
    {
      "cell_type": "code",
      "source": [
        "# next\n",
        "score = 100\n",
        "Name= 'Alex'\n",
        "if ((score>=100)&(Name=='Alex')):\n",
        "    print(\"we won \")\n"
      ],
      "metadata": {
        "colab": {
          "base_uri": "https://localhost:8080/"
        },
        "id": "dpflvgzmJRVA",
        "outputId": "b1825836-2214-4842-93f1-7916b0844347"
      },
      "execution_count": 55,
      "outputs": [
        {
          "output_type": "stream",
          "name": "stdout",
          "text": [
            "we won \n"
          ]
        }
      ]
    },
    {
      "cell_type": "markdown",
      "source": [
        "2) if else statement: In this, if previous 1st condition is not true then else is printed"
      ],
      "metadata": {
        "id": "Culey3T1JadD"
      }
    },
    {
      "cell_type": "code",
      "source": [
        "# if else statement\n",
        "marks=86\n",
        "if marks>50:\n",
        "    print(\"pass\")\n",
        "else:\n",
        "    print(\"fail\")\n"
      ],
      "metadata": {
        "colab": {
          "base_uri": "https://localhost:8080/"
        },
        "id": "4kZmNqBUJZVb",
        "outputId": "cfc3dcf6-32f7-4444-97b2-a2b00decb718"
      },
      "execution_count": 56,
      "outputs": [
        {
          "output_type": "stream",
          "name": "stdout",
          "text": [
            "pass\n"
          ]
        }
      ]
    },
    {
      "cell_type": "markdown",
      "source": [
        "3) if Elif else: This statement used when we want to add multiple statement and print the statement if previous were not true."
      ],
      "metadata": {
        "id": "bKu2g3FfJ3bw"
      }
    },
    {
      "cell_type": "code",
      "source": [
        "# if elif else\n",
        "marks = 76\n",
        "if 50>marks>33:\n",
        "    print(\"grade C\")\n",
        "elif 75>marks>50:\n",
        "    print(\"grade B\")\n",
        "else:\n",
        "    print (\"grade A\")\n"
      ],
      "metadata": {
        "colab": {
          "base_uri": "https://localhost:8080/"
        },
        "id": "-9mmvZ6XJ5tF",
        "outputId": "39341669-b656-476c-c854-ef8f99587a06"
      },
      "execution_count": 57,
      "outputs": [
        {
          "output_type": "stream",
          "name": "stdout",
          "text": [
            "grade A\n"
          ]
        }
      ]
    },
    {
      "cell_type": "markdown",
      "source": [
        "4) nested if else: In this, one can add multiple if else statement in if."
      ],
      "metadata": {
        "id": "nc4kUNL9J-3Y"
      }
    },
    {
      "cell_type": "code",
      "source": [
        "#nested if else\n",
        "age=20\n",
        "status= 'Old'\n",
        "if age>=18:\n",
        "    if status=='young':\n",
        "        print(\"pay 100\")\n",
        "    else:\n",
        "       print(\"pay 50\")\n",
        "\n",
        "else:\n",
        "    print(\"not eligible \")\n"
      ],
      "metadata": {
        "colab": {
          "base_uri": "https://localhost:8080/"
        },
        "id": "85kiBqTsKG-m",
        "outputId": "09dde4ce-0003-4243-acd9-87a272b101be"
      },
      "execution_count": 60,
      "outputs": [
        {
          "output_type": "stream",
          "name": "stdout",
          "text": [
            "pay 50\n"
          ]
        }
      ]
    },
    {
      "cell_type": "code",
      "source": [
        "# Nested if else\n",
        "name= input(\"your name\")\n",
        "phone_no= input(\"your phn no.\")\n",
        "date_of_joining= input(\"Date of joining \")\n",
        "if name==\"\":\n",
        "    print(\"your name\")\n",
        "elif len(phone_no)<10:\n",
        "    print ('invalid number ')\n",
        "elif '2024' not in date_of_joining:\n",
        "    print (\"give valid year\")\n",
        "else:\n",
        "    print(\"successfully registered\")"
      ],
      "metadata": {
        "colab": {
          "base_uri": "https://localhost:8080/"
        },
        "id": "rXpIF9waKOFL",
        "outputId": "120a2518-024e-403d-f655-fd4800246dfc"
      },
      "execution_count": 64,
      "outputs": [
        {
          "output_type": "stream",
          "name": "stdout",
          "text": [
            "your name RASHI\n",
            "your phn no.4562565498\n",
            "Date of joining 29/10/2024\n",
            "successfully registered\n"
          ]
        }
      ]
    },
    {
      "cell_type": "markdown",
      "source": [
        "# **QUES 7) Describe the different types of loops in Python and their use cases with examples\n",
        "# ANS-\n",
        "\n",
        "There are 2 types of loops in python\n",
        "\n",
        "a)\twhile loop - it is executed the code until the condition is met.\n"
      ],
      "metadata": {
        "id": "iveKfX88KlUH"
      }
    },
    {
      "cell_type": "code",
      "source": [
        "# while loop\n",
        "a= 10\n",
        "b= 5\n",
        "while b<a:\n",
        "    print (b)\n",
        "    b=b+1\n",
        "\n",
        "\n"
      ],
      "metadata": {
        "colab": {
          "base_uri": "https://localhost:8080/"
        },
        "id": "ImYoCQd6KkU4",
        "outputId": "274635e8-55b1-4c9c-8708-39fcb985f57a"
      },
      "execution_count": 65,
      "outputs": [
        {
          "output_type": "stream",
          "name": "stdout",
          "text": [
            "5\n",
            "6\n",
            "7\n",
            "8\n",
            "9\n"
          ]
        }
      ]
    },
    {
      "cell_type": "code",
      "source": [
        "# along with else\n",
        "a= 6\n",
        "b= 2\n",
        "while b<a:\n",
        "    print (b)\n",
        "    b=b+1\n",
        "else:\n",
        "    print('complete')\n"
      ],
      "metadata": {
        "colab": {
          "base_uri": "https://localhost:8080/"
        },
        "id": "eW6n9avgLE4e",
        "outputId": "ea2d31b2-db0d-486a-850c-9674f9048328"
      },
      "execution_count": 66,
      "outputs": [
        {
          "output_type": "stream",
          "name": "stdout",
          "text": [
            "2\n",
            "3\n",
            "4\n",
            "5\n",
            "complete\n"
          ]
        }
      ]
    },
    {
      "cell_type": "code",
      "source": [
        "\n",
        "# along with break\n",
        "a= 10\n",
        "b=5\n",
        "while b<a:\n",
        "    print(b)\n",
        "    b=b+1\n",
        "    if b==5:\n",
        "        break"
      ],
      "metadata": {
        "colab": {
          "base_uri": "https://localhost:8080/"
        },
        "id": "fc3nlFfkLHn3",
        "outputId": "61194d2f-cbc8-4c94-cfd4-c5aa39ee596f"
      },
      "execution_count": 68,
      "outputs": [
        {
          "output_type": "stream",
          "name": "stdout",
          "text": [
            "5\n",
            "6\n",
            "7\n",
            "8\n",
            "9\n"
          ]
        }
      ]
    },
    {
      "cell_type": "markdown",
      "source": [
        "b)\tFor loop - it is executed the elements of code in sequence wise."
      ],
      "metadata": {
        "id": "D16scFvXLOLC"
      }
    },
    {
      "cell_type": "code",
      "source": [
        "#for loop\n",
        "a=\"Moonlight\"\n",
        "for a in 'moonlight':\n",
        "    print (a)\n",
        "\n"
      ],
      "metadata": {
        "colab": {
          "base_uri": "https://localhost:8080/"
        },
        "id": "KBkz5BzALS0R",
        "outputId": "26110f97-171d-445f-c874-a76c0d5487a9"
      },
      "execution_count": 69,
      "outputs": [
        {
          "output_type": "stream",
          "name": "stdout",
          "text": [
            "m\n",
            "o\n",
            "o\n",
            "n\n",
            "l\n",
            "i\n",
            "g\n",
            "h\n",
            "t\n"
          ]
        }
      ]
    },
    {
      "cell_type": "code",
      "source": [
        "list_c=['lily',45,829,63,\"Varnish\"]\n",
        "for a in list_c:\n",
        "    print (a)\n",
        "for b in range(0,5):\n",
        "    print (b)\n",
        "\n"
      ],
      "metadata": {
        "colab": {
          "base_uri": "https://localhost:8080/"
        },
        "id": "b5Szt5njLY98",
        "outputId": "86903be6-15fa-49fb-a9a4-e0517c315a59"
      },
      "execution_count": 70,
      "outputs": [
        {
          "output_type": "stream",
          "name": "stdout",
          "text": [
            "lily\n",
            "45\n",
            "829\n",
            "63\n",
            "Varnish\n",
            "0\n",
            "1\n",
            "2\n",
            "3\n",
            "4\n"
          ]
        }
      ]
    },
    {
      "cell_type": "markdown",
      "source": [],
      "metadata": {
        "id": "n-RNpMY7KCj0"
      }
    }
  ]
}